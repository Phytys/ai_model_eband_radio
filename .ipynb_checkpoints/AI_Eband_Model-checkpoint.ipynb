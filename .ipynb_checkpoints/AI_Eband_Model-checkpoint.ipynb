{
 "cells": [
  {
   "cell_type": "markdown",
   "metadata": {},
   "source": [
    "# AI Eband Model\n",
    "\n",
    "Glenn Landgren Consulting\n",
    "glennconsulting@outlook.com\n"
   ]
  },
  {
   "cell_type": "markdown",
   "metadata": {},
   "source": [
    "## 1. Imports"
   ]
  },
  {
   "cell_type": "code",
   "execution_count": 1,
   "metadata": {},
   "outputs": [
    {
     "name": "stderr",
     "output_type": "stream",
     "text": [
      "Using TensorFlow backend.\n"
     ]
    }
   ],
   "source": [
    "import numpy as np\n",
    "import pandas as pd\n",
    "\n",
    "import sklearn\n",
    "\n",
    "from matplotlib import pyplot\n",
    "\n",
    "from keras.models import Sequential\n",
    "from keras.layers import Dense\n",
    "from keras.layers import Flatten\n",
    "from keras.layers import Dropout\n",
    "from keras.layers import Permute\n",
    "from keras.layers.convolutional import Conv1D\n",
    "from keras.layers.convolutional import MaxPooling1D\n",
    "from keras.utils import to_categorical, normalize\n",
    "\n"
   ]
  },
  {
   "cell_type": "markdown",
   "metadata": {},
   "source": [
    "## 2. Get raw train data"
   ]
  },
  {
   "cell_type": "code",
   "execution_count": 2,
   "metadata": {},
   "outputs": [
    {
     "name": "stdout",
     "output_type": "stream",
     "text": [
      "Shape of raw data: (46842, 58)\n",
      "11710\n"
     ]
    }
   ],
   "source": [
    "data_raw_train = pd.read_csv(\"dataset/AUG_CNN_4_ROWS_eband_collected_train_data_2019-09-22.csv\")\n",
    "print(\"Shape of raw data:\", data_raw_train.shape)\n",
    "print(data_raw_train.shape[0]//4)"
   ]
  },
  {
   "cell_type": "markdown",
   "metadata": {},
   "source": [
    "## 3. Prepare dataset, X and Y\n"
   ]
  },
  {
   "cell_type": "markdown",
   "metadata": {},
   "source": [
    "### 3.1  X_temp\n",
    "- Each row\n",
    "    - ACM modulation in second\n",
    "    - Mod changes\n",
    "    - ES,SES, UAS\n",
    "    - Rx\n",
    "    - Far-End ES,SES, UAS\n",
    "    - Far-End Rx\n",
    "    - Far-End Mod changes"
   ]
  },
  {
   "cell_type": "code",
   "execution_count": 3,
   "metadata": {},
   "outputs": [
    {
     "name": "stdout",
     "output_type": "stream",
     "text": [
      "Shape of X_temp (after dropped columns): (46842, 43)\n"
     ]
    }
   ],
   "source": [
    "# Drop columns not used by X train set\n",
    "X_temp = data_raw_train.drop([\"NeId\", \"Time\", \"NeAlias\", \"NeType\", \"FailureDescription\", \"FarEnd_NeAlias\",\"pred_group\", \"Y label\",\"Y 2\"], axis=1 )\n",
    "X_temp.drop([\"QAM2048_Strong\", \"QAM2048\", \"QAM2048_Light\",\"QAM4096_Strong\",\"QAM4096\", \"QAM4096_Light\"], axis=1, inplace=True)\n",
    "\n",
    "print(\"Shape of X_temp (after dropped columns):\", X_temp.shape)\n",
    "\n",
    "# export to csv and follow up on structure\n",
    "X_temp.to_csv('temp_outputs/X_temp.csv', sep=',', header=True, float_format='%.2f', index=False)\n"
   ]
  },
  {
   "cell_type": "code",
   "execution_count": null,
   "metadata": {},
   "outputs": [],
   "source": []
  },
  {
   "cell_type": "markdown",
   "metadata": {},
   "source": [
    "### 3.2 Y_temp:\n",
    "- Select column with Y label"
   ]
  },
  {
   "cell_type": "code",
   "execution_count": 4,
   "metadata": {},
   "outputs": [
    {
     "name": "stdout",
     "output_type": "stream",
     "text": [
      "shape of Y_temp: (46842,)\n"
     ]
    }
   ],
   "source": [
    "Y_temp = data_raw_train.loc[:, \"Y label\"]\n",
    "\n",
    "print(\"shape of Y_temp:\",Y_temp.shape)"
   ]
  },
  {
   "cell_type": "markdown",
   "metadata": {},
   "source": [
    "## 4. Group timeperiods (rows) into training example 3d array X,  and labels Y"
   ]
  },
  {
   "cell_type": "markdown",
   "metadata": {},
   "source": [
    "### 4.1 Function selects the \"LAST\" Y label for grouped sequences"
   ]
  },
  {
   "cell_type": "code",
   "execution_count": 5,
   "metadata": {},
   "outputs": [],
   "source": [
    "def group_time_periods(periods):\n",
    "\n",
    "    m = Y_temp.shape[0]\n",
    "    m_periods = m//periods\n",
    "    print(\"m is:\", m)\n",
    "    print(\"m_periods is (train ex after grouping):\", m_periods)\n",
    "    Y = np.zeros((m_periods, 1))\n",
    "\n",
    "    for i in range(m_periods):\n",
    "        select_labels =  Y_temp[i* periods : i * periods + periods, :]\n",
    "        last_label = select_labels [0-1]\n",
    "        Y[i, :] = last_label\n",
    "        \n",
    "        \n",
    "    return Y"
   ]
  },
  {
   "cell_type": "markdown",
   "metadata": {},
   "source": [
    "### 4.2 Define how many sequence_periods to group into one example"
   ]
  },
  {
   "cell_type": "code",
   "execution_count": 6,
   "metadata": {},
   "outputs": [
    {
     "name": "stdout",
     "output_type": "stream",
     "text": [
      "remainder is : 2\n",
      "shape of X_temp : (46840, 43)\n",
      "shape of X: (11710, 4, 43)\n",
      "shape of Y_temp : (46840,)\n",
      "m is: 46840\n",
      "m_periods is (train ex after grouping): 11710\n",
      "shape of Y: (11710, 1)\n"
     ]
    }
   ],
   "source": [
    "###################################\n",
    "time_periods_to_group = 4\n",
    "##################################\n",
    "\n",
    "# find remainder\n",
    "r = X_temp.shape[0] % time_periods_to_group\n",
    "print(\"remainder is :\", r)\n",
    "\n",
    "\n",
    "# will give you a new df without the first rows (if remainder is > 0)\n",
    "X_temp = X_temp.iloc[r:]\n",
    "print(\"shape of X_temp :\", X_temp.shape)\n",
    "# X to numpy array\n",
    "X_temp=X_temp.values\n",
    "#Rearrange X_temp to get a 3D matrix\n",
    "X = X_temp.reshape(X_temp.shape[0] // time_periods_to_group, time_periods_to_group , X_temp.shape[1])\n",
    "print(\"shape of X:\",X.shape)\n",
    "\n",
    "# will give you a new df without the first rows (if remainder is > 0)\n",
    "Y_temp = Y_temp.iloc[r:]\n",
    "print(\"shape of Y_temp :\", Y_temp.shape)\n",
    "# Y to numpy array\n",
    "Y_temp=Y_temp.values\n",
    "Y_temp = Y_temp.reshape(Y_temp.shape[0], 1)\n",
    "# call function above to group labels and select last label in \"group\"\n",
    "Y = group_time_periods(time_periods_to_group)\n",
    "print(\"shape of Y:\", Y.shape)\n"
   ]
  },
  {
   "cell_type": "markdown",
   "metadata": {},
   "source": [
    "### 4.3 Control structure of train examples"
   ]
  },
  {
   "cell_type": "code",
   "execution_count": 7,
   "metadata": {},
   "outputs": [
    {
     "name": "stdout",
     "output_type": "stream",
     "text": [
      "shape of - check train example - : (4, 43)\n",
      "check a train example : [[ 0.000e+00  0.000e+00  0.000e+00  0.000e+00  0.000e+00  0.000e+00\n",
      "   0.000e+00  4.640e+02  0.000e+00  4.360e+02  0.000e+00  0.000e+00\n",
      "   0.000e+00  0.000e+00  0.000e+00  0.000e+00  0.000e+00  0.000e+00\n",
      "   0.000e+00  0.000e+00  0.000e+00  0.000e+00  0.000e+00  0.000e+00\n",
      "   0.000e+00  0.000e+00  0.000e+00  0.000e+00  0.000e+00  0.000e+00\n",
      "   2.300e+01  0.000e+00  0.000e+00  0.000e+00 -7.480e+01  0.000e+00\n",
      "   0.000e+00  0.000e+00 -6.630e+01  8.000e+00  3.502e+03  0.000e+00\n",
      "   0.000e+00]\n",
      " [ 0.000e+00  0.000e+00  0.000e+00  0.000e+00  0.000e+00  0.000e+00\n",
      "   0.000e+00  2.140e+02  0.000e+00  6.870e+02  0.000e+00  0.000e+00\n",
      "   0.000e+00  0.000e+00  0.000e+00  0.000e+00  0.000e+00  0.000e+00\n",
      "   0.000e+00  0.000e+00  0.000e+00  0.000e+00  0.000e+00  0.000e+00\n",
      "   0.000e+00  0.000e+00  0.000e+00  0.000e+00  0.000e+00  0.000e+00\n",
      "   2.800e+01  0.000e+00  0.000e+00  0.000e+00 -7.510e+01  0.000e+00\n",
      "   0.000e+00  0.000e+00 -6.580e+01  7.000e+00  2.794e+03  0.000e+00\n",
      "   0.000e+00]\n",
      " [-1.000e+00 -1.000e+00 -1.000e+00 -1.000e+00 -1.000e+00 -1.000e+00\n",
      "  -1.000e+00 -1.000e+00 -1.000e+00 -1.000e+00 -1.000e+00 -1.000e+00\n",
      "  -1.000e+00 -1.000e+00 -1.000e+00 -1.000e+00 -1.000e+00 -1.000e+00\n",
      "  -1.000e+00 -1.000e+00 -1.000e+00 -1.000e+00 -1.000e+00 -1.000e+00\n",
      "  -1.000e+00 -1.000e+00 -1.000e+00 -1.000e+00 -1.000e+00 -1.000e+00\n",
      "  -1.000e+00 -1.000e+00 -1.000e+00 -1.000e+00 -1.000e+00  0.000e+00\n",
      "   0.000e+00  0.000e+00 -6.470e+01  7.000e+00 -5.400e+01 -2.000e+00\n",
      "   0.000e+00]\n",
      " [ 0.000e+00  0.000e+00  0.000e+00  0.000e+00  0.000e+00  0.000e+00\n",
      "   0.000e+00  3.760e+02  0.000e+00  5.240e+02  0.000e+00  0.000e+00\n",
      "   0.000e+00  0.000e+00  0.000e+00  0.000e+00  0.000e+00  0.000e+00\n",
      "   0.000e+00  0.000e+00  0.000e+00  0.000e+00  0.000e+00  0.000e+00\n",
      "   0.000e+00  0.000e+00  0.000e+00  0.000e+00  0.000e+00  0.000e+00\n",
      "   1.300e+01  0.000e+00  0.000e+00  0.000e+00 -7.460e+01  0.000e+00\n",
      "   0.000e+00  0.000e+00 -6.450e+01  1.100e+01  3.168e+03  0.000e+00\n",
      "   0.000e+00]]\n"
     ]
    }
   ],
   "source": [
    "check_example = X[ 3,:,:]\n",
    "print(\"shape of - check train example - :\", check_example.shape)\n",
    "print(\"check a train example :\", check_example)"
   ]
  },
  {
   "cell_type": "markdown",
   "metadata": {},
   "source": [
    "### 4.4 Normalize input data"
   ]
  },
  {
   "cell_type": "code",
   "execution_count": null,
   "metadata": {},
   "outputs": [],
   "source": []
  },
  {
   "cell_type": "code",
   "execution_count": 8,
   "metadata": {},
   "outputs": [
    {
     "name": "stdout",
     "output_type": "stream",
     "text": [
      "X example: [[  0.   0.   0.   0.   0.   0.   0. 586.   0. 315.]\n",
      " [  0.   0.   0.   0.   0.   0.   0. 699.   0. 201.]\n",
      " [  0.   0.   0.   0.   0.   0.   0. 332.   0. 568.]\n",
      " [  0.   0.   0.   0.   0.   0.   0. 657.   0. 243.]]\n",
      "X example after norm: [[0.         0.         0.         0.         0.         0.\n",
      "  0.         0.15149861 0.         0.08143697]\n",
      " [0.         0.         0.         0.         0.         0.\n",
      "  0.         0.14919432 0.         0.04290137]\n",
      " [0.         0.         0.         0.         0.         0.\n",
      "  0.         0.09052904 0.         0.154881  ]\n",
      " [0.         0.         0.         0.         0.         0.\n",
      "  0.         0.14903573 0.         0.0551228 ]]\n"
     ]
    }
   ],
   "source": [
    "X = X.astype(float)\n",
    "print(\"X example:\",X[ 0,:,0:10])\n",
    "\n",
    "X= normalize(X,axis=-1,order=2)\n",
    "print(\"X example after norm:\",X[0,:,0:10])"
   ]
  },
  {
   "cell_type": "markdown",
   "metadata": {},
   "source": [
    "### 4.5 \"One Hot\" for Y labels"
   ]
  },
  {
   "cell_type": "code",
   "execution_count": 9,
   "metadata": {},
   "outputs": [
    {
     "name": "stdout",
     "output_type": "stream",
     "text": [
      "[[7.]]\n",
      "Shape of Y_one_hot: (11710, 14)\n",
      "Y_one_hot first rows: [[0. 0. 0. 0. 0. 0. 0. 1. 0. 0. 0. 0. 0. 0.]]\n"
     ]
    }
   ],
   "source": [
    "from keras.utils import to_categorical\n",
    "print(Y[0:1,:])\n",
    "Y_one_hot = to_categorical(Y)\n",
    "\n",
    "print(\"Shape of Y_one_hot:\", Y_one_hot.shape)\n",
    "print(\"Y_one_hot first rows:\", Y_one_hot[0:1,:])"
   ]
  },
  {
   "cell_type": "markdown",
   "metadata": {},
   "source": [
    "### 4.6 Split between Train and Test sets"
   ]
  },
  {
   "cell_type": "code",
   "execution_count": 10,
   "metadata": {},
   "outputs": [
    {
     "name": "stdout",
     "output_type": "stream",
     "text": [
      "Shape of X (11710, 4, 43)\n",
      "Shape of Y (11710, 1)\n",
      "Shape of X_train (9368, 4, 43)\n",
      "Shape of Y_train (9368, 14)\n",
      "Shape of X_test (2342, 4, 43)\n",
      "Shape of Y_test (2342, 14)\n"
     ]
    }
   ],
   "source": [
    "\n",
    "from sklearn.model_selection import train_test_split\n",
    "\n",
    "print(\"Shape of X\", X.shape)\n",
    "print(\"Shape of Y\", Y.shape)\n",
    "\n",
    "X_train, X_test, Y_train, Y_test = train_test_split(X, Y_one_hot, test_size=0.2, random_state=None)\n",
    "print(\"Shape of X_train\",X_train.shape)\n",
    "print(\"Shape of Y_train\",Y_train.shape)\n",
    "\n",
    "print(\"Shape of X_test\",X_test.shape)\n",
    "print(\"Shape of Y_test\",Y_test.shape)\n",
    "\n",
    "m_train=len(Y_train)\n",
    "m_test=len(Y_test)\n",
    "\n"
   ]
  },
  {
   "cell_type": "markdown",
   "metadata": {},
   "source": [
    "## 5. Create and Train Model"
   ]
  },
  {
   "cell_type": "markdown",
   "metadata": {},
   "source": [
    "### 5.1 Model Options"
   ]
  },
  {
   "cell_type": "markdown",
   "metadata": {},
   "source": [
    "#### 5.1.1 Function ACM model Option # 1"
   ]
  },
  {
   "cell_type": "code",
   "execution_count": 11,
   "metadata": {},
   "outputs": [],
   "source": [
    "def ACM_model_1(input_shape, classes):\n",
    "    # Define the input placeholder as a tensor with shape input_shape.\n",
    "    X_input = Input(input_shape)\n",
    "\n",
    "    \n",
    "    X = Flatten()(X_input)\n",
    "    X = Dense(100, activation='relu', name='fc1')(X)\n",
    "    #X = BatchNormalization()(X)\n",
    "    X = Dense(100, activation='relu', name='fc2')(X)\n",
    "    X = Dense(100, activation='relu', name='fc3')(X)\n",
    "    X = Dense(50, activation='relu', name='fc4')(X)\n",
    "    X = Dense(25, activation='relu', name='fc5')(X)\n",
    "    \n",
    "    X = Dense(classes, activation='softmax', name='fcfinal')(X)\n",
    "\n",
    "    # Create model. This creates your Keras model instance, you'll use this instance to train/test the model.\n",
    "    model = Model(inputs = X_input, outputs = X, name='ACM_model_1')\n",
    "\n",
    "    return model"
   ]
  },
  {
   "cell_type": "markdown",
   "metadata": {},
   "source": [
    "#### 5.1.2 Function ACM model Option # 2"
   ]
  },
  {
   "cell_type": "code",
   "execution_count": 12,
   "metadata": {},
   "outputs": [],
   "source": [
    "\n",
    "\n",
    "def ACM_model_2(input_shape, classes):\n",
    "\n",
    "    \n",
    "    model = Sequential()\n",
    "    # Channels first due to kernel size\n",
    "    model.add(Conv1D(filters=100, kernel_size=5, activation='relu', input_shape=(input_shape), data_format='channels_first'))\n",
    "    # Permute\n",
    "    model.add(Permute((2, 1)))\n",
    "    model.add(Conv1D(filters=100, kernel_size=3, activation='relu'))\n",
    "    model.add(Conv1D(filters=100, kernel_size=3, activation='relu'))\n",
    "    model.add(MaxPooling1D(pool_size=5))\n",
    " \n",
    "    model.add(Flatten())\n",
    "    model.add(Dense(64, activation='relu'))\n",
    "    model.add(Dense(classes, activation='softmax'))\n",
    "    \n",
    "    \n",
    "    return model"
   ]
  },
  {
   "cell_type": "markdown",
   "metadata": {},
   "source": [
    "#### 5.1.3 Function ACM model Option # 3"
   ]
  },
  {
   "cell_type": "code",
   "execution_count": 13,
   "metadata": {},
   "outputs": [],
   "source": [
    "\n",
    "def ACM_model_3(input_shape, classes):\n",
    "\n",
    "    model = Sequential()\n",
    "    model.add(Conv1D(filters=100, kernel_size=2, activation='relu', input_shape=(input_shape)))\n",
    "    model.add(Conv1D(filters=100, kernel_size=2, activation='relu'))\n",
    "    #model.add(Dropout(0.5))\n",
    "    model.add(MaxPooling1D(pool_size=2))\n",
    "    model.add(Flatten())\n",
    "    model.add(Dense(100, activation='relu'))\n",
    "    model.add(Dense(classes, activation='softmax'))\n",
    "\n",
    "    return model\n"
   ]
  },
  {
   "cell_type": "markdown",
   "metadata": {},
   "source": [
    "### 5.2 Create the model (Choose model from one of functions above)"
   ]
  },
  {
   "cell_type": "code",
   "execution_count": 14,
   "metadata": {},
   "outputs": [
    {
     "name": "stdout",
     "output_type": "stream",
     "text": [
      "WARNING:tensorflow:From C:\\Users\\glenn\\Anaconda3\\envs\\tensorflow\\lib\\site-packages\\tensorflow\\python\\framework\\op_def_library.py:263: colocate_with (from tensorflow.python.framework.ops) is deprecated and will be removed in a future version.\n",
      "Instructions for updating:\n",
      "Colocations handled automatically by placer.\n"
     ]
    }
   ],
   "source": [
    "acm_model=ACM_model_2((4,43),14) # input_shape and classes"
   ]
  },
  {
   "cell_type": "markdown",
   "metadata": {},
   "source": [
    "### 5.3 Compile the model"
   ]
  },
  {
   "cell_type": "code",
   "execution_count": 15,
   "metadata": {},
   "outputs": [],
   "source": [
    "acm_model.compile(optimizer = \"Adam\", loss = \"categorical_crossentropy\", metrics = [\"accuracy\"])"
   ]
  },
  {
   "cell_type": "markdown",
   "metadata": {},
   "source": [
    "### 5.4 Train the model"
   ]
  },
  {
   "cell_type": "code",
   "execution_count": 16,
   "metadata": {
    "scrolled": true
   },
   "outputs": [
    {
     "name": "stdout",
     "output_type": "stream",
     "text": [
      "WARNING:tensorflow:From C:\\Users\\glenn\\Anaconda3\\envs\\tensorflow\\lib\\site-packages\\tensorflow\\python\\ops\\math_ops.py:3066: to_int32 (from tensorflow.python.ops.math_ops) is deprecated and will be removed in a future version.\n",
      "Instructions for updating:\n",
      "Use tf.cast instead.\n",
      "Train on 9368 samples, validate on 2342 samples\n",
      "Epoch 1/60\n",
      "9368/9368 [==============================] - 17s 2ms/step - loss: 0.9311 - acc: 0.7193 - val_loss: 0.6286 - val_acc: 0.7869\n",
      "Epoch 2/60\n",
      "9368/9368 [==============================] - 15s 2ms/step - loss: 0.5433 - acc: 0.8067 - val_loss: 0.4440 - val_acc: 0.8339\n",
      "Epoch 3/60\n",
      "9368/9368 [==============================] - 15s 2ms/step - loss: 0.4319 - acc: 0.8449 - val_loss: 0.4129 - val_acc: 0.8459\n",
      "Epoch 4/60\n",
      "9368/9368 [==============================] - 14s 2ms/step - loss: 0.3882 - acc: 0.8535 - val_loss: 0.3549 - val_acc: 0.8617\n",
      "Epoch 5/60\n",
      "9368/9368 [==============================] - 14s 1ms/step - loss: 0.3618 - acc: 0.8604 - val_loss: 0.3409 - val_acc: 0.8745\n",
      "Epoch 6/60\n",
      "9368/9368 [==============================] - 14s 1ms/step - loss: 0.3349 - acc: 0.8714 - val_loss: 0.3217 - val_acc: 0.8903\n",
      "Epoch 7/60\n",
      "9368/9368 [==============================] - 14s 2ms/step - loss: 0.3121 - acc: 0.8792 - val_loss: 0.3087 - val_acc: 0.8796\n",
      "Epoch 8/60\n",
      "9368/9368 [==============================] - 13s 1ms/step - loss: 0.2994 - acc: 0.8866 - val_loss: 0.3033 - val_acc: 0.8851\n",
      "Epoch 9/60\n",
      "9368/9368 [==============================] - 14s 1ms/step - loss: 0.2856 - acc: 0.8904 - val_loss: 0.2723 - val_acc: 0.8971\n",
      "Epoch 10/60\n",
      "9368/9368 [==============================] - 13s 1ms/step - loss: 0.2596 - acc: 0.9004 - val_loss: 0.2656 - val_acc: 0.9048\n",
      "Epoch 11/60\n",
      "9368/9368 [==============================] - 13s 1ms/step - loss: 0.2617 - acc: 0.9007 - val_loss: 0.2455 - val_acc: 0.9073\n",
      "Epoch 12/60\n",
      "9368/9368 [==============================] - 14s 1ms/step - loss: 0.2387 - acc: 0.9102 - val_loss: 0.2633 - val_acc: 0.8958\n",
      "Epoch 13/60\n",
      "9368/9368 [==============================] - 14s 1ms/step - loss: 0.2343 - acc: 0.9115 - val_loss: 0.2621 - val_acc: 0.9078\n",
      "Epoch 14/60\n",
      "9368/9368 [==============================] - 15s 2ms/step - loss: 0.2187 - acc: 0.9160 - val_loss: 0.2464 - val_acc: 0.9146\n",
      "Epoch 15/60\n",
      "9368/9368 [==============================] - 14s 2ms/step - loss: 0.2256 - acc: 0.9146 - val_loss: 0.2418 - val_acc: 0.9146oss: 0. - ETA: 2\n",
      "Epoch 16/60\n",
      "9368/9368 [==============================] - 14s 2ms/step - loss: 0.2070 - acc: 0.9200 - val_loss: 0.2504 - val_acc: 0.9125\n",
      "Epoch 17/60\n",
      "9368/9368 [==============================] - 14s 2ms/step - loss: 0.1978 - acc: 0.9265 - val_loss: 0.2317 - val_acc: 0.9223\n",
      "Epoch 18/60\n",
      "9368/9368 [==============================] - 14s 1ms/step - loss: 0.1989 - acc: 0.9232 - val_loss: 0.2453 - val_acc: 0.9133\n",
      "Epoch 19/60\n",
      "9368/9368 [==============================] - 14s 1ms/step - loss: 0.1941 - acc: 0.9261 - val_loss: 0.2927 - val_acc: 0.8941\n",
      "Epoch 20/60\n",
      "9368/9368 [==============================] - 14s 1ms/step - loss: 0.1849 - acc: 0.9275 - val_loss: 0.2248 - val_acc: 0.9129\n",
      "Epoch 21/60\n",
      "9368/9368 [==============================] - 13s 1ms/step - loss: 0.1873 - acc: 0.9276 - val_loss: 0.2113 - val_acc: 0.9287\n",
      "Epoch 22/60\n",
      "9368/9368 [==============================] - 13s 1ms/step - loss: 0.1697 - acc: 0.9355 - val_loss: 0.2074 - val_acc: 0.9266\n",
      "Epoch 23/60\n",
      "9368/9368 [==============================] - 14s 1ms/step - loss: 0.1637 - acc: 0.9366 - val_loss: 0.2146 - val_acc: 0.9231\n",
      "Epoch 24/60\n",
      "9368/9368 [==============================] - 14s 1ms/step - loss: 0.1686 - acc: 0.9338 - val_loss: 0.2523 - val_acc: 0.9078\n",
      "Epoch 25/60\n",
      "9368/9368 [==============================] - 14s 1ms/step - loss: 0.1776 - acc: 0.9331 - val_loss: 0.2603 - val_acc: 0.9009\n",
      "Epoch 26/60\n",
      "9368/9368 [==============================] - 14s 1ms/step - loss: 0.1727 - acc: 0.9325 - val_loss: 0.2126 - val_acc: 0.9325\n",
      "Epoch 27/60\n",
      "9368/9368 [==============================] - 14s 1ms/step - loss: 0.1613 - acc: 0.9387 - val_loss: 0.2069 - val_acc: 0.9274\n",
      "Epoch 28/60\n",
      "9368/9368 [==============================] - 14s 1ms/step - loss: 0.1586 - acc: 0.9392 - val_loss: 0.2137 - val_acc: 0.9227\n",
      "Epoch 29/60\n",
      "9368/9368 [==============================] - 14s 1ms/step - loss: 0.1539 - acc: 0.9421 - val_loss: 0.2201 - val_acc: 0.9274\n",
      "Epoch 30/60\n",
      "9368/9368 [==============================] - 14s 1ms/step - loss: 0.1562 - acc: 0.9413 - val_loss: 0.2181 - val_acc: 0.9274\n",
      "Epoch 31/60\n",
      "9368/9368 [==============================] - 13s 1ms/step - loss: 0.1473 - acc: 0.9430 - val_loss: 0.2049 - val_acc: 0.9313\n",
      "Epoch 32/60\n",
      "9368/9368 [==============================] - 13s 1ms/step - loss: 0.1441 - acc: 0.9466 - val_loss: 0.2030 - val_acc: 0.9304\n",
      "Epoch 33/60\n",
      "9368/9368 [==============================] - 12s 1ms/step - loss: 0.1435 - acc: 0.9460 - val_loss: 0.1968 - val_acc: 0.9338\n",
      "Epoch 34/60\n",
      "9368/9368 [==============================] - 13s 1ms/step - loss: 0.1491 - acc: 0.9428 - val_loss: 0.2122 - val_acc: 0.9295\n",
      "Epoch 35/60\n",
      "9368/9368 [==============================] - 14s 1ms/step - loss: 0.1418 - acc: 0.9472 - val_loss: 0.2138 - val_acc: 0.9300\n",
      "Epoch 36/60\n",
      "9368/9368 [==============================] - 13s 1ms/step - loss: 0.1365 - acc: 0.9465 - val_loss: 0.2622 - val_acc: 0.9197\n",
      "Epoch 37/60\n",
      "9368/9368 [==============================] - 13s 1ms/step - loss: 0.1371 - acc: 0.9497 - val_loss: 0.1838 - val_acc: 0.9360\n",
      "Epoch 38/60\n",
      "9368/9368 [==============================] - 14s 1ms/step - loss: 0.1305 - acc: 0.9514 - val_loss: 0.2056 - val_acc: 0.9334\n",
      "Epoch 39/60\n",
      "9368/9368 [==============================] - 14s 1ms/step - loss: 0.1497 - acc: 0.9439 - val_loss: 0.2031 - val_acc: 0.9338\n",
      "Epoch 40/60\n",
      "9368/9368 [==============================] - 14s 1ms/step - loss: 0.1343 - acc: 0.9503 - val_loss: 0.2107 - val_acc: 0.9338\n",
      "Epoch 41/60\n",
      "9368/9368 [==============================] - 13s 1ms/step - loss: 0.1258 - acc: 0.9516 - val_loss: 0.2120 - val_acc: 0.9313\n",
      "Epoch 42/60\n",
      "9368/9368 [==============================] - 14s 1ms/step - loss: 0.1304 - acc: 0.9488 - val_loss: 0.2353 - val_acc: 0.9163\n",
      "Epoch 43/60\n",
      "9368/9368 [==============================] - 13s 1ms/step - loss: 0.1204 - acc: 0.9551 - val_loss: 0.2155 - val_acc: 0.9330\n",
      "Epoch 44/60\n",
      "9368/9368 [==============================] - 13s 1ms/step - loss: 0.1171 - acc: 0.9550 - val_loss: 0.2123 - val_acc: 0.9330\n",
      "Epoch 45/60\n",
      "9368/9368 [==============================] - 13s 1ms/step - loss: 0.1254 - acc: 0.9512 - val_loss: 0.2123 - val_acc: 0.9300\n",
      "Epoch 46/60\n",
      "9368/9368 [==============================] - 13s 1ms/step - loss: 0.1242 - acc: 0.9526 - val_loss: 0.2288 - val_acc: 0.9325\n",
      "Epoch 47/60\n",
      "9368/9368 [==============================] - 13s 1ms/step - loss: 0.1224 - acc: 0.9553 - val_loss: 0.2372 - val_acc: 0.9291\n",
      "Epoch 48/60\n",
      "9368/9368 [==============================] - 13s 1ms/step - loss: 0.1121 - acc: 0.9571 - val_loss: 0.2484 - val_acc: 0.9240\n",
      "Epoch 49/60\n",
      "9368/9368 [==============================] - 13s 1ms/step - loss: 0.1169 - acc: 0.9518 - val_loss: 0.2147 - val_acc: 0.9334\n",
      "Epoch 50/60\n",
      "9368/9368 [==============================] - 13s 1ms/step - loss: 0.1187 - acc: 0.9550 - val_loss: 0.2086 - val_acc: 0.9364\n",
      "Epoch 51/60\n",
      "9368/9368 [==============================] - 12s 1ms/step - loss: 0.1136 - acc: 0.9560 - val_loss: 0.2023 - val_acc: 0.9334\n",
      "Epoch 52/60\n",
      "9368/9368 [==============================] - 13s 1ms/step - loss: 0.1182 - acc: 0.9531 - val_loss: 0.2814 - val_acc: 0.9163\n",
      "Epoch 53/60\n",
      "9368/9368 [==============================] - 13s 1ms/step - loss: 0.1168 - acc: 0.9547 - val_loss: 0.2454 - val_acc: 0.9150\n",
      "Epoch 54/60\n",
      "9368/9368 [==============================] - 13s 1ms/step - loss: 0.1123 - acc: 0.9584 - val_loss: 0.2015 - val_acc: 0.9398\n",
      "Epoch 55/60\n",
      "9368/9368 [==============================] - 13s 1ms/step - loss: 0.1024 - acc: 0.9607 - val_loss: 0.2089 - val_acc: 0.9381\n",
      "Epoch 56/60\n",
      "9368/9368 [==============================] - 13s 1ms/step - loss: 0.1009 - acc: 0.9607 - val_loss: 0.2222 - val_acc: 0.9364\n",
      "Epoch 57/60\n",
      "9368/9368 [==============================] - 13s 1ms/step - loss: 0.1021 - acc: 0.9605 - val_loss: 0.2048 - val_acc: 0.9419\n",
      "Epoch 58/60\n",
      "9368/9368 [==============================] - 13s 1ms/step - loss: 0.0989 - acc: 0.9622 - val_loss: 0.2185 - val_acc: 0.9419\n"
     ]
    },
    {
     "name": "stdout",
     "output_type": "stream",
     "text": [
      "Epoch 59/60\n",
      "9368/9368 [==============================] - 15s 2ms/step - loss: 0.1094 - acc: 0.9573 - val_loss: 0.2162 - val_acc: 0.9334\n",
      "Epoch 60/60\n",
      "9368/9368 [==============================] - 15s 2ms/step - loss: 0.1007 - acc: 0.9610 - val_loss: 0.2367 - val_acc: 0.9321\n"
     ]
    },
    {
     "data": {
      "text/plain": [
       "<keras.callbacks.History at 0x28397217748>"
      ]
     },
     "execution_count": 16,
     "metadata": {},
     "output_type": "execute_result"
    }
   ],
   "source": [
    "acm_model.fit(x = X_train, y = Y_train, epochs = 60, batch_size = 32, validation_data=(X_test,Y_test))"
   ]
  },
  {
   "cell_type": "markdown",
   "metadata": {},
   "source": [
    "batch_size = 128\n",
    "epochs = 10\n",
    "acm_model.fit(X_train, Y_train,\n",
    "          batch_size=batch_size,\n",
    "          epochs=epochs,\n",
    "          verbose=1,\n",
    "          validation_data=(X_test, Y_test))\n",
    "          \n",
    "model.summary()"
   ]
  },
  {
   "cell_type": "markdown",
   "metadata": {},
   "source": [
    "### 5.5 Model Summary"
   ]
  },
  {
   "cell_type": "code",
   "execution_count": 17,
   "metadata": {},
   "outputs": [
    {
     "name": "stdout",
     "output_type": "stream",
     "text": [
      "_________________________________________________________________\n",
      "Layer (type)                 Output Shape              Param #   \n",
      "=================================================================\n",
      "conv1d_1 (Conv1D)            (None, 100, 39)           2100      \n",
      "_________________________________________________________________\n",
      "permute_1 (Permute)          (None, 39, 100)           0         \n",
      "_________________________________________________________________\n",
      "conv1d_2 (Conv1D)            (None, 37, 100)           30100     \n",
      "_________________________________________________________________\n",
      "conv1d_3 (Conv1D)            (None, 35, 100)           30100     \n",
      "_________________________________________________________________\n",
      "max_pooling1d_1 (MaxPooling1 (None, 7, 100)            0         \n",
      "_________________________________________________________________\n",
      "flatten_1 (Flatten)          (None, 700)               0         \n",
      "_________________________________________________________________\n",
      "dense_1 (Dense)              (None, 64)                44864     \n",
      "_________________________________________________________________\n",
      "dense_2 (Dense)              (None, 14)                910       \n",
      "=================================================================\n",
      "Total params: 108,074\n",
      "Trainable params: 108,074\n",
      "Non-trainable params: 0\n",
      "_________________________________________________________________\n"
     ]
    }
   ],
   "source": [
    "acm_model.summary()"
   ]
  },
  {
   "cell_type": "markdown",
   "metadata": {},
   "source": [
    "### 5.6 Accuracy on Test data"
   ]
  },
  {
   "cell_type": "code",
   "execution_count": 18,
   "metadata": {},
   "outputs": [
    {
     "name": "stdout",
     "output_type": "stream",
     "text": [
      "2342/2342 [==============================] - 1s 558us/step\n",
      "\n",
      "Loss = 0.23668764539247492\n",
      "Test Accuracy = 0.9321093082326177\n"
     ]
    }
   ],
   "source": [
    "preds = acm_model.evaluate(x=X_test, y=Y_test)\n",
    "\n",
    "print()\n",
    "print(\"Loss = \" + str(preds[0]))\n",
    "print(\"Test Accuracy = \" + str(preds[1]))"
   ]
  },
  {
   "cell_type": "markdown",
   "metadata": {},
   "source": [
    "### 5.7 Predict on Test data"
   ]
  },
  {
   "cell_type": "code",
   "execution_count": 19,
   "metadata": {
    "scrolled": true
   },
   "outputs": [
    {
     "name": "stdout",
     "output_type": "stream",
     "text": [
      "Shape of X_test: (2342, 4, 43)\n",
      "Shape of Y_predict: (2342,)\n",
      "Shape of Y_test: (2342, 14)\n",
      "Shape of Y_test (back from one-hot): (2342,)\n"
     ]
    }
   ],
   "source": [
    "# Predict on test set (X_test)\n",
    "print(\"Shape of X_test:\", X_test.shape)\n",
    "\n",
    "Y_predict = acm_model.predict_classes(X_test)\n",
    "\n",
    "print(\"Shape of Y_predict:\", Y_predict.shape)\n",
    "print(\"Shape of Y_test:\", Y_test.shape)\n",
    "\n",
    "# Convert back from one hot to single integer\n",
    "Y_test = Y_test.argmax(axis=1)\n",
    "print(\"Shape of Y_test (back from one-hot):\", Y_test.shape)"
   ]
  },
  {
   "cell_type": "markdown",
   "metadata": {},
   "source": [
    "## 6. View Cofusion Matrix on Test data\n",
    "\n",
    "This is to see true preformance and to figure out how we can optimize training"
   ]
  },
  {
   "cell_type": "code",
   "execution_count": 20,
   "metadata": {},
   "outputs": [],
   "source": [
    "import matplotlib.pyplot as plt\n",
    "\n",
    "from sklearn.metrics import confusion_matrix\n",
    "from sklearn.utils.multiclass import unique_labels"
   ]
  },
  {
   "cell_type": "code",
   "execution_count": 21,
   "metadata": {},
   "outputs": [],
   "source": [
    "def plot_confusion_matrix(y_true, y_pred, classes,\n",
    "                          normalize=True,\n",
    "                          title=None,\n",
    "                          cmap=plt.cm.Blues):\n",
    "    \"\"\"\n",
    "    This function prints and plots the confusion matrix.\n",
    "    Normalization can be applied by setting `normalize=True`.\n",
    "    \"\"\"\n",
    "    if not title:\n",
    "        if normalize:\n",
    "            title = 'Normalized confusion matrix'\n",
    "        else:\n",
    "            title = 'Confusion matrix, without normalization'\n",
    "\n",
    "    # Compute confusion matrix\n",
    "    cm = confusion_matrix(y_true, y_pred)\n",
    "    # Only use the labels that appear in the data\n",
    "    classes = classes[unique_labels(y_true, y_pred)]\n",
    "    if normalize:\n",
    "        cm = cm.astype('float') / cm.sum(axis=1)[:, np.newaxis]\n",
    "        print(\"Normalized confusion matrix\")\n",
    "    else:\n",
    "        print('Confusion matrix, without normalization')\n",
    "\n",
    "    print(cm)\n",
    "\n",
    "    fig, ax = plt.subplots()\n",
    "    im = ax.imshow(cm, interpolation='nearest', cmap=cmap)\n",
    "    ax.figure.colorbar(im, ax=ax)\n",
    "    # We want to show all ticks...\n",
    "    ax.set(xticks=np.arange(cm.shape[1]),\n",
    "           yticks=np.arange(cm.shape[0]),\n",
    "           # ... and label them with the respective list entries\n",
    "           xticklabels=classes, yticklabels=classes,\n",
    "           title=title,\n",
    "           ylabel='True label',\n",
    "           xlabel='Predicted label')\n",
    "\n",
    "    # Rotate the tick labels and set their alignment.\n",
    "    plt.setp(ax.get_xticklabels(), rotation=45, ha=\"right\",\n",
    "             rotation_mode=\"anchor\")\n",
    "\n",
    "    # Loop over data dimensions and create text annotations.\n",
    "    fmt = '.2f' if normalize else 'd'\n",
    "    thresh = cm.max() / 2.\n",
    "    for i in range(cm.shape[0]):\n",
    "        for j in range(cm.shape[1]):\n",
    "            ax.text(j, i, format(cm[i, j], fmt),\n",
    "                    ha=\"center\", va=\"center\",\n",
    "                    color=\"white\" if cm[i, j] > thresh else \"black\")\n",
    "    fig.tight_layout()\n",
    "    return ax\n"
   ]
  },
  {
   "cell_type": "code",
   "execution_count": 22,
   "metadata": {
    "scrolled": true
   },
   "outputs": [
    {
     "name": "stdout",
     "output_type": "stream",
     "text": [
      "Unique labels are: [ 0.  1.  2.  3.  4.  5.  6.  7.  8.  9. 10. 11. 12. 13.]\n",
      "Confusion matrix, without normalization\n",
      "[[1225    0    0    0    6    2   20    2    0    2    1    1    6    0]\n",
      " [   1   73    0    0    0    0    0    0    0    0    1    0    0    0]\n",
      " [   1    0    0    0    0    0    0    0    0    0    0    0    0    0]\n",
      " [   0    0    0   29    0    0    0    1    2    0    0    0    0    0]\n",
      " [   5    0    0    0  143    0    0    2    0    3    0    2    1    1]\n",
      " [   3    0    0    0    0   20    0    0    0    0    0    0    0    0]\n",
      " [  68    0    0    0    1    0  356    1    2    1    0    0    1    0]\n",
      " [   0    0    0    0    2    0    0  174    0    1    1    0    0    0]\n",
      " [   4    0    0    0    2    0    2    1   17    2    1    0    0    0]\n",
      " [   0    0    0    0    2    0    0    0    0   11    2    0    0    0]\n",
      " [   0    0    0    0    0    0    0    1    0    0   10    0    0    0]\n",
      " [   1    0    0    0    0    0    0    0    0    0    0   44    0    0]\n",
      " [   0    0    0    0    0    0    0    0    0    0    0    0   47    0]\n",
      " [   0    0    0    0    0    0    0    0    0    0    0    0    0   34]]\n",
      "Normalized confusion matrix\n",
      "[[9.68379447e-01 0.00000000e+00 0.00000000e+00 0.00000000e+00\n",
      "  4.74308300e-03 1.58102767e-03 1.58102767e-02 1.58102767e-03\n",
      "  0.00000000e+00 1.58102767e-03 7.90513834e-04 7.90513834e-04\n",
      "  4.74308300e-03 0.00000000e+00]\n",
      " [1.33333333e-02 9.73333333e-01 0.00000000e+00 0.00000000e+00\n",
      "  0.00000000e+00 0.00000000e+00 0.00000000e+00 0.00000000e+00\n",
      "  0.00000000e+00 0.00000000e+00 1.33333333e-02 0.00000000e+00\n",
      "  0.00000000e+00 0.00000000e+00]\n",
      " [1.00000000e+00 0.00000000e+00 0.00000000e+00 0.00000000e+00\n",
      "  0.00000000e+00 0.00000000e+00 0.00000000e+00 0.00000000e+00\n",
      "  0.00000000e+00 0.00000000e+00 0.00000000e+00 0.00000000e+00\n",
      "  0.00000000e+00 0.00000000e+00]\n",
      " [0.00000000e+00 0.00000000e+00 0.00000000e+00 9.06250000e-01\n",
      "  0.00000000e+00 0.00000000e+00 0.00000000e+00 3.12500000e-02\n",
      "  6.25000000e-02 0.00000000e+00 0.00000000e+00 0.00000000e+00\n",
      "  0.00000000e+00 0.00000000e+00]\n",
      " [3.18471338e-02 0.00000000e+00 0.00000000e+00 0.00000000e+00\n",
      "  9.10828025e-01 0.00000000e+00 0.00000000e+00 1.27388535e-02\n",
      "  0.00000000e+00 1.91082803e-02 0.00000000e+00 1.27388535e-02\n",
      "  6.36942675e-03 6.36942675e-03]\n",
      " [1.30434783e-01 0.00000000e+00 0.00000000e+00 0.00000000e+00\n",
      "  0.00000000e+00 8.69565217e-01 0.00000000e+00 0.00000000e+00\n",
      "  0.00000000e+00 0.00000000e+00 0.00000000e+00 0.00000000e+00\n",
      "  0.00000000e+00 0.00000000e+00]\n",
      " [1.58139535e-01 0.00000000e+00 0.00000000e+00 0.00000000e+00\n",
      "  2.32558140e-03 0.00000000e+00 8.27906977e-01 2.32558140e-03\n",
      "  4.65116279e-03 2.32558140e-03 0.00000000e+00 0.00000000e+00\n",
      "  2.32558140e-03 0.00000000e+00]\n",
      " [0.00000000e+00 0.00000000e+00 0.00000000e+00 0.00000000e+00\n",
      "  1.12359551e-02 0.00000000e+00 0.00000000e+00 9.77528090e-01\n",
      "  0.00000000e+00 5.61797753e-03 5.61797753e-03 0.00000000e+00\n",
      "  0.00000000e+00 0.00000000e+00]\n",
      " [1.37931034e-01 0.00000000e+00 0.00000000e+00 0.00000000e+00\n",
      "  6.89655172e-02 0.00000000e+00 6.89655172e-02 3.44827586e-02\n",
      "  5.86206897e-01 6.89655172e-02 3.44827586e-02 0.00000000e+00\n",
      "  0.00000000e+00 0.00000000e+00]\n",
      " [0.00000000e+00 0.00000000e+00 0.00000000e+00 0.00000000e+00\n",
      "  1.33333333e-01 0.00000000e+00 0.00000000e+00 0.00000000e+00\n",
      "  0.00000000e+00 7.33333333e-01 1.33333333e-01 0.00000000e+00\n",
      "  0.00000000e+00 0.00000000e+00]\n",
      " [0.00000000e+00 0.00000000e+00 0.00000000e+00 0.00000000e+00\n",
      "  0.00000000e+00 0.00000000e+00 0.00000000e+00 9.09090909e-02\n",
      "  0.00000000e+00 0.00000000e+00 9.09090909e-01 0.00000000e+00\n",
      "  0.00000000e+00 0.00000000e+00]\n",
      " [2.22222222e-02 0.00000000e+00 0.00000000e+00 0.00000000e+00\n",
      "  0.00000000e+00 0.00000000e+00 0.00000000e+00 0.00000000e+00\n",
      "  0.00000000e+00 0.00000000e+00 0.00000000e+00 9.77777778e-01\n",
      "  0.00000000e+00 0.00000000e+00]\n",
      " [0.00000000e+00 0.00000000e+00 0.00000000e+00 0.00000000e+00\n",
      "  0.00000000e+00 0.00000000e+00 0.00000000e+00 0.00000000e+00\n",
      "  0.00000000e+00 0.00000000e+00 0.00000000e+00 0.00000000e+00\n",
      "  1.00000000e+00 0.00000000e+00]\n",
      " [0.00000000e+00 0.00000000e+00 0.00000000e+00 0.00000000e+00\n",
      "  0.00000000e+00 0.00000000e+00 0.00000000e+00 0.00000000e+00\n",
      "  0.00000000e+00 0.00000000e+00 0.00000000e+00 0.00000000e+00\n",
      "  0.00000000e+00 1.00000000e+00]]\n",
      " \n",
      "\n",
      "0\tNo event detected\n",
      "1\tOut of service\n",
      "2\tHW restart\n",
      "3\tStuck on  mod < 4QAM\n",
      "4\tUnstable Ant. support / Wind\n",
      "5\tLOS Flapping\n",
      "6\tLOS or Alignment problem\n",
      "7\tBad LOS or Alignment problem\n",
      "8\tRain\n",
      "9\tRain and wind\n",
      "10\tWet snow\n",
      "11\tHardware Fault/ Interference\n",
      "12\tHardware Fault/ Interference far end\n",
      "13\tNo or limited data\n",
      "\n",
      "\n"
     ]
    },
    {
     "data": {
      "image/png": "[encoded data removed]",
      "text/plain": [
       "<Figure size 432x288 with 2 Axes>"
      ]
     },
     "metadata": {
      "needs_background": "light"
     },
     "output_type": "display_data"
    },
    {
     "data": {
      "image/png": "[encoded data removed]",
      "text/plain": [
       "<Figure size 432x288 with 2 Axes>"
      ]
     },
     "metadata": {
      "needs_background": "light"
     },
     "output_type": "display_data"
    }
   ],
   "source": [
    "U = unique_labels(Y)\n",
    "print(\"Unique labels are:\", U)\n",
    "\n",
    "# Call function to plot confusion matrix\n",
    "plot_confusion_matrix(Y_test, Y_predict,U,normalize=False,title=None,cmap=plt.cm.Blues)\n",
    "plot_confusion_matrix(Y_test, Y_predict,U,normalize=True,title=None,cmap=plt.cm.Blues)\n",
    "\n",
    "print(\"\"\" \n",
    "\n",
    "0\tNo event detected\n",
    "1\tOut of service\n",
    "2\tHW restart\n",
    "3\tStuck on  mod < 4QAM\n",
    "4\tUnstable Ant. support / Wind\n",
    "5\tLOS Flapping\n",
    "6\tLOS or Alignment problem\n",
    "7\tBad LOS or Alignment problem\n",
    "8\tRain\n",
    "9\tRain and wind\n",
    "10\tWet snow\n",
    "11\tHardware Fault/ Interference\n",
    "12\tHardware Fault/ Interference far end\n",
    "13\tNo or limited data\n",
    "\n",
    "\"\"\")\n",
    "\n",
    "\n"
   ]
  },
  {
   "cell_type": "markdown",
   "metadata": {},
   "source": [
    "# Save Model"
   ]
  },
  {
   "cell_type": "code",
   "execution_count": 23,
   "metadata": {},
   "outputs": [],
   "source": [
    "acm_model.save_weights('Eband_Model_weights.h5')\n",
    "\n",
    "acm_model.save ('Eband_Model.h5') # creates a HDF5 file\n"
   ]
  },
  {
   "cell_type": "code",
   "execution_count": null,
   "metadata": {},
   "outputs": [],
   "source": []
  },
  {
   "cell_type": "code",
   "execution_count": null,
   "metadata": {},
   "outputs": [],
   "source": []
  }
 ],
 "metadata": {
  "kernelspec": {
   "display_name": "Python 3",
   "language": "python",
   "name": "python3"
  },
  "language_info": {
   "codemirror_mode": {
    "name": "ipython",
    "version": 3
   },
   "file_extension": ".py",
   "mimetype": "text/x-python",
   "name": "python",
   "nbconvert_exporter": "python",
   "pygments_lexer": "ipython3",
   "version": "3.7.3"
  }
 },
 "nbformat": 4,
 "nbformat_minor": 2
}
