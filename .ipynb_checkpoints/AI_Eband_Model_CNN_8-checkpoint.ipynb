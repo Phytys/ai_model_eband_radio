{
 "cells": [
  {
   "cell_type": "markdown",
   "metadata": {},
   "source": [
    "# AI Eband Model CNN_8 (Using 8 time rows)\n",
    "\n",
    "## **  Classify all 15 min periods **\n",
    "\n",
    "Glenn Landgren\n",
    "https://www.linkedin.com/in/glenn-landgren/\n"
   ]
  },
  {
   "cell_type": "markdown",
   "metadata": {},
   "source": [
    "## 1. Imports"
   ]
  },
  {
   "cell_type": "code",
   "execution_count": 20,
   "metadata": {},
   "outputs": [],
   "source": [
    "import numpy as np\n",
    "import pandas as pd\n",
    "\n",
    "import sklearn\n",
    "\n",
    "from matplotlib import pyplot\n",
    "\n",
    "from keras.models import Sequential\n",
    "from keras.models import Model\n",
    "\n",
    "from keras.layers import Input\n",
    "from keras.layers import Dense\n",
    "from keras.layers import Flatten\n",
    "from keras.layers import Dropout\n",
    "from keras.layers import Permute\n",
    "from keras.layers.convolutional import Conv1D\n",
    "from keras.layers.convolutional import MaxPooling1D\n",
    "from keras.utils import to_categorical, normalize\n",
    "\n",
    "import matplotlib.pyplot as plt\n",
    "import seaborn as sb"
   ]
  },
  {
   "cell_type": "markdown",
   "metadata": {},
   "source": [
    "## 2. Get raw train data"
   ]
  },
  {
   "cell_type": "code",
   "execution_count": 21,
   "metadata": {},
   "outputs": [
    {
     "name": "stdout",
     "output_type": "stream",
     "text": [
      "shape of eband_dataset_cnn_4 is : (36000, 49)\n"
     ]
    },
    {
     "data": {
      "text/plain": [
       "Index(['NeAlias', 'HalfBPSK_Strong', 'HalfBPSK', 'HalfBPSK_Light',\n",
       "       'BPSK_Strong', 'BPSK', 'BPSK_Light', 'QAM4_Strong', 'QAM4',\n",
       "       'QAM4_Light', 'QAM16_Strong', 'QAM16', 'QAM16_Light', 'QAM32_Strong',\n",
       "       'QAM32', 'QAM32_Light', 'QAM64_Strong', 'QAM64', 'QAM64_Light',\n",
       "       'QAM128_Strong', 'QAM128', 'QAM128_Light', 'QAM256_Strong', 'QAM256',\n",
       "       'QAM256_Light', 'QAM512_Strong', 'QAM512', 'QAM512_Light',\n",
       "       'QAM1024_Strong', 'QAM1024', 'QAM1024_Light', 'ModChanges_x', 'ES_x',\n",
       "       'SES_x', 'UAS_x', 'ActualReceived_Level_x', 'ES_y', 'SES_y', 'UAS_y',\n",
       "       'ActualReceived_Level_y', 'ModChanges_y', 'fading_metric', 'sum_errors',\n",
       "       'hw_fault', 'rx_levels_metric', 'ModChanges_metric', 'errors_metric',\n",
       "       'Y_15min', 'Y_15min_text'],\n",
       "      dtype='object')"
      ]
     },
     "execution_count": 21,
     "metadata": {},
     "output_type": "execute_result"
    }
   ],
   "source": [
    "eband_dataset_cnn_4 = pd.read_csv(\"dataset/sharp_dataset/eband_dataset_cnn_4.csv\")\n",
    "print(\"shape of eband_dataset_cnn_4 is :\", eband_dataset_cnn_4.shape)\n",
    "eband_dataset_cnn_4.columns"
   ]
  },
  {
   "cell_type": "code",
   "execution_count": null,
   "metadata": {},
   "outputs": [],
   "source": []
  },
  {
   "cell_type": "markdown",
   "metadata": {},
   "source": [
    "### 2.2. Copy df, shift rows up and concatenate\n",
    "### Note ! This is only for a convnet based on \"grouping by four\" (4 timeperiods)\n",
    "Do this so the model will be trained on each row i.e. on each 15 min period\n",
    "\n",
    "( since we use 4 rows in model - the 15 min to classify use three previous 15 min periods )"
   ]
  },
  {
   "cell_type": "code",
   "execution_count": 22,
   "metadata": {},
   "outputs": [
    {
     "name": "stdout",
     "output_type": "stream",
     "text": [
      "shape of copy_1 (35999, 49)\n",
      "shape of copy_2 (35998, 49)\n",
      "shape of copy_3 (35997, 49)\n",
      "shape of copy_4 (35996, 49)\n",
      "shape of copy_5 (35995, 49)\n",
      "shape of copy_6 (35994, 49)\n",
      "shape of copy_7 (35993, 49)\n",
      "Shape of data_raw_train_all (287972, 49)\n"
     ]
    }
   ],
   "source": [
    "# For first copy remove first row\n",
    "\n",
    "\n",
    "copy_1 = eband_dataset_cnn_4.iloc[1:]\n",
    "print(\"shape of copy_1\", copy_1.shape)\n",
    "\n",
    "copy_2 = eband_dataset_cnn_4.iloc[2:]\n",
    "print(\"shape of copy_2\", copy_2.shape)\n",
    "\n",
    "copy_3 = eband_dataset_cnn_4.iloc[3:]\n",
    "print(\"shape of copy_3\", copy_3.shape)\n",
    "\n",
    "copy_4 = eband_dataset_cnn_4.iloc[4:]\n",
    "print(\"shape of copy_4\", copy_4.shape)\n",
    "\n",
    "copy_5 = eband_dataset_cnn_4.iloc[5:]\n",
    "print(\"shape of copy_5\", copy_5.shape)\n",
    "\n",
    "copy_6 = eband_dataset_cnn_4.iloc[6:]\n",
    "print(\"shape of copy_6\", copy_6.shape)\n",
    "\n",
    "copy_7 = eband_dataset_cnn_4.iloc[7:]\n",
    "print(\"shape of copy_7\", copy_7.shape)\n",
    "\n",
    "frames = [eband_dataset_cnn_4, copy_1, copy_2, copy_3, copy_4, copy_5, copy_6, copy_7 ]\n",
    "eband_dataset_extended = pd.concat(frames)\n",
    "print(\"Shape of data_raw_train_all\" , eband_dataset_extended.shape)"
   ]
  },
  {
   "cell_type": "markdown",
   "metadata": {},
   "source": [
    "## 3. Prepare dataset, X and Y\n"
   ]
  },
  {
   "cell_type": "markdown",
   "metadata": {},
   "source": [
    "### 3.1  X_temp\n",
    "- Each row\n",
    "    - ACM modulation in second\n",
    "    - Mod changes\n",
    "    - ES,SES, UAS\n",
    "    - Rx\n",
    "    - Far-End ES,SES, UAS\n",
    "    - Far-End Rx\n",
    "    - Far-End Mod changes"
   ]
  },
  {
   "cell_type": "code",
   "execution_count": 23,
   "metadata": {},
   "outputs": [
    {
     "name": "stdout",
     "output_type": "stream",
     "text": [
      "Shape of X_temp: (287972, 46)\n"
     ]
    }
   ],
   "source": [
    "# Drop columns not used by X train set\n",
    "X_temp = eband_dataset_extended.drop([ \"NeAlias\", 'Y_15min', 'Y_15min_text'], axis=1 )\n",
    "print(\"Shape of X_temp:\", X_temp.shape)\n"
   ]
  },
  {
   "cell_type": "code",
   "execution_count": null,
   "metadata": {},
   "outputs": [],
   "source": []
  },
  {
   "cell_type": "markdown",
   "metadata": {},
   "source": [
    "### 3.2 Y_temp:\n",
    "- Select column with Y label"
   ]
  },
  {
   "cell_type": "code",
   "execution_count": 24,
   "metadata": {},
   "outputs": [
    {
     "name": "stdout",
     "output_type": "stream",
     "text": [
      "shape of Y_temp: (287972,)\n"
     ]
    }
   ],
   "source": [
    "Y_temp = eband_dataset_extended.loc[:, \"Y_15min\"]\n",
    "\n",
    "print(\"shape of Y_temp:\",Y_temp.shape)"
   ]
  },
  {
   "cell_type": "markdown",
   "metadata": {},
   "source": [
    "## 4. Group timeperiods (rows) into 3d array X,  and labels Y\n",
    "X = training examples * time sequences * features\n",
    "\n",
    "One training example will have 4 time sequences (I.e. 4 * 15minute periods ). It means that: When predicting one 15 min period, - we will use the 3 previous 15 min periods"
   ]
  },
  {
   "cell_type": "markdown",
   "metadata": {},
   "source": [
    "### 4.1 Function selects the \"LAST\" Y label in a grouped sequence\n"
   ]
  },
  {
   "cell_type": "code",
   "execution_count": 25,
   "metadata": {},
   "outputs": [],
   "source": [
    "def group_time_periods(array,periods):\n",
    "\n",
    "    m = array.shape[0]\n",
    "    m_periods = m//periods\n",
    "    print(\"m is:\", m)\n",
    "    print(\"m_periods is (after grouping):\", m_periods)\n",
    "    Y = np.zeros((m_periods, 1))\n",
    "\n",
    "    for i in range(m_periods):\n",
    "        select_labels =  array[i* periods : i * periods + periods, :]\n",
    "        last_label = select_labels [0-1]\n",
    "        Y[i, :] = last_label\n",
    "        \n",
    "        \n",
    "    return Y"
   ]
  },
  {
   "cell_type": "code",
   "execution_count": null,
   "metadata": {},
   "outputs": [],
   "source": []
  },
  {
   "cell_type": "markdown",
   "metadata": {},
   "source": [
    "### 4.2 Define how many sequence_periods to group into one example"
   ]
  },
  {
   "cell_type": "code",
   "execution_count": 26,
   "metadata": {},
   "outputs": [
    {
     "name": "stdout",
     "output_type": "stream",
     "text": [
      "remainder is : 4\n",
      "shape of X_temp : (287972, 46)\n",
      "shape of X_temp : (287968, 46)\n",
      "shape of X: (35996, 8, 46)\n",
      "shape of Y_temp : (287968,)\n",
      "m is: 287968\n",
      "m_periods is (after grouping): 35996\n",
      "shape of Y: (35996, 1)\n"
     ]
    }
   ],
   "source": [
    "###################################\n",
    "time_periods_to_group = 8\n",
    "##################################\n",
    "\n",
    "# find remainder\n",
    "r = X_temp.shape[0] % time_periods_to_group\n",
    "print(\"remainder is :\", r)\n",
    "print(\"shape of X_temp :\", X_temp.shape)\n",
    "\n",
    "# drop rows equal to remainder r (if remainder is > 0)\n",
    "X_temp = X_temp.iloc[:-r]\n",
    "print(\"shape of X_temp :\", X_temp.shape)\n",
    "\n",
    "# X to array\n",
    "X_temp=X_temp.values\n",
    "\n",
    "#Rearrange X_temp to get a 3D matrix\n",
    "X = X_temp.reshape(X_temp.shape[0] // time_periods_to_group, time_periods_to_group , X_temp.shape[1])\n",
    "print(\"shape of X:\",X.shape)\n",
    "\n",
    "# drop rows equal to remainder r (if remainder is > 0)\n",
    "Y_temp = Y_temp.iloc[:-r]\n",
    "print(\"shape of Y_temp :\", Y_temp.shape)\n",
    "\n",
    "# Y to numpy array\n",
    "Y_temp=Y_temp.values\n",
    "Y_temp = Y_temp.reshape(Y_temp.shape[0], 1)\n",
    "\n",
    "# call function above to group labels and select last label in \"group\"\n",
    "Y = group_time_periods(Y_temp, time_periods_to_group)\n",
    "print(\"shape of Y:\", Y.shape)\n"
   ]
  },
  {
   "cell_type": "markdown",
   "metadata": {},
   "source": [
    "### 4.3 Control structure of train examples"
   ]
  },
  {
   "cell_type": "code",
   "execution_count": 27,
   "metadata": {},
   "outputs": [
    {
     "name": "stdout",
     "output_type": "stream",
     "text": [
      "shape of - check train example - : (8, 46)\n",
      "check a train example : [[   0.     0.     0.     0.     0.     0.     0.     0.   901.     0.\n",
      "     0.     0.     0.     0.     0.     0.     0.     0.     0.     0.\n",
      "     0.     0.     0.     0.     0.     0.     0.     0.     0.     0.\n",
      "     0.     0.     0.     0.   -39.9    0.     0.     0.   -40.2    0.\n",
      "  4505.     0.     0.   -79.8    0.     0. ]\n",
      " [   0.     0.     0.     0.     0.     0.     0.     0.   899.     0.\n",
      "     0.     0.     0.     0.     0.     0.     0.     0.     0.     0.\n",
      "     0.     0.     0.     0.     0.     0.     0.     0.     0.     0.\n",
      "     0.     0.     0.     0.   -40.1    0.     0.     0.   -40.3    0.\n",
      "  4495.     0.     0.   -80.2    0.     0. ]\n",
      " [   0.     0.     0.     0.     0.     0.     0.     0.   900.     0.\n",
      "     0.     0.     0.     0.     0.     0.     0.     0.     0.     0.\n",
      "     0.     0.     0.     0.     0.     0.     0.     0.     0.     0.\n",
      "     0.     0.     0.     0.   -40.1    0.     0.     0.   -40.3    0.\n",
      "  4500.     0.     0.   -80.2    0.     0. ]\n",
      " [   0.     0.     0.     0.     0.     0.     0.     0.   901.     0.\n",
      "     0.     0.     0.     0.     0.     0.     0.     0.     0.     0.\n",
      "     0.     0.     0.     0.     0.     0.     0.     0.     0.     0.\n",
      "     0.     0.     0.     0.   -39.8    0.     0.     0.   -40.     0.\n",
      "  4505.     0.     0.   -79.6    0.     0. ]\n",
      " [   0.     0.     0.     0.     0.     0.     0.     0.   899.     0.\n",
      "     0.     0.     0.     0.     0.     0.     0.     0.     0.     0.\n",
      "     0.     0.     0.     0.     0.     0.     0.     0.     0.     0.\n",
      "     0.     0.     0.     0.   -40.     0.     0.     0.   -40.2    0.\n",
      "  4495.     0.     0.   -80.     0.     0. ]\n",
      " [   0.     0.     0.     0.     0.     0.     0.     0.   901.     0.\n",
      "     0.     0.     0.     0.     0.     0.     0.     0.     0.     0.\n",
      "     0.     0.     0.     0.     0.     0.     0.     0.     0.     0.\n",
      "     0.     0.     0.     0.   -40.6    0.     0.     0.   -40.7    0.\n",
      "  4505.     0.     0.   -81.2    0.     0. ]\n",
      " [   0.     0.     0.     0.     0.     0.     0.     0.   900.     0.\n",
      "     0.     0.     0.     0.     0.     0.     0.     0.     0.     0.\n",
      "     0.     0.     0.     0.     0.     0.     0.     0.     0.     0.\n",
      "     0.     0.     0.     0.   -40.     0.     0.     0.   -40.5    0.\n",
      "  4500.     0.     0.   -80.     0.     0. ]\n",
      " [   0.     0.     0.     0.     0.     0.     0.     0.   899.     0.\n",
      "     0.     0.     0.     0.     0.     0.     0.     0.     0.     0.\n",
      "     0.     0.     0.     0.     0.     0.     0.     0.     0.     0.\n",
      "     0.     0.     0.     0.   -39.9    0.     0.     0.   -40.2    0.\n",
      "  4495.     0.     0.   -79.8    0.     0. ]]\n"
     ]
    }
   ],
   "source": [
    "check_example = X[ 30,:,:]\n",
    "print(\"shape of - check train example - :\", check_example.shape)\n",
    "print(\"check a train example :\", check_example)"
   ]
  },
  {
   "cell_type": "markdown",
   "metadata": {},
   "source": [
    "### 4.4 Normalize input data"
   ]
  },
  {
   "cell_type": "code",
   "execution_count": 28,
   "metadata": {},
   "outputs": [
    {
     "name": "stdout",
     "output_type": "stream",
     "text": [
      "X example: [[  0.   0.   0.   0.   0.   0.   0.   0.   0. 900.]\n",
      " [  0.   0.   0.   0.   0.   0.   0. 226.   0. 674.]\n",
      " [  0.   0.   0.   0.   0.   0.   0. 586.   0. 315.]\n",
      " [  0.   0.   0.   0.   0.   0.   0. 699.   0. 201.]\n",
      " [  0.   0.   0.   0.   0.   0.   0. 332.   0. 568.]\n",
      " [  0.   0.   0.   0.   0.   0.   0. 657.   0. 243.]\n",
      " [  0.   0.   0.   0.   0.   0.   0. 497.   0. 402.]\n",
      " [  0.   0.   0.   0.   0.   0.   0.   5.   0. 895.]]\n",
      "X example after norm: [[0.         0.         0.         0.         0.         0.\n",
      "  0.         0.         0.         0.4249784 ]\n",
      " [0.         0.         0.         0.         0.         0.\n",
      "  0.         0.03742315 0.         0.11160709]\n",
      " [0.         0.         0.         0.         0.         0.\n",
      "  0.         0.0658027  0.         0.03537176]\n",
      " [0.         0.         0.         0.         0.         0.\n",
      "  0.         0.14904806 0.         0.04285931]\n",
      " [0.         0.         0.         0.         0.         0.\n",
      "  0.         0.09036381 0.         0.15459833]\n",
      " [0.         0.         0.         0.         0.         0.\n",
      "  0.         0.14871239 0.         0.05500321]\n",
      " [0.         0.         0.         0.         0.         0.\n",
      "  0.         0.12364806 0.         0.10001312]\n",
      " [0.         0.         0.         0.         0.         0.\n",
      "  0.         0.0023881  0.         0.42747016]]\n"
     ]
    }
   ],
   "source": [
    "X = X.astype(float)\n",
    "print(\"X example:\",X[ 0,:,0:10])\n",
    "\n",
    "X= normalize(X,axis=-1,order=2)\n",
    "print(\"X example after norm:\",X[0,:,0:10])"
   ]
  },
  {
   "cell_type": "markdown",
   "metadata": {},
   "source": [
    "### 4.5 \"One Hot\" for Y labels"
   ]
  },
  {
   "cell_type": "code",
   "execution_count": 29,
   "metadata": {},
   "outputs": [
    {
     "data": {
      "text/plain": [
       "(35996, 1)"
      ]
     },
     "execution_count": 29,
     "metadata": {},
     "output_type": "execute_result"
    }
   ],
   "source": [
    "Y.shape"
   ]
  },
  {
   "cell_type": "code",
   "execution_count": 30,
   "metadata": {},
   "outputs": [
    {
     "name": "stdout",
     "output_type": "stream",
     "text": [
      "[[7.]]\n",
      "Shape of Y_one_hot: (35996, 14)\n",
      "Y_one_hot first rows: [[0. 0. 0. 0. 0. 0. 0. 1. 0. 0. 0. 0. 0. 0.]]\n"
     ]
    }
   ],
   "source": [
    "from keras.utils import to_categorical\n",
    "print(Y[0:1,:])\n",
    "Y_one_hot = to_categorical(Y)\n",
    "\n",
    "print(\"Shape of Y_one_hot:\", Y_one_hot.shape)\n",
    "print(\"Y_one_hot first rows:\", Y_one_hot[0:1,:])"
   ]
  },
  {
   "cell_type": "markdown",
   "metadata": {},
   "source": [
    "### 4.6 Split between Train and Test sets"
   ]
  },
  {
   "cell_type": "code",
   "execution_count": 31,
   "metadata": {},
   "outputs": [
    {
     "name": "stdout",
     "output_type": "stream",
     "text": [
      "Shape of X (35996, 8, 46)\n",
      "Shape of Y (35996, 1)\n",
      "Shape of X_train (28796, 8, 46)\n",
      "Shape of Y_train (28796, 14)\n",
      "Shape of X_test (7200, 8, 46)\n",
      "Shape of Y_test (7200, 14)\n"
     ]
    }
   ],
   "source": [
    "\n",
    "from sklearn.model_selection import train_test_split\n",
    "\n",
    "print(\"Shape of X\", X.shape)\n",
    "print(\"Shape of Y\", Y.shape)\n",
    "\n",
    "X_train, X_test, Y_train, Y_test = train_test_split(X, Y_one_hot, test_size=0.2, random_state=None)\n",
    "print(\"Shape of X_train\",X_train.shape)\n",
    "print(\"Shape of Y_train\",Y_train.shape)\n",
    "\n",
    "print(\"Shape of X_test\",X_test.shape)\n",
    "print(\"Shape of Y_test\",Y_test.shape)\n",
    "\n",
    "m_train=len(Y_train)\n",
    "m_test=len(Y_test)\n",
    "\n"
   ]
  },
  {
   "cell_type": "markdown",
   "metadata": {},
   "source": [
    "## 5. Create and Train Model"
   ]
  },
  {
   "cell_type": "markdown",
   "metadata": {},
   "source": [
    "### 5.1 Model Options"
   ]
  },
  {
   "cell_type": "markdown",
   "metadata": {},
   "source": [
    "### 5.1.2 Function ACM model Option # 1, ConvNet 1d (CNN-8)"
   ]
  },
  {
   "cell_type": "code",
   "execution_count": 38,
   "metadata": {},
   "outputs": [],
   "source": [
    "\n",
    "def ACM_model_1(input_shape, classes):\n",
    "\n",
    "    model = Sequential()\n",
    "    model.add(Conv1D(filters=100, kernel_size=4, activation='relu', input_shape=(input_shape)))\n",
    "    model.add(Conv1D(filters=100, kernel_size=4, activation='relu'))\n",
    "    #model.add(MaxPooling1D(pool_size=2))\n",
    "    \n",
    "    model.add(Conv1D(filters=100, kernel_size=2, activation='relu')) \n",
    "    model.add(Dropout(0.5))\n",
    "    \n",
    "    model.add(Flatten())\n",
    "    model.add(Dense(100, activation='relu'))\n",
    "    model.add(Dense(classes, activation='softmax'))\n",
    "\n",
    "    return model\n"
   ]
  },
  {
   "cell_type": "markdown",
   "metadata": {},
   "source": [
    "### 5.2 Create the model (Choose model from one of functions above)"
   ]
  },
  {
   "cell_type": "code",
   "execution_count": 39,
   "metadata": {},
   "outputs": [],
   "source": [
    "acm_model=ACM_model_1((8,46),14) # input_shape and classes"
   ]
  },
  {
   "cell_type": "markdown",
   "metadata": {},
   "source": [
    "### 5.3 Compile the model"
   ]
  },
  {
   "cell_type": "code",
   "execution_count": 40,
   "metadata": {},
   "outputs": [],
   "source": [
    "acm_model.compile(optimizer = \"Adam\", loss = \"categorical_crossentropy\", metrics = [\"accuracy\"])"
   ]
  },
  {
   "cell_type": "markdown",
   "metadata": {},
   "source": [
    "### 5.4 Train the model"
   ]
  },
  {
   "cell_type": "code",
   "execution_count": 41,
   "metadata": {
    "scrolled": true
   },
   "outputs": [
    {
     "name": "stdout",
     "output_type": "stream",
     "text": [
      "Train on 28796 samples, validate on 7200 samples\n",
      "Epoch 1/150\n",
      "28796/28796 [==============================] - 11s 385us/step - loss: 0.7751 - acc: 0.7703 - val_loss: 0.4827 - val_acc: 0.8469\n",
      "Epoch 2/150\n",
      "28796/28796 [==============================] - 10s 351us/step - loss: 0.4625 - acc: 0.8527 - val_loss: 0.3817 - val_acc: 0.8717\n",
      "Epoch 3/150\n",
      "28796/28796 [==============================] - 12s 432us/step - loss: 0.3884 - acc: 0.8697 - val_loss: 0.3859 - val_acc: 0.8628\n",
      "Epoch 4/150\n",
      "28796/28796 [==============================] - 12s 424us/step - loss: 0.3547 - acc: 0.8785 - val_loss: 0.3218 - val_acc: 0.8857\n",
      "Epoch 5/150\n",
      "28796/28796 [==============================] - 12s 424us/step - loss: 0.3222 - acc: 0.8884 - val_loss: 0.3086 - val_acc: 0.8874\n",
      "Epoch 6/150\n",
      "28796/28796 [==============================] - 13s 436us/step - loss: 0.2931 - acc: 0.8980 - val_loss: 0.2854 - val_acc: 0.9022\n",
      "Epoch 7/150\n",
      "28796/28796 [==============================] - 13s 446us/step - loss: 0.2809 - acc: 0.9019 - val_loss: 0.2573 - val_acc: 0.9060\n",
      "Epoch 8/150\n",
      "28796/28796 [==============================] - 13s 443us/step - loss: 0.2667 - acc: 0.9047 - val_loss: 0.3099 - val_acc: 0.9046\n",
      "Epoch 9/150\n",
      "28796/28796 [==============================] - 13s 451us/step - loss: 0.2563 - acc: 0.9075 - val_loss: 0.2733 - val_acc: 0.9004\n",
      "Epoch 10/150\n",
      "28796/28796 [==============================] - 13s 438us/step - loss: 0.2483 - acc: 0.9095 - val_loss: 0.2743 - val_acc: 0.9012\n",
      "Epoch 11/150\n",
      "28796/28796 [==============================] - 13s 449us/step - loss: 0.2339 - acc: 0.9111 - val_loss: 0.2526 - val_acc: 0.9079\n",
      "Epoch 12/150\n",
      "28796/28796 [==============================] - 13s 450us/step - loss: 0.2336 - acc: 0.9128 - val_loss: 0.2405 - val_acc: 0.9110\n",
      "Epoch 13/150\n",
      "28796/28796 [==============================] - 13s 460us/step - loss: 0.2193 - acc: 0.9163 - val_loss: 0.2405 - val_acc: 0.9085\n",
      "Epoch 14/150\n",
      "28796/28796 [==============================] - 13s 466us/step - loss: 0.2129 - acc: 0.9186 - val_loss: 0.2522 - val_acc: 0.9114- loss: \n",
      "Epoch 15/150\n",
      "28796/28796 [==============================] - 14s 474us/step - loss: 0.2086 - acc: 0.9204 - val_loss: 0.2340 - val_acc: 0.9158\n",
      "Epoch 16/150\n",
      "28796/28796 [==============================] - 14s 474us/step - loss: 0.2030 - acc: 0.9218 - val_loss: 0.2395 - val_acc: 0.9140\n",
      "Epoch 17/150\n",
      "28796/28796 [==============================] - 14s 477us/step - loss: 0.1960 - acc: 0.9234 - val_loss: 0.2664 - val_acc: 0.9131\n",
      "Epoch 18/150\n",
      "28796/28796 [==============================] - 14s 472us/step - loss: 0.1931 - acc: 0.9247 - val_loss: 0.2194 - val_acc: 0.9243\n",
      "Epoch 19/150\n",
      "28796/28796 [==============================] - 14s 492us/step - loss: 0.1909 - acc: 0.9263 - val_loss: 0.2462 - val_acc: 0.8976\n",
      "Epoch 20/150\n",
      "28796/28796 [==============================] - 15s 512us/step - loss: 0.1840 - acc: 0.9283 - val_loss: 0.2278 - val_acc: 0.9197\n",
      "Epoch 21/150\n",
      "28796/28796 [==============================] - 14s 501us/step - loss: 0.1811 - acc: 0.9281 - val_loss: 0.2032 - val_acc: 0.9251\n",
      "Epoch 22/150\n",
      "28796/28796 [==============================] - 15s 529us/step - loss: 0.1737 - acc: 0.9307 - val_loss: 0.2606 - val_acc: 0.9165\n",
      "Epoch 23/150\n",
      "28796/28796 [==============================] - 15s 517us/step - loss: 0.1683 - acc: 0.9341 - val_loss: 0.2256 - val_acc: 0.9201A: 0s - loss: 0.1686 - acc: 0.93\n",
      "Epoch 24/150\n",
      "28796/28796 [==============================] - 14s 490us/step - loss: 0.1687 - acc: 0.9317 - val_loss: 0.2144 - val_acc: 0.9293A: 1s\n",
      "Epoch 25/150\n",
      "28796/28796 [==============================] - 14s 490us/step - loss: 0.1665 - acc: 0.9344 - val_loss: 0.2227 - val_acc: 0.9207\n",
      "Epoch 26/150\n",
      "28796/28796 [==============================] - 14s 490us/step - loss: 0.1641 - acc: 0.9341 - val_loss: 0.2268 - val_acc: 0.9253\n",
      "Epoch 27/150\n",
      "28796/28796 [==============================] - 15s 532us/step - loss: 0.1594 - acc: 0.9357 - val_loss: 0.2350 - val_acc: 0.9224\n",
      "Epoch 28/150\n",
      "28796/28796 [==============================] - 14s 489us/step - loss: 0.1585 - acc: 0.9368 - val_loss: 0.2207 - val_acc: 0.9246\n",
      "Epoch 29/150\n",
      "28796/28796 [==============================] - 15s 530us/step - loss: 0.1493 - acc: 0.9384 - val_loss: 0.2334 - val_acc: 0.9235.937 - ETA: 2s - lo\n",
      "Epoch 30/150\n",
      "28796/28796 [==============================] - 14s 500us/step - loss: 0.1526 - acc: 0.9380 - val_loss: 0.2257 - val_acc: 0.9317 ETA: 1s - l\n",
      "Epoch 31/150\n",
      "28796/28796 [==============================] - 14s 498us/step - loss: 0.1493 - acc: 0.9407 - val_loss: 0.2456 - val_acc: 0.9179 loss - ETA: 2s - loss: 0.1493 - acc: 0.9 - ETA: 1s - loss: 0.1491 - acc - ETA: 1s - loss: 0.1493 - ac - ETA: 0s - loss: 0.14\n",
      "Epoch 32/150\n",
      "28796/28796 [==============================] - 15s 505us/step - loss: 0.1469 - acc: 0.9412 - val_loss: 0.2135 - val_acc: 0.9385loss: 0.1478 - acc: 0 - ETA: 1s - loss: 0.1476 - acc - ETA: 1s - l\n",
      "Epoch 33/150\n",
      "28796/28796 [==============================] - 14s 502us/step - loss: 0.1425 - acc: 0.9417 - val_loss: 0.2130 - val_acc: 0.9310loss: 0.1422 - acc: 0.9\n",
      "Epoch 34/150\n",
      "28796/28796 [==============================] - 14s 503us/step - loss: 0.1447 - acc: 0.9422 - val_loss: 0.2177 - val_acc: 0.9278\n",
      "Epoch 35/150\n",
      "28796/28796 [==============================] - 15s 507us/step - loss: 0.1390 - acc: 0.9443 - val_loss: 0.2315 - val_acc: 0.9232TA: 9s - loss: 0.1273 - acc: 0. \n",
      "Epoch 36/150\n",
      "28796/28796 [==============================] - 15s 513us/step - loss: 0.1429 - acc: 0.9437 - val_loss: 0.2130 - val_acc: 0.92941417 - acc: 0 -  - ETA: 1s - loss: 0.1452 - acc: 0. - ETA: 0s - loss: 0.144\n",
      "Epoch 37/150\n",
      "28796/28796 [==============================] - 15s 531us/step - loss: 0.1373 - acc: 0.9453 - val_loss: 0.2351 - val_acc: 0.9263\n",
      "Epoch 38/150\n",
      "28796/28796 [==============================] - 18s 626us/step - loss: 0.1353 - acc: 0.9458 - val_loss: 0.2654 - val_acc: 0.9186s - loss: 0.1226 - acc: 0 - ETA: 8s - loss: 0.1218 - acc - ETA: 7s - loss: 0.1237 - ETA: 7s - loss: 0.1261 - acc: 0.948 - \n",
      "Epoch 39/150\n",
      "28796/28796 [==============================] - 15s 524us/step - loss: 0.1337 - acc: 0.9457 - val_loss: 0.2034 - val_acc: 0.9349acc: 0\n",
      "Epoch 40/150\n",
      "28796/28796 [==============================] - 16s 544us/step - loss: 0.1316 - acc: 0.9474 - val_loss: 0.2124 - val_acc: 0.9347loss: 0.1328  - ETA: 1s - loss: 0. - ETA: 0s - loss: 0.1320\n",
      "Epoch 41/150\n",
      "28796/28796 [==============================] - 16s 541us/step - loss: 0.1320 - acc: 0.9463 - val_loss: 0.2117 - val_acc: 0.9365 3s - l\n",
      "Epoch 42/150\n",
      "28796/28796 [==============================] - 16s 541us/step - loss: 0.1270 - acc: 0.9502 - val_loss: 0.2390 - val_acc: 0.9274-  - ETA: 3s - loss: 0. - \n",
      "Epoch 43/150\n",
      "28796/28796 [==============================] - 16s 545us/step - loss: 0.1313 - acc: 0.9483 - val_loss: 0.2492 - val_acc: 0.9249 loss: 0.1\n",
      "Epoch 44/150\n",
      "28796/28796 [==============================] - 16s 556us/step - loss: 0.1314 - acc: 0.9473 - val_loss: 0.2482 - val_acc: 0.9278\n",
      "Epoch 45/150\n",
      "28796/28796 [==============================] - 16s 551us/step - loss: 0.1221 - acc: 0.9499 - val_loss: 0.2416 - val_acc: 0.9290- acc - ETA: 1\n",
      "Epoch 46/150\n",
      "28796/28796 [==============================] - 16s 553us/step - loss: 0.1253 - acc: 0.9504 - val_loss: 0.2298 - val_acc: 0.9340\n",
      "Epoch 47/150\n",
      "28796/28796 [==============================] - 16s 562us/step - loss: 0.1278 - acc: 0.9483 - val_loss: 0.2615 - val_acc: 0.9181\n",
      "Epoch 48/150\n",
      "28796/28796 [==============================] - 16s 573us/step - loss: 0.1211 - acc: 0.9527 - val_loss: 0.2315 - val_acc: 0.9299 - ETA: 2s - loss: 0.12 - ETA: 1s - loss\n",
      "Epoch 49/150\n",
      "28796/28796 [==============================] - 16s 569us/step - loss: 0.1219 - acc: 0.9522 - val_loss: 0.2246 - val_acc: 0.9361\n",
      "Epoch 50/150\n",
      "28796/28796 [==============================] - 17s 586us/step - loss: 0.1180 - acc: 0.9535 - val_loss: 0.2452 - val_acc: 0.9278\n",
      "Epoch 51/150\n",
      "28796/28796 [==============================] - 17s 584us/step - loss: 0.1268 - acc: 0.9496 - val_loss: 0.2266 - val_acc: 0.9322\n",
      "Epoch 52/150\n",
      "28796/28796 [==============================] - 17s 602us/step - loss: 0.1188 - acc: 0.9524 - val_loss: 0.2370 - val_acc: 0.9301\n",
      "Epoch 53/150\n"
     ]
    },
    {
     "name": "stdout",
     "output_type": "stream",
     "text": [
      "28796/28796 [==============================] - 16s 539us/step - loss: 0.1196 - acc: 0.9513 - val_loss: 0.2600 - val_acc: 0.9281A: 10s - loss - ETA: 9s - loss - ETA: 8s - lo - ETA: 6s - los - ETA: 5s - loss: 0.1191  - ETA: 4s - loss: 0.1169 - acc: 0.952 - ETA: 4s - loss - ETA: 2s - loss: 0.1 - ETA: 1s - loss: 0.1182 - acc: 0.951 - ETA\n",
      "Epoch 54/150\n",
      "28796/28796 [==============================] - 15s 536us/step - loss: 0.1168 - acc: 0.9534 - val_loss: 0.2513 - val_acc: 0.9287 - loss: 0.1168 - acc: - ETA: 1s - loss: 0.1178 - acc: 0.9 - ETA: 1s - loss: 0 - ETA: 0s - loss: 0.1168\n",
      "Epoch 55/150\n",
      "28796/28796 [==============================] - 16s 543us/step - loss: 0.1171 - acc: 0.9547 - val_loss: 0.2384 - val_acc: 0.9336ETA: 5s - loss: 0.10 - ETA: 4s - loss:  - ETA: 3s - loss - ETA: 2s - loss: 0.1157 - acc: 0.955 - ETA: 2s - loss: 0 - ETA: 1s - loss\n",
      "Epoch 56/150\n",
      "28796/28796 [==============================] - 15s 525us/step - loss: 0.1152 - acc: 0.9539 - val_loss: 0.2231 - val_acc: 0.9353 0.1149 - acc - ETA: 8s - loss: 0.1 - ETA: 7s -  - ETA: 6s - loss: 0.1122 - acc: 0.953 - ETA: 6s - loss:  - ETA: 4s - lo - ETA: 3s - - ETA: 1s - loss: 0.11 - ETA: 0s - loss: 0.1152 - acc: 0.9 - ETA: 0s - loss: 0.1152 - acc:  - ETA: 0s - loss: 0.1150 - acc:\n",
      "Epoch 57/150\n",
      "28796/28796 [==============================] - 15s 535us/step - loss: 0.1118 - acc: 0.9541 - val_loss: 0.2907 - val_acc: 0.8996136 - acc: - ETA: 4s - loss: 0.1141 - acc: 0.953 - ETA: 4s - loss: 0.1141 - - ETA: 3s - loss: 0.1129  - ETA: 3s - loss: 0.1\n",
      "Epoch 58/150\n",
      "28796/28796 [==============================] - 16s 554us/step - loss: 0.1159 - acc: 0.9544 - val_loss: 0.2232 - val_acc: 0.9351\n",
      "Epoch 59/150\n",
      "28796/28796 [==============================] - 16s 546us/step - loss: 0.1149 - acc: 0.9536 - val_loss: 0.2271 - val_acc: 0.9314\n",
      "Epoch 60/150\n",
      "28796/28796 [==============================] - 16s 541us/step - loss: 0.1095 - acc: 0.9570 - val_loss: 0.2506 - val_acc: 0.9346\n",
      "Epoch 61/150\n",
      "28796/28796 [==============================] - 16s 549us/step - loss: 0.1115 - acc: 0.9555 - val_loss: 0.2283 - val_acc: 0.9390\n",
      "Epoch 62/150\n",
      "28796/28796 [==============================] - 16s 559us/step - loss: 0.1144 - acc: 0.9546 - val_loss: 0.2440 - val_acc: 0.9328\n",
      "Epoch 63/150\n",
      "28796/28796 [==============================] - 17s 573us/step - loss: 0.1080 - acc: 0.9560 - val_loss: 0.2473 - val_acc: 0.9304\n",
      "Epoch 64/150\n",
      "28796/28796 [==============================] - 17s 582us/step - loss: 0.1131 - acc: 0.9555 - val_loss: 0.2365 - val_acc: 0.9358\n",
      "Epoch 65/150\n",
      "28796/28796 [==============================] - 16s 568us/step - loss: 0.1108 - acc: 0.9562 - val_loss: 0.2209 - val_acc: 0.9396\n",
      "Epoch 66/150\n",
      "28796/28796 [==============================] - 17s 577us/step - loss: 0.1080 - acc: 0.9573 - val_loss: 0.2243 - val_acc: 0.9358- loss: 0.1082 - acc: 0.95\n",
      "Epoch 67/150\n",
      "28796/28796 [==============================] - 17s 583us/step - loss: 0.1091 - acc: 0.9560 - val_loss: 0.2303 - val_acc: 0.9417\n",
      "Epoch 68/150\n",
      "28796/28796 [==============================] - 17s 583us/step - loss: 0.1082 - acc: 0.9577 - val_loss: 0.2333 - val_acc: 0.9417\n",
      "Epoch 69/150\n",
      "28796/28796 [==============================] - 17s 588us/step - loss: 0.1059 - acc: 0.9568 - val_loss: 0.2640 - val_acc: 0.9321\n",
      "Epoch 70/150\n",
      "28796/28796 [==============================] - 17s 579us/step - loss: 0.1089 - acc: 0.9580 - val_loss: 0.2302 - val_acc: 0.9415\n",
      "Epoch 71/150\n",
      "28796/28796 [==============================] - 17s 586us/step - loss: 0.1076 - acc: 0.9586 - val_loss: 0.2500 - val_acc: 0.9335ETA\n",
      "Epoch 72/150\n",
      "28796/28796 [==============================] - 17s 597us/step - loss: 0.1096 - acc: 0.9576 - val_loss: 0.2561 - val_acc: 0.9351\n",
      "Epoch 73/150\n",
      "28796/28796 [==============================] - 17s 593us/step - loss: 0.1058 - acc: 0.9582 - val_loss: 0.2345 - val_acc: 0.9396\n",
      "Epoch 74/150\n",
      "28796/28796 [==============================] - 17s 578us/step - loss: 0.1061 - acc: 0.9588 - val_loss: 0.2470 - val_acc: 0.9329 loss: 0.1020  - E - ETA: 6s - loss: 0.1054 - acc: - ETA: 6s - loss: 0.1038 - ac\n",
      "Epoch 75/150\n",
      "28796/28796 [==============================] - 16s 557us/step - loss: 0.1026 - acc: 0.9598 - val_loss: 0.2376 - val_acc: 0.9379 ETA: 9s - loss: 0.1010 - acc - ETA: 8s - loss: 0.1036 - ac - ETA: 7s - loss:  - ETA: 6s - loss:  - ETA: 5s\n",
      "Epoch 76/150\n",
      "28796/28796 [==============================] - 18s 609us/step - loss: 0.1023 - acc: 0.9598 - val_loss: 0.2403 - val_acc: 0.9333\n",
      "Epoch 77/150\n",
      "28796/28796 [==============================] - 19s 667us/step - loss: 0.1019 - acc: 0.9587 - val_loss: 0.2437 - val_acc: 0.9376 2s - loss: 0.0973 - acc: 0.9 - E\n",
      "Epoch 78/150\n",
      "28796/28796 [==============================] - 20s 679us/step - loss: 0.1003 - acc: 0.9601 - val_loss: 0.2404 - val_acc: 0.9400.1033 - acc - ETA: 14s - loss: 0.1025 - acc:  - ETA: 14s - loss: 0.10 - ETA: 14s -  - E - ETA: 10s  - ETA: 10s - loss: 0.1027 - ac - ETA: 9s - loss: 0.1019 - acc: - ETA: 9s -  - ETA: 0s - loss: 0.1008 - acc: 0 - ETA: 0s - loss: 0.1002 - acc:\n",
      "Epoch 79/150\n",
      "28796/28796 [==============================] - 18s 630us/step - loss: 0.1026 - acc: 0.9595 - val_loss: 0.2419 - val_acc: 0.9342 1s - loss: 0.102\n",
      "Epoch 80/150\n",
      "28796/28796 [==============================] - 16s 570us/step - loss: 0.1008 - acc: 0.9595 - val_loss: 0.2423 - val_acc: 0.9363\n",
      "Epoch 81/150\n",
      "28796/28796 [==============================] - 15s 536us/step - loss: 0.1020 - acc: 0.9596 - val_loss: 0.2472 - val_acc: 0.9378loss: 0.0950 - ac - ETA: 8s - loss: 0.0 - ETA: 7s - los - ETA: 6s - loss:  - ETA: 5s - loss: 0.1008 - acc: 0 - ETA: 5s - loss: 0.1017 - acc: 0.960 - ETA: 5s - loss: 0.1018 - acc: 0.960 - ETA: 5s - ETA: 3s - loss: 0 - ETA: 2s - loss: 0.1006 - acc: 0.9 - ETA: 2s - loss: 0.1005 - acc: - ETA: 1s - loss: 0.10 - ETA: 0s - loss: 0.101\n",
      "Epoch 82/150\n",
      "28796/28796 [==============================] - 16s 540us/step - loss: 0.0989 - acc: 0.9600 - val_loss: 0.2515 - val_acc: 0.9358\n",
      "Epoch 83/150\n",
      "28796/28796 [==============================] - 16s 542us/step - loss: 0.0983 - acc: 0.9603 - val_loss: 0.2394 - val_acc: 0.9378\n",
      "Epoch 84/150\n",
      "28796/28796 [==============================] - 16s 543us/step - loss: 0.0950 - acc: 0.9610 - val_loss: 0.2597 - val_acc: 0.9392s: 0. - ETA: 1s - loss: 0.0960 - acc: - ETA: 1s - loss: 0.0962 - acc: 0.960 - ETA: 1s - loss: 0.0959 - acc: 0.960 - ETA: 1s - lo\n",
      "Epoch 85/150\n",
      "28796/28796 [==============================] - 15s 533us/step - loss: 0.1063 - acc: 0.9588 - val_loss: 0.2709 - val_acc: 0.9301 - loss: 0.0845 - acc: 0.96 - ETA: 11s  - ETA: 10s - lo - ETA: 9s - loss: 0.1002 - acc: - ETA: 8s - loss: 0.1012 - ETA: 8s - loss: 0.10 - ETA: 7s - loss: 0.1014 - acc: 0.95 - ETA: 7s - loss: 0.1018 -  - ETA:\n",
      "Epoch 86/150\n",
      "28796/28796 [==============================] - 15s 535us/step - loss: 0.1022 - acc: 0.9614 - val_loss: 0.2461 - val_acc: 0.9371 - loss: 0.0949  - ETA: 3s  - ETA: 1s - lo\n",
      "Epoch 87/150\n",
      "28796/28796 [==============================] - 16s 557us/step - loss: 0.0939 - acc: 0.9630 - val_loss: 0.2429 - val_acc: 0.9390 2s - loss:  - ETA: 0s - loss: 0.0940 - acc: 0.962 - ETA: 0s - loss: 0.0943\n",
      "Epoch 88/150\n",
      "28796/28796 [==============================] - 16s 558us/step - loss: 0.0979 - acc: 0.9615 - val_loss: 0.2435 - val_acc: 0.9350ETA: 1s - loss: 0.0987 - acc - ETA: 0s - loss: 0.0980\n",
      "Epoch 89/150\n",
      "28796/28796 [==============================] - 16s 570us/step - loss: 0.0927 - acc: 0.9628 - val_loss: 0.2470 - val_acc: 0.9400: 3s - los - ETA: 2s - loss: 0.0929 - acc: 0.963 - ETA: 2s - loss: - ETA: 1s - loss: \n",
      "Epoch 90/150\n",
      "28796/28796 [==============================] - 16s 572us/step - loss: 0.1017 - acc: 0.9608 - val_loss: 0.2651 - val_acc: 0.9343\n",
      "Epoch 91/150\n",
      "28796/28796 [==============================] - 16s 565us/step - loss: 0.0996 - acc: 0.9610 - val_loss: 0.2881 - val_acc: 0.9344s - loss: 0.0984\n",
      "Epoch 92/150\n",
      "28796/28796 [==============================] - 16s 572us/step - loss: 0.1012 - acc: 0.9602 - val_loss: 0.2794 - val_acc: 0.9335\n",
      "Epoch 93/150\n",
      "28796/28796 [==============================] - 16s 573us/step - loss: 0.0961 - acc: 0.9623 - val_loss: 0.2463 - val_acc: 0.9368\n",
      "Epoch 94/150\n"
     ]
    },
    {
     "name": "stdout",
     "output_type": "stream",
     "text": [
      "28796/28796 [==============================] - 16s 571us/step - loss: 0.0955 - acc: 0.9621 - val_loss: 0.2448 - val_acc: 0.9422 loss: 0.0939 - acc: 0 - ETA: 4s - loss: 0.0950 - acc: 0.\n",
      "Epoch 95/150\n",
      "28796/28796 [==============================] - 17s 577us/step - loss: 0.0967 - acc: 0.9621 - val_loss: 0.2426 - val_acc: 0.9403\n",
      "Epoch 96/150\n",
      "28796/28796 [==============================] - 17s 576us/step - loss: 0.0926 - acc: 0.9640 - val_loss: 0.2465 - val_acc: 0.9399\n",
      "Epoch 97/150\n",
      "28796/28796 [==============================] - 17s 584us/step - loss: 0.0897 - acc: 0.9652 - val_loss: 0.2702 - val_acc: 0.9371: 1s -\n",
      "Epoch 98/150\n",
      "28796/28796 [==============================] - 17s 586us/step - loss: 0.0914 - acc: 0.9636 - val_loss: 0.2662 - val_acc: 0.9435- ETA: 5s - los - ETA: 4s - loss: 0.0938 - acc: 0.963 -\n",
      "Epoch 99/150\n",
      "28796/28796 [==============================] - 17s 590us/step - loss: 0.0959 - acc: 0.9617 - val_loss: 0.2677 - val_acc: 0.9358\n",
      "Epoch 100/150\n",
      "28796/28796 [==============================] - 17s 597us/step - loss: 0.0966 - acc: 0.9620 - val_loss: 0.2543 - val_acc: 0.9387\n",
      "Epoch 101/150\n",
      "28796/28796 [==============================] - 17s 584us/step - loss: 0.0932 - acc: 0.9628 - val_loss: 0.2896 - val_acc: 0.9368\n",
      "Epoch 102/150\n",
      "28796/28796 [==============================] - 17s 598us/step - loss: 0.0952 - acc: 0.9623 - val_loss: 0.2605 - val_acc: 0.9408\n",
      "Epoch 103/150\n",
      "28796/28796 [==============================] - 17s 601us/step - loss: 0.0912 - acc: 0.9629 - val_loss: 0.2493 - val_acc: 0.9390\n",
      "Epoch 104/150\n",
      "28796/28796 [==============================] - 17s 594us/step - loss: 0.0906 - acc: 0.9648 - val_loss: 0.2513 - val_acc: 0.9396\n",
      "Epoch 105/150\n",
      "28796/28796 [==============================] - 17s 606us/step - loss: 0.0943 - acc: 0.9632 - val_loss: 0.2733 - val_acc: 0.9389\n",
      "Epoch 106/150\n",
      "28796/28796 [==============================] - 18s 615us/step - loss: 0.0919 - acc: 0.9639 - val_loss: 0.2554 - val_acc: 0.9333\n",
      "Epoch 107/150\n",
      "28796/28796 [==============================] - 17s 599us/step - loss: 0.0970 - acc: 0.9629 - val_loss: 0.2748 - val_acc: 0.9361\n",
      "Epoch 108/150\n",
      "28796/28796 [==============================] - 18s 628us/step - loss: 0.0909 - acc: 0.9640 - val_loss: 0.2562 - val_acc: 0.9410\n",
      "Epoch 109/150\n",
      "28796/28796 [==============================] - 18s 624us/step - loss: 0.0880 - acc: 0.9657 - val_loss: 0.2780 - val_acc: 0.9363\n",
      "Epoch 110/150\n",
      "28796/28796 [==============================] - 18s 624us/step - loss: 0.0923 - acc: 0.9646 - val_loss: 0.2676 - val_acc: 0.9429\n",
      "Epoch 111/150\n",
      "28796/28796 [==============================] - 18s 623us/step - loss: 0.0857 - acc: 0.9658 - val_loss: 0.2812 - val_acc: 0.9326cc: 0.9 - ETA: 2s - loss: 0.0853 - ETA: 1s - loss: 0.0848 - acc: - ETA: 1s - loss: - ETA: 0s - loss: 0.0858 - acc: 0.96\n",
      "Epoch 112/150\n",
      "28796/28796 [==============================] - 18s 619us/step - loss: 0.0872 - acc: 0.9662 - val_loss: 0.2662 - val_acc: 0.9390\n",
      "Epoch 113/150\n",
      "28796/28796 [==============================] - 18s 621us/step - loss: 0.0965 - acc: 0.9621 - val_loss: 0.2735 - val_acc: 0.9406\n",
      "Epoch 114/150\n",
      "28796/28796 [==============================] - 18s 636us/step - loss: 0.0852 - acc: 0.9652 - val_loss: 0.2743 - val_acc: 0.9382\n",
      "Epoch 115/150\n",
      "28796/28796 [==============================] - 18s 631us/step - loss: 0.0867 - acc: 0.9649 - val_loss: 0.2595 - val_acc: 0.9419\n",
      "Epoch 116/150\n",
      "28796/28796 [==============================] - 18s 641us/step - loss: 0.0907 - acc: 0.9645 - val_loss: 0.2783 - val_acc: 0.9337\n",
      "Epoch 117/150\n",
      "28796/28796 [==============================] - 18s 628us/step - loss: 0.0894 - acc: 0.9638 - val_loss: 0.2686 - val_acc: 0.9422\n",
      "Epoch 118/150\n",
      "28796/28796 [==============================] - 18s 639us/step - loss: 0.0870 - acc: 0.9657 - val_loss: 0.2710 - val_acc: 0.93810.0886 - acc:  - ETA: 3s - loss: 0.0877 - ac - ETA: 2s - loss: 0.0870 - ac\n",
      "Epoch 119/150\n",
      "28796/28796 [==============================] - 18s 636us/step - loss: 0.0861 - acc: 0.9658 - val_loss: 0.2879 - val_acc: 0.9360\n",
      "Epoch 120/150\n",
      "28796/28796 [==============================] - 19s 649us/step - loss: 0.0949 - acc: 0.9632 - val_loss: 0.2970 - val_acc: 0.9379 ETA: 2s - loss: 0.0977 - acc: 0.9 - ETA: 2s - l - ETA: 1s - loss: 0.0956 - acc: 0 - ETA: 0s - loss: 0.0955 - a - ETA: 0s - loss: 0.0943 - acc: 0\n",
      "Epoch 121/150\n",
      "28796/28796 [==============================] - 18s 635us/step - loss: 0.0871 - acc: 0.9662 - val_loss: 0.2718 - val_acc: 0.9392\n",
      "Epoch 122/150\n",
      "28796/28796 [==============================] - 18s 632us/step - loss: 0.0921 - acc: 0.9650 - val_loss: 0.2748 - val_acc: 0.9367A: 0s - loss: 0.0922 - acc: 0.\n",
      "Epoch 123/150\n",
      "28796/28796 [==============================] - 18s 640us/step - loss: 0.0890 - acc: 0.9648 - val_loss: 0.2692 - val_acc: 0.9318\n",
      "Epoch 124/150\n",
      "28796/28796 [==============================] - 18s 641us/step - loss: 0.0882 - acc: 0.9662 - val_loss: 0.2663 - val_acc: 0.9414 ETA: 6s - loss: 0.0819 - acc - ETA: 6s - loss: 0.0828 - a - ETA: 3s  - ETA: 0s - loss: 0.0883 - acc: 0.966\n",
      "Epoch 125/150\n",
      "28796/28796 [==============================] - 18s 642us/step - loss: 0.0880 - acc: 0.9654 - val_loss: 0.2619 - val_acc: 0.9417A: 14s - lo - ETA: 10s - loss: 0.0787 - acc:  - ETA: 10s - loss: 0.0796 - - ETA: 9s - loss: 0.078 - \n",
      "Epoch 126/150\n",
      "28796/28796 [==============================] - 19s 643us/step - loss: 0.0873 - acc: 0.9652 - val_loss: 0.2582 - val_acc: 0.9442 - loss: 0.0878 -  - ETA: 3s - loss: 0.0879 - ac - ETA: 3s - loss: 0.0878 - acc - ETA: 2s - los - ETA: 1s - l - ETA: 0s - loss: 0.0875 - acc: 0.9\n",
      "Epoch 127/150\n",
      "28796/28796 [==============================] - 19s 647us/step - loss: 0.0835 - acc: 0.9665 - val_loss: 0.2983 - val_acc: 0.9367\n",
      "Epoch 128/150\n",
      "28796/28796 [==============================] - 19s 645us/step - loss: 0.0927 - acc: 0.9646 - val_loss: 0.2885 - val_acc: 0.94011 - ETA: 7s - loss: 0.09 - ETA: 6s\n",
      "Epoch 129/150\n",
      "28796/28796 [==============================] - 19s 648us/step - loss: 0.0799 - acc: 0.9689 - val_loss: 0.2814 - val_acc: 0.9433\n",
      "Epoch 130/150\n",
      "28796/28796 [==============================] - 19s 657us/step - loss: 0.0849 - acc: 0.9681 - val_loss: 0.2708 - val_acc: 0.9411ETA: 5s - loss - ETA: 4s - loss: 0. - ETA: 3s - - ETA: 1s - los - ETA: 0s - loss: 0.0845 - acc: 0.9\n",
      "Epoch 131/150\n",
      "28796/28796 [==============================] - 19s 643us/step - loss: 0.0870 - acc: 0.9663 - val_loss: 0.2826 - val_acc: 0.9415 loss: 0.0863 - \n",
      "Epoch 132/150\n",
      "28796/28796 [==============================] - 19s 649us/step - loss: 0.0801 - acc: 0.9690 - val_loss: 0.2864 - val_acc: 0.9418TA: 2s - loss - ETA: 1s - loss: 0.0819 - acc - ETA: 1s - loss: 0.0815 - acc: 0.9 - ETA: 0s - loss: 0.081\n",
      "Epoch 133/150\n",
      "28796/28796 [==============================] - 19s 658us/step - loss: 0.0872 - acc: 0.9663 - val_loss: 0.2814 - val_acc: 0.9325 8s - loss: 0.0786 - ac - ETA: 8s - loss: 0.0795 - acc: 0.96 - ETA: 7s - loss: 0.0799 - acc: 0 - ETA: 7s - loss: 0.0809 - - ETA: 6s -  - ETA: 5s - loss: 0.0829 - acc: 0.967 - ETA: 5s - loss: 0.0830 - ac - ETA: 4s - loss: 0 - ETA:  - ETA: 1s - loss: 0.0858 - acc: 0 - ETA: 1s - lo - ETA: 0s - loss: 0.0870 - acc: 0. - ETA: 0s - loss: 0.0871 - acc: 0.96\n",
      "Epoch 134/150\n",
      "28796/28796 [==============================] - 19s 653us/step - loss: 0.0916 - acc: 0.9651 - val_loss: 0.2802 - val_acc: 0.9419 loss: 0.09 - E  - - ETA: 0s - loss: 0.0925 \n",
      "Epoch 135/150\n",
      "28796/28796 [==============================] - 19s 656us/step - loss: 0.0841 - acc: 0.9678 - val_loss: 0.2859 - val_acc: 0.9449\n",
      "Epoch 136/150\n",
      "28796/28796 [==============================] - 19s 671us/step - loss: 0.0895 - acc: 0.9663 - val_loss: 0.2713 - val_acc: 0.9396acc:  - ETA: 15s - loss: 0.0863 - acc - ETA: 13s - loss: 0.0977 - acc - ETA: 13s - loss: 0.09 - ETA: 1 - ETA: 9s - loss: 0.0887 - a - ETA: 8s - loss: 0.0875 - acc: 0. - ETA: 8s - ETA: 6s - loss: 0.0848 - acc: - ETA: 6s - loss: 0.0858 - acc: - ETA: 5s - loss: 0.0856 - acc: - ETA: 5s - loss - ETA: 4s -  - ETA: 2s - - ETA: 1s - loss: 0.0892 - acc: 0 - ETA: 0s - loss: 0.0900 - acc: 0.966 - ETA: 0s - loss: 0.0898 - acc - ETA: 0s - loss: 0.0896 - acc: 0.966 - ETA: 0s - loss: 0.0895 - acc: \n",
      "Epoch 137/150\n"
     ]
    },
    {
     "name": "stdout",
     "output_type": "stream",
     "text": [
      "28796/28796 [==============================] - 19s 670us/step - loss: 0.0852 - acc: 0.9681 - val_loss: 0.2799 - val_acc: 0.93560.0861 - ETA: 6s - loss: 0.0849 - ETA: 5s - loss: - ETA: 4s - loss:  - ETA: 3s - loss: 0.0840  - ETA: 2s - loss: 0.0829 - ac - ETA - ETA: 0s - loss: 0.0846 - acc: 0.9\n",
      "Epoch 138/150\n",
      "28796/28796 [==============================] - 19s 668us/step - loss: 0.0863 - acc: 0.9670 - val_loss: 0.2844 - val_acc: 0.9417cc: 0.967 - ETA: 7s - loss: 0.0815 - acc: 0.967 - ETA: 7s - loss: 0. - ETA: 6s - - ETA: 5s - loss: 0.0833 - acc - ETA: 4s - loss: 0.0825 - acc: 0.9 - ETA: 4s - lo - ETA: 2s - loss: 0.0858 - acc: 0.967 - ETA: 2s - los - ETA: 1s - l\n",
      "Epoch 139/150\n",
      "28796/28796 [==============================] - 19s 662us/step - loss: 0.0861 - acc: 0.9674 - val_loss: 0.2939 - val_acc: 0.9389 14s -  - ETA: 10s - loss: 0.0792 - acc: 0.96 - ETA: 10s - loss: 0.0791 - acc: 0.96 - ETA: 10s - loss: 0.0792 - a - ETA: 10s -  - ETA: 9s - los - ETA: 7s - loss: 0.0804 - acc: - ETA: 7s - loss: 0.0806 - acc: 0. - ETA: 7s - los - ETA: 5s - loss - ETA: 4s - loss: - ETA: 3s - loss: 0.0823 - acc - ETA: 2s - loss: 0.0830 - acc:\n",
      "Epoch 140/150\n",
      "28796/28796 [==============================] - 19s 669us/step - loss: 0.0794 - acc: 0.9692 - val_loss: 0.3056 - val_acc: 0.9394 9s - loss: 0.0757 - acc: 0. - ETA: 8s - loss: 0.0758 - acc: 0. - ETA: 8s - loss: 0.0764 -  - ETA: 7s - loss: 0.0769 - acc: 0.9 - ETA: 7 - ETA: 5s - loss: 0.0763 - acc: 0.970 - ETA: 5s - loss:  - ETA: 0s - loss: 0.0789 - acc: 0.969\n",
      "Epoch 141/150\n",
      "28796/28796 [==============================] - 19s 668us/step - loss: 0.0798 - acc: 0.9699 - val_loss: 0.2993 - val_acc: 0.9403loss: 0.0766 - acc - ETA: 8 - ETA: 7s - loss: 0.0759 - acc: 0.971 - ETA: 6s - l - ETA: 5s - loss: 0.0772 - acc: 0.9 - ETA: 5s - loss: 0.0783 - acc - ETA: 4s -  - ETA: 3s - loss - ETA: 1s - loss: 0.07 - ETA: 0s - loss: 0.0792 - acc: 0. - ETA: 0s - loss: 0.0793 \n",
      "Epoch 142/150\n",
      "28796/28796 [==============================] - 19s 665us/step - loss: 0.0809 - acc: 0.9696 - val_loss: 0.3009 - val_acc: 0.93461 - acc - ETA: 15s  - ETA: 14s - loss: 0.0767 - a - ETA: 14s - loss: 0.0767 - acc: 0.97 - ETA: 14s - loss: 0.0764 - ETA: 14s - loss: 0.0809 - E - ETA: 10s - loss: 0.0785 - acc - ETA: 10s - loss: 0.0785 - a - ETA: 9s - loss: 0.0786 - acc: - ETA: 9s - loss: 0.0777 - acc - ETA: 8s - loss: 0.0778 -  - ETA: 7 - ETA: 6s - loss: 0.0781 - acc: 0.970 - ETA: 6s - loss: 0.0779 - - ETA: 5s - los - ETA: 4s - loss: 0.0815  - ETA: 3s - loss: 0.08 - ETA: 2s - loss: 0.0814 - ETA: 1s -\n",
      "Epoch 143/150\n",
      "28796/28796 [==============================] - 19s 671us/step - loss: 0.0862 - acc: 0.9677 - val_loss: 0.2908 - val_acc: 0.9407s: 0.0833 - acc: 0. - ETA: 16s - loss: 0.0814 - acc:  - ETA: 16s - loss: 0.0810 - acc - ETA: 15s - loss: 0.08 - ETA: 15s - loss - ETA: 14 - - ETA: 12s - loss: 0.08 - ETA: 5s - loss: 0.0860 - acc: 0 - ETA: 5s - loss: 0.0865 - - ETA: 4s - loss: 0.0856 - acc: 0.9 - ETA: 4s - loss: 0.08 - ETA: 3s - loss:  - ETA: 2 - ETA: 0s - loss: 0.0862 - acc: \n",
      "Epoch 144/150\n",
      "28796/28796 [==============================] - 20s 680us/step - loss: 0.0818 - acc: 0.9683 - val_loss: 0.2831 - val_acc: 0.9419 15s - loss: 0.0649 - acc: 0.97 - ETA: 15s - loss: 0.0646 - acc - ETA: 14s -  - ETA: 13s - loss: 0. - ETA: 11s - loss: 0.0708 - acc - ETA: 11s - lo - ETA: - ETA: 9s - loss: 0.0744 - acc: 0 - ETA: 9s - loss: 0.0757 - acc:  - ETA: 9s - loss: 0.0762 - acc - ETA: 8s - loss: 0. - ETA: 7s - loss: 0.0757 - acc: 0. - ETA: 7s - loss: 0.0756 - ETA:\n",
      "Epoch 145/150\n",
      "28796/28796 [==============================] - 19s 671us/step - loss: 0.0827 - acc: 0.9682 - val_loss: 0.2887 - val_acc: 0.9383: 8s - loss: 0.0868 - acc - ETA: 7s - loss: 0.0863 - - ETA: 6s - loss: 0.0855 - acc: - ETA: 6s - loss: 0.0848 - acc: 0. - ETA: 6s - loss: 0.0 - ETA: 5s - loss: 0.0 - ETA: 4s - loss: 0.0836 - ETA: 3s - loss: 0.0829 - acc: 0.968 - ETA: 3s - loss: 0.0829 - acc: 0.968 - ETA: 3s - loss: 0.0829 - ETA: 2s  - ETA: 0s - loss: 0.0829\n",
      "Epoch 146/150\n",
      "28796/28796 [==============================] - 20s 678us/step - loss: 0.0823 - acc: 0.9691 - val_loss: 0.2956 - val_acc: 0.9360: 0.0798 - acc:  - ETA: 4s -  - ETA: 2s - loss: 0.0813 - ac - ETA: 1s - loss: 0.0819 - acc: 0.969 - ETA: 1\n",
      "Epoch 147/150\n",
      "28796/28796 [==============================] - 19s 671us/step - loss: 0.0845 - acc: 0.9684 - val_loss: 0.2853 - val_acc: 0.9333 10s - loss: 0.0876 - a - ETA: 9s - loss: 0.0865 - - ETA: 8s - loss: 0.0868 - acc: 0 - ETA: 8s - loss: 0.0875 - acc: 0.967 - ETA: 8s - - ETA: 7s - loss: 0.0884 - - ETA: 6s - loss: 0 - ETA: 5s - loss: 0.0901 - acc: 0.966 - ETA: 5s - loss: 0.0899 - acc: 0 - ETA: 4s - loss: 0.0893 - ac - ETA: 4 - ETA: 2s - loss: 0.08 - ETA: 1s - loss: 0.0847 - acc:  - ETA: 1s - loss: 0.0842 - acc:  - ETA: 0s - loss: 0.0847 - acc:  - ETA: 0s - loss: 0.0844 - acc\n",
      "Epoch 148/150\n",
      "28796/28796 [==============================] - 19s 671us/step - loss: 0.0793 - acc: 0.9687 - val_loss: 0.2899 - val_acc: 0.9428 0.0753 - acc: 0.97 - ETA: 16s - loss - ETA: 15s - loss: 0.0791 - acc - ETA: 15s - loss: 0. - ETA: 15s - loss: 0.0771 - acc: 0.96 - ETA: 15s - loss: 0.0768 - acc: 0.96 - ETA: 14s - loss: 0.0757 - ETA: 14s - loss: 0.0747 - acc: 0.96 - ETA: 14s - loss: 0.0738 - acc: 0.96 - ETA: 11s - loss: 0.0710 - a  - ETA: 9s - loss: 0.0747 - acc: 0. - ET - ETA: 4s - loss: 0.0748 -  - ETA: 4s - loss: 0.0758 - acc: 0 - ETA: 3s - loss: 0.0751 - acc: 0. - ETA: 3s - los - ETA: 2s - loss: 0.0767 -  - ETA: 1s - l\n",
      "Epoch 149/150\n",
      "28796/28796 [==============================] - 20s 689us/step - loss: 0.0843 - acc: 0.9682 - val_loss: 0.2758 - val_acc: 0.9415- ETA: 13s - loss: 0. - ETA: 12s - loss: 0.0799 - a - ETA: 12s - loss: 0.0794 - ETA: 11s - loss: 0.0793 - a - ETA: 11s - loss: 0.0784 - a - ETA: 11s - loss: 0.0795 - acc: 0.96 - ETA: 11s - - ETA: - ETA: 6s - loss: 0 - ETA: 5s - loss: 0.0837 - ETA:  - ETA: 2s - loss: 0.0841 - acc: - ETA: 2s - loss: 0.0847 - acc: 0. - ETA: 1s - loss: 0.0847 - ETA: 0s - loss: 0.0843 - acc: 0 - ETA: 0s - loss: 0.0850 - a\n",
      "Epoch 150/150\n",
      "28796/28796 [==============================] - 20s 684us/step - loss: 0.0790 - acc: 0.9693 - val_loss: 0.2894 - val_acc: 0.9436oss: 0.07 - ETA - ETA: 7s - loss: 0.0779 - acc - ETA: 6s - l - ETA: 5s - loss: 0.0823 - - ETA: 4s - loss: 0.0827 - acc: 0.96 - ETA: 4s - loss: 0.0827 - acc:  - ETA: 4s - loss: 0.0824 - ac - ETA: 1s - los\n"
     ]
    }
   ],
   "source": [
    "history = acm_model.fit(x = X_train, y = Y_train, epochs = 150, batch_size = 32, validation_data=(X_test,Y_test))"
   ]
  },
  {
   "cell_type": "markdown",
   "metadata": {},
   "source": [
    "batch_size = 128\n",
    "epochs = 10\n",
    "acm_model.fit(X_train, Y_train,\n",
    "          batch_size=batch_size,\n",
    "          epochs=epochs,\n",
    "          verbose=1,\n",
    "          validation_data=(X_test, Y_test))\n",
    "          \n",
    "model.summary()"
   ]
  },
  {
   "cell_type": "code",
   "execution_count": 42,
   "metadata": {},
   "outputs": [
    {
     "name": "stdout",
     "output_type": "stream",
     "text": [
      "dict_keys(['val_loss', 'val_acc', 'loss', 'acc'])\n"
     ]
    },
    {
     "data": {
      "image/png": "[encoded data removed]",
      "text/plain": [
       "<Figure size 432x288 with 1 Axes>"
      ]
     },
     "metadata": {
      "needs_background": "light"
     },
     "output_type": "display_data"
    },
    {
     "data": {
      "image/png": "[encoded data removed]",
      "text/plain": [
       "<Figure size 432x288 with 1 Axes>"
      ]
     },
     "metadata": {
      "needs_background": "light"
     },
     "output_type": "display_data"
    }
   ],
   "source": [
    "print(history.history.keys())\n",
    "# summarize and plot history for accuracy\n",
    "plt.plot(history.history['acc'])\n",
    "plt.plot(history.history['val_acc'])\n",
    "plt.title('model accuracy')\n",
    "plt.ylabel('accuracy')\n",
    "plt.xlabel('epoch')\n",
    "plt.legend(['train', 'test'], loc='upper left')\n",
    "plt.show()\n",
    "# summarize and plot history for loss\n",
    "plt.plot(history.history['loss'])\n",
    "plt.plot(history.history['val_loss'])\n",
    "plt.title('model loss')\n",
    "plt.ylabel('loss')\n",
    "plt.xlabel('epoch')\n",
    "plt.legend(['train', 'test'], loc='upper left')\n",
    "plt.show()"
   ]
  },
  {
   "cell_type": "markdown",
   "metadata": {},
   "source": [
    "### 5.5 Model Summary"
   ]
  },
  {
   "cell_type": "code",
   "execution_count": 43,
   "metadata": {},
   "outputs": [
    {
     "name": "stdout",
     "output_type": "stream",
     "text": [
      "_________________________________________________________________\n",
      "Layer (type)                 Output Shape              Param #   \n",
      "=================================================================\n",
      "conv1d_7 (Conv1D)            (None, 5, 100)            18500     \n",
      "_________________________________________________________________\n",
      "conv1d_8 (Conv1D)            (None, 2, 100)            40100     \n",
      "_________________________________________________________________\n",
      "conv1d_9 (Conv1D)            (None, 1, 100)            20100     \n",
      "_________________________________________________________________\n",
      "dropout_3 (Dropout)          (None, 1, 100)            0         \n",
      "_________________________________________________________________\n",
      "flatten_3 (Flatten)          (None, 100)               0         \n",
      "_________________________________________________________________\n",
      "dense_5 (Dense)              (None, 100)               10100     \n",
      "_________________________________________________________________\n",
      "dense_6 (Dense)              (None, 14)                1414      \n",
      "=================================================================\n",
      "Total params: 90,214\n",
      "Trainable params: 90,214\n",
      "Non-trainable params: 0\n",
      "_________________________________________________________________\n"
     ]
    }
   ],
   "source": [
    "acm_model.summary()"
   ]
  },
  {
   "cell_type": "markdown",
   "metadata": {},
   "source": [
    "### 5.6 Accuracy on Test data"
   ]
  },
  {
   "cell_type": "code",
   "execution_count": 44,
   "metadata": {},
   "outputs": [
    {
     "name": "stdout",
     "output_type": "stream",
     "text": [
      "7200/7200 [==============================] - 2s 219us/step\n",
      "\n",
      "Loss = 0.2894232422698082\n",
      "Test Accuracy = 0.9436111111111111\n"
     ]
    }
   ],
   "source": [
    "preds = acm_model.evaluate(x=X_test, y=Y_test)\n",
    "\n",
    "print()\n",
    "print(\"Loss = \" + str(preds[0]))\n",
    "print(\"Test Accuracy = \" + str(preds[1]))\n"
   ]
  },
  {
   "cell_type": "markdown",
   "metadata": {},
   "source": [
    "### 5.7 Predict on Test data"
   ]
  },
  {
   "cell_type": "code",
   "execution_count": 45,
   "metadata": {
    "scrolled": true
   },
   "outputs": [
    {
     "name": "stdout",
     "output_type": "stream",
     "text": [
      "Shape of X_test: (7200, 8, 46)\n",
      "Shape of Y_predict: (7200,)\n",
      "Shape of Y_test: (7200, 14)\n",
      "Shape of Y_test (back from one-hot): (7200,)\n"
     ]
    }
   ],
   "source": [
    "# Predict on test set (X_test)\n",
    "print(\"Shape of X_test:\", X_test.shape)\n",
    "\n",
    "Y_predict = acm_model.predict_classes(X_test)\n",
    "\n",
    "print(\"Shape of Y_predict:\", Y_predict.shape)\n",
    "print(\"Shape of Y_test:\", Y_test.shape)\n",
    "\n",
    "# Convert back from one hot to single integer\n",
    "Y_test = Y_test.argmax(axis=1)\n",
    "print(\"Shape of Y_test (back from one-hot):\", Y_test.shape)"
   ]
  },
  {
   "cell_type": "markdown",
   "metadata": {},
   "source": [
    "## 6. View Cofusion Matrix on Test data\n",
    "\n",
    "This is to see true preformance and to figure out how we can optimize training"
   ]
  },
  {
   "cell_type": "code",
   "execution_count": 46,
   "metadata": {},
   "outputs": [
    {
     "data": {
      "text/plain": [
       "array([[4109,    0,    0,    1,   23,    5,   96,    6,   10,   10,    1,\n",
       "           9,    4,    0],\n",
       "       [   0,  121,    1,    0,    1,    0,    0,    0,    2,    0,    1,\n",
       "           0,    0,    0],\n",
       "       [   2,    0,    4,    0,    1,    0,    0,    0,    0,    0,    0,\n",
       "           0,    0,    0],\n",
       "       [   1,    1,    0,  227,    0,    0,    0,    0,    0,    0,    0,\n",
       "           0,    0,    0],\n",
       "       [   9,    0,    0,    0,  338,    0,    4,    2,    9,    0,    0,\n",
       "           2,    0,    0],\n",
       "       [   4,    0,    0,    0,    0,   36,    0,    8,    1,    0,    0,\n",
       "           0,    0,    0],\n",
       "       [  88,    0,    0,    0,    6,    2,  922,   13,    9,    0,    0,\n",
       "           0,    0,    0],\n",
       "       [   3,    0,    0,    1,    4,    0,   12,  479,    0,    0,    0,\n",
       "           0,    0,    0],\n",
       "       [  12,    0,    0,    0,   12,    1,    3,    3,   81,    0,    4,\n",
       "           0,    0,    0],\n",
       "       [   0,    0,    0,    0,    0,    0,    2,    0,    0,  230,    0,\n",
       "           0,    0,    0],\n",
       "       [   0,    0,    0,    0,    0,    0,    0,    0,    2,    0,   26,\n",
       "           0,    0,    1],\n",
       "       [   4,    0,    0,    0,    1,    0,    0,    1,    0,    0,    0,\n",
       "          89,    0,    0],\n",
       "       [   3,    0,    0,    0,    0,    0,    0,    0,    0,    0,    0,\n",
       "           2,   76,    0],\n",
       "       [   0,    0,    0,    0,    1,    0,    0,    0,    0,    0,    1,\n",
       "           0,    1,   56]], dtype=int64)"
      ]
     },
     "execution_count": 46,
     "metadata": {},
     "output_type": "execute_result"
    }
   ],
   "source": [
    "import matplotlib.pyplot as plt\n",
    "\n",
    "from sklearn.metrics import confusion_matrix\n",
    "from sklearn.utils.multiclass import unique_labels\n",
    "confusion_matrix(Y_test, Y_predict)"
   ]
  },
  {
   "cell_type": "code",
   "execution_count": 47,
   "metadata": {},
   "outputs": [],
   "source": [
    "def plot_confusion_matrix(y_true, y_pred, classes,\n",
    "                          normalize=True,\n",
    "                          title=None,\n",
    "                          cmap=plt.cm.Blues):\n",
    "    \"\"\"\n",
    "    This function prints and plots the confusion matrix.\n",
    "    Normalization can be applied by setting `normalize=True`.\n",
    "    \"\"\"\n",
    "    if not title:\n",
    "        if normalize:\n",
    "            title = 'Normalized confusion matrix'\n",
    "        else:\n",
    "            title = 'Confusion matrix, without normalization'\n",
    "\n",
    "    # Compute confusion matrix\n",
    "    cm = confusion_matrix(y_true, y_pred)\n",
    "    # Only use the labels that appear in the data\n",
    "    classes = classes[unique_labels(y_true, y_pred)]\n",
    "    if normalize:\n",
    "        cm = cm.astype('float') / cm.sum(axis=1)[:, np.newaxis]\n",
    "        print(\"Normalized confusion matrix\")\n",
    "    else:\n",
    "        print('Confusion matrix, without normalization')\n",
    "\n",
    "    print(cm)\n",
    "\n",
    "    fig, ax = plt.subplots()\n",
    "    im = ax.imshow(cm, interpolation='nearest', cmap=cmap)\n",
    "    ax.figure.colorbar(im, ax=ax)\n",
    "    # We want to show all ticks...\n",
    "    ax.set(xticks=np.arange(cm.shape[1]),\n",
    "           yticks=np.arange(cm.shape[0]),\n",
    "           # ... and label them with the respective list entries\n",
    "           xticklabels=classes, yticklabels=classes,\n",
    "           title=title,\n",
    "           ylabel='True label',\n",
    "           xlabel='Predicted label')\n",
    "\n",
    "    # Rotate the tick labels and set their alignment.\n",
    "    plt.setp(ax.get_xticklabels(), rotation=45, ha=\"right\",\n",
    "             rotation_mode=\"anchor\")\n",
    "\n",
    "    # Loop over data dimensions and create text annotations.\n",
    "    fmt = '.2f' if normalize else 'd'\n",
    "    thresh = cm.max() / 2.\n",
    "    for i in range(cm.shape[0]):\n",
    "        for j in range(cm.shape[1]):\n",
    "            ax.text(j, i, format(cm[i, j], fmt),\n",
    "                    ha=\"center\", va=\"center\",\n",
    "                    color=\"white\" if cm[i, j] > thresh else \"black\")\n",
    "    #fig.tight_layout()\n",
    "    plt.rcParams[\"figure.figsize\"] = (8,6)\n",
    "    return ax\n"
   ]
  },
  {
   "cell_type": "code",
   "execution_count": 48,
   "metadata": {
    "scrolled": true
   },
   "outputs": [
    {
     "name": "stdout",
     "output_type": "stream",
     "text": [
      "Unique labels are: [ 0.  1.  2.  3.  4.  5.  6.  7.  8.  9. 10. 11. 12. 13.]\n",
      "Confusion matrix, without normalization\n",
      "[[4109    0    0    1   23    5   96    6   10   10    1    9    4    0]\n",
      " [   0  121    1    0    1    0    0    0    2    0    1    0    0    0]\n",
      " [   2    0    4    0    1    0    0    0    0    0    0    0    0    0]\n",
      " [   1    1    0  227    0    0    0    0    0    0    0    0    0    0]\n",
      " [   9    0    0    0  338    0    4    2    9    0    0    2    0    0]\n",
      " [   4    0    0    0    0   36    0    8    1    0    0    0    0    0]\n",
      " [  88    0    0    0    6    2  922   13    9    0    0    0    0    0]\n",
      " [   3    0    0    1    4    0   12  479    0    0    0    0    0    0]\n",
      " [  12    0    0    0   12    1    3    3   81    0    4    0    0    0]\n",
      " [   0    0    0    0    0    0    2    0    0  230    0    0    0    0]\n",
      " [   0    0    0    0    0    0    0    0    2    0   26    0    0    1]\n",
      " [   4    0    0    0    1    0    0    1    0    0    0   89    0    0]\n",
      " [   3    0    0    0    0    0    0    0    0    0    0    2   76    0]\n",
      " [   0    0    0    0    1    0    0    0    0    0    1    0    1   56]]\n",
      "Normalized confusion matrix\n",
      "[[9.61394478e-01 0.00000000e+00 0.00000000e+00 2.33972859e-04\n",
      "  5.38137576e-03 1.16986430e-03 2.24613945e-02 1.40383715e-03\n",
      "  2.33972859e-03 2.33972859e-03 2.33972859e-04 2.10575573e-03\n",
      "  9.35891437e-04 0.00000000e+00]\n",
      " [0.00000000e+00 9.60317460e-01 7.93650794e-03 0.00000000e+00\n",
      "  7.93650794e-03 0.00000000e+00 0.00000000e+00 0.00000000e+00\n",
      "  1.58730159e-02 0.00000000e+00 7.93650794e-03 0.00000000e+00\n",
      "  0.00000000e+00 0.00000000e+00]\n",
      " [2.85714286e-01 0.00000000e+00 5.71428571e-01 0.00000000e+00\n",
      "  1.42857143e-01 0.00000000e+00 0.00000000e+00 0.00000000e+00\n",
      "  0.00000000e+00 0.00000000e+00 0.00000000e+00 0.00000000e+00\n",
      "  0.00000000e+00 0.00000000e+00]\n",
      " [4.36681223e-03 4.36681223e-03 0.00000000e+00 9.91266376e-01\n",
      "  0.00000000e+00 0.00000000e+00 0.00000000e+00 0.00000000e+00\n",
      "  0.00000000e+00 0.00000000e+00 0.00000000e+00 0.00000000e+00\n",
      "  0.00000000e+00 0.00000000e+00]\n",
      " [2.47252747e-02 0.00000000e+00 0.00000000e+00 0.00000000e+00\n",
      "  9.28571429e-01 0.00000000e+00 1.09890110e-02 5.49450549e-03\n",
      "  2.47252747e-02 0.00000000e+00 0.00000000e+00 5.49450549e-03\n",
      "  0.00000000e+00 0.00000000e+00]\n",
      " [8.16326531e-02 0.00000000e+00 0.00000000e+00 0.00000000e+00\n",
      "  0.00000000e+00 7.34693878e-01 0.00000000e+00 1.63265306e-01\n",
      "  2.04081633e-02 0.00000000e+00 0.00000000e+00 0.00000000e+00\n",
      "  0.00000000e+00 0.00000000e+00]\n",
      " [8.46153846e-02 0.00000000e+00 0.00000000e+00 0.00000000e+00\n",
      "  5.76923077e-03 1.92307692e-03 8.86538462e-01 1.25000000e-02\n",
      "  8.65384615e-03 0.00000000e+00 0.00000000e+00 0.00000000e+00\n",
      "  0.00000000e+00 0.00000000e+00]\n",
      " [6.01202405e-03 0.00000000e+00 0.00000000e+00 2.00400802e-03\n",
      "  8.01603206e-03 0.00000000e+00 2.40480962e-02 9.59919840e-01\n",
      "  0.00000000e+00 0.00000000e+00 0.00000000e+00 0.00000000e+00\n",
      "  0.00000000e+00 0.00000000e+00]\n",
      " [1.03448276e-01 0.00000000e+00 0.00000000e+00 0.00000000e+00\n",
      "  1.03448276e-01 8.62068966e-03 2.58620690e-02 2.58620690e-02\n",
      "  6.98275862e-01 0.00000000e+00 3.44827586e-02 0.00000000e+00\n",
      "  0.00000000e+00 0.00000000e+00]\n",
      " [0.00000000e+00 0.00000000e+00 0.00000000e+00 0.00000000e+00\n",
      "  0.00000000e+00 0.00000000e+00 8.62068966e-03 0.00000000e+00\n",
      "  0.00000000e+00 9.91379310e-01 0.00000000e+00 0.00000000e+00\n",
      "  0.00000000e+00 0.00000000e+00]\n",
      " [0.00000000e+00 0.00000000e+00 0.00000000e+00 0.00000000e+00\n",
      "  0.00000000e+00 0.00000000e+00 0.00000000e+00 0.00000000e+00\n",
      "  6.89655172e-02 0.00000000e+00 8.96551724e-01 0.00000000e+00\n",
      "  0.00000000e+00 3.44827586e-02]\n",
      " [4.21052632e-02 0.00000000e+00 0.00000000e+00 0.00000000e+00\n",
      "  1.05263158e-02 0.00000000e+00 0.00000000e+00 1.05263158e-02\n",
      "  0.00000000e+00 0.00000000e+00 0.00000000e+00 9.36842105e-01\n",
      "  0.00000000e+00 0.00000000e+00]\n",
      " [3.70370370e-02 0.00000000e+00 0.00000000e+00 0.00000000e+00\n",
      "  0.00000000e+00 0.00000000e+00 0.00000000e+00 0.00000000e+00\n",
      "  0.00000000e+00 0.00000000e+00 0.00000000e+00 2.46913580e-02\n",
      "  9.38271605e-01 0.00000000e+00]\n",
      " [0.00000000e+00 0.00000000e+00 0.00000000e+00 0.00000000e+00\n",
      "  1.69491525e-02 0.00000000e+00 0.00000000e+00 0.00000000e+00\n",
      "  0.00000000e+00 0.00000000e+00 1.69491525e-02 0.00000000e+00\n",
      "  1.69491525e-02 9.49152542e-01]]\n",
      " \n",
      "\n",
      "0\tNo event detected\n",
      "1\tOut of service\n",
      "2\tHW restart\n",
      "3\tStuck on low modulation\n",
      "4\tUnstable Ant. support / Wind\n",
      "5\tIntermittent LOS problem\n",
      "6\tLOS or Alignment problem\n",
      "7\tBad LOS or Alignment problem\n",
      "8\tRain\n",
      "9\tStuck on mid modulation\n",
      "10\tWet snow\n",
      "11\tEquipment fault\n",
      "12\tEquipment fault far end\n",
      "13\tNo or limited data\n",
      "\n",
      "\n"
     ]
    },
    {
     "data": {
      "image/png": "[encoded data removed]",
      "text/plain": [
       "<Figure size 432x288 with 2 Axes>"
      ]
     },
     "metadata": {
      "needs_background": "light"
     },
     "output_type": "display_data"
    },
    {
     "data": {
      "image/png": "[encoded data removed]",
      "text/plain": [
       "<Figure size 576x432 with 2 Axes>"
      ]
     },
     "metadata": {
      "needs_background": "light"
     },
     "output_type": "display_data"
    }
   ],
   "source": [
    "U = unique_labels(Y)\n",
    "print(\"Unique labels are:\", U)\n",
    "\n",
    "\n",
    "# Call function to plot confusion matrix\n",
    "plot_confusion_matrix(Y_test, Y_predict,U,normalize=False,title=None,cmap=plt.cm.Blues)\n",
    "plot_confusion_matrix(Y_test, Y_predict,U,normalize=True,title=None,cmap=plt.cm.Blues)\n",
    "\n",
    "print(\"\"\" \n",
    "\n",
    "0\tNo event detected\n",
    "1\tOut of service\n",
    "2\tHW restart\n",
    "3\tStuck on low modulation\n",
    "4\tUnstable Ant. support / Wind\n",
    "5\tIntermittent LOS problem\n",
    "6\tLOS or Alignment problem\n",
    "7\tBad LOS or Alignment problem\n",
    "8\tRain\n",
    "9\tStuck on mid modulation\n",
    "10\tWet snow\n",
    "11\tEquipment fault\n",
    "12\tEquipment fault far end\n",
    "13\tNo or limited data\n",
    "\n",
    "\"\"\")\n",
    "\n",
    "\n"
   ]
  },
  {
   "cell_type": "markdown",
   "metadata": {},
   "source": [
    "# Save Model"
   ]
  },
  {
   "cell_type": "code",
   "execution_count": 49,
   "metadata": {},
   "outputs": [],
   "source": [
    "acm_model.save_weights('Eband_Model_CNN_8_weights.h5')\n",
    "\n",
    "acm_model.save ('Eband_Model_CNN_8.h5') # creates a HDF5 file that we will play with later on :)\n"
   ]
  },
  {
   "cell_type": "code",
   "execution_count": null,
   "metadata": {},
   "outputs": [],
   "source": []
  },
  {
   "cell_type": "code",
   "execution_count": null,
   "metadata": {},
   "outputs": [],
   "source": []
  },
  {
   "cell_type": "code",
   "execution_count": null,
   "metadata": {},
   "outputs": [],
   "source": []
  },
  {
   "cell_type": "code",
   "execution_count": null,
   "metadata": {},
   "outputs": [],
   "source": []
  }
 ],
 "metadata": {
  "kernelspec": {
   "display_name": "Python 3",
   "language": "python",
   "name": "python3"
  },
  "language_info": {
   "codemirror_mode": {
    "name": "ipython",
    "version": 3
   },
   "file_extension": ".py",
   "mimetype": "text/x-python",
   "name": "python",
   "nbconvert_exporter": "python",
   "pygments_lexer": "ipython3",
   "version": "3.6.8"
  }
 },
 "nbformat": 4,
 "nbformat_minor": 2
}
