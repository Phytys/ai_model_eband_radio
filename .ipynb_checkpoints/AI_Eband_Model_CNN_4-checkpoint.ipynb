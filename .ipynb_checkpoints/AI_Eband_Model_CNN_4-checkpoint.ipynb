{
 "cells": [
  {
   "cell_type": "markdown",
   "metadata": {},
   "source": [
    "# AI Eband Model CNN_4\n",
    "\n",
    "## **  Classify all 15 min periods **\n",
    "\n",
    "Glenn Landgren\n",
    "https://www.linkedin.com/in/glenn-landgren/\n"
   ]
  },
  {
   "cell_type": "markdown",
   "metadata": {},
   "source": [
    "## 1. Imports"
   ]
  },
  {
   "cell_type": "code",
   "execution_count": 34,
   "metadata": {},
   "outputs": [],
   "source": [
    "import numpy as np\n",
    "import pandas as pd\n",
    "\n",
    "import sklearn\n",
    "\n",
    "from matplotlib import pyplot\n",
    "\n",
    "from keras.models import Sequential\n",
    "from keras.models import Model\n",
    "\n",
    "from keras.layers import Input\n",
    "from keras.layers import Dense\n",
    "from keras.layers import Flatten\n",
    "from keras.layers import Dropout\n",
    "from keras.layers import Permute\n",
    "from keras.layers.convolutional import Conv1D\n",
    "from keras.layers.convolutional import MaxPooling1D\n",
    "from keras.utils import to_categorical, normalize\n",
    "\n",
    "import matplotlib.pyplot as plt\n",
    "import seaborn as sb\n",
    "\n",
    "%matplotlib inline\n",
    "# Set default fig size\n",
    "plt.rcParams[\"figure.figsize\"] = [8, 8]"
   ]
  },
  {
   "cell_type": "markdown",
   "metadata": {},
   "source": [
    "## 2. Get raw train data"
   ]
  },
  {
   "cell_type": "code",
   "execution_count": 35,
   "metadata": {},
   "outputs": [
    {
     "name": "stdout",
     "output_type": "stream",
     "text": [
      "shape of eband_dataset_cnn_4 is : (39168, 48)\n"
     ]
    },
    {
     "data": {
      "text/plain": [
       "Index(['NeAlias', 'HalfBPSK_Strong', 'HalfBPSK', 'HalfBPSK_Light',\n",
       "       'BPSK_Strong', 'BPSK', 'BPSK_Light', 'QAM4_Strong', 'QAM4',\n",
       "       'QAM4_Light', 'QAM16_Strong', 'QAM16', 'QAM16_Light', 'QAM32_Strong',\n",
       "       'QAM32', 'QAM32_Light', 'QAM64_Strong', 'QAM64', 'QAM64_Light',\n",
       "       'QAM128_Strong', 'QAM128', 'QAM128_Light', 'QAM256_Strong', 'QAM256',\n",
       "       'QAM256_Light', 'QAM512_Strong', 'QAM512', 'QAM512_Light',\n",
       "       'ModChanges_x', 'ES_x', 'SES_x', 'UAS_x', 'ActualReceived_Level_x',\n",
       "       'ES_y', 'SES_y', 'UAS_y', 'ActualReceived_Level_y', 'ModChanges_y',\n",
       "       'fading_metric', 'sum_errors', 'hw_fault', 'rx_levels_metric',\n",
       "       'ModChanges_metric', 'errors_metric', 'UAS_metric',\n",
       "       'fading_vs_rx_metric', 'Y_15min', 'Y_15min_text'],\n",
       "      dtype='object')"
      ]
     },
     "execution_count": 35,
     "metadata": {},
     "output_type": "execute_result"
    }
   ],
   "source": [
    "eband_dataset_cnn_4 = pd.read_csv(\"dataset/sharp_dataset/eband_dataset_cnn_4.csv\")\n",
    "print(\"shape of eband_dataset_cnn_4 is :\", eband_dataset_cnn_4.shape)\n",
    "eband_dataset_cnn_4.columns"
   ]
  },
  {
   "cell_type": "markdown",
   "metadata": {},
   "source": [
    "### 2.1. Copy df, shift rows up and concatenate\n",
    "### Note ! This is only done for a convnet based on \"grouping by four\" (4 timeperiods)\n",
    "Do this so the model will be trained on each row i.e. on each 15 min period\n",
    "\n",
    "( since we use 4 rows in model - the 15 min to classify use three previous 15 min periods )"
   ]
  },
  {
   "cell_type": "code",
   "execution_count": 36,
   "metadata": {},
   "outputs": [
    {
     "name": "stdout",
     "output_type": "stream",
     "text": [
      "shape of copy_1 (39167, 48)\n",
      "shape of copy_2 (39166, 48)\n",
      "shape of copy_3 (39165, 48)\n",
      "Shape of data_raw_train_all (156666, 48)\n"
     ]
    }
   ],
   "source": [
    "# For first copy remove first row\n",
    "\n",
    "copy_1 = eband_dataset_cnn_4.iloc[1:]\n",
    "print(\"shape of copy_1\", copy_1.shape)\n",
    "\n",
    "copy_2 = eband_dataset_cnn_4.iloc[2:]\n",
    "print(\"shape of copy_2\", copy_2.shape)\n",
    "\n",
    "copy_3 = eband_dataset_cnn_4.iloc[3:]\n",
    "print(\"shape of copy_3\", copy_3.shape)\n",
    "\n",
    "frames = [eband_dataset_cnn_4, copy_1, copy_2, copy_3]\n",
    "eband_dataset_extended = pd.concat(frames)\n",
    "print(\"Shape of data_raw_train_all\" , eband_dataset_extended.shape)"
   ]
  },
  {
   "cell_type": "markdown",
   "metadata": {},
   "source": [
    "### 2.2 Visualize data\n",
    "Note, only basic visualization is shown here"
   ]
  },
  {
   "cell_type": "markdown",
   "metadata": {},
   "source": [
    "### 2.2.1 Class disribution"
   ]
  },
  {
   "cell_type": "code",
   "execution_count": 37,
   "metadata": {},
   "outputs": [
    {
     "data": {
      "text/html": [
       "<div>\n",
       "<style scoped>\n",
       "    .dataframe tbody tr th:only-of-type {\n",
       "        vertical-align: middle;\n",
       "    }\n",
       "\n",
       "    .dataframe tbody tr th {\n",
       "        vertical-align: top;\n",
       "    }\n",
       "\n",
       "    .dataframe thead th {\n",
       "        text-align: right;\n",
       "    }\n",
       "</style>\n",
       "<table border=\"1\" class=\"dataframe\">\n",
       "  <thead>\n",
       "    <tr style=\"text-align: right;\">\n",
       "      <th></th>\n",
       "      <th>Y_15min</th>\n",
       "      <th>Number of train examples</th>\n",
       "      <th>For validation/ test (80/20)</th>\n",
       "      <th>errors_average</th>\n",
       "      <th>UAS_metric_average</th>\n",
       "      <th>fading_metric_average</th>\n",
       "      <th>rx_levels_metric_average</th>\n",
       "    </tr>\n",
       "    <tr>\n",
       "      <th>Y_15min_text</th>\n",
       "      <th></th>\n",
       "      <th></th>\n",
       "      <th></th>\n",
       "      <th></th>\n",
       "      <th></th>\n",
       "      <th></th>\n",
       "      <th></th>\n",
       "    </tr>\n",
       "  </thead>\n",
       "  <tbody>\n",
       "    <tr>\n",
       "      <th>0. No event</th>\n",
       "      <td>0</td>\n",
       "      <td>23276</td>\n",
       "      <td>4655.2</td>\n",
       "      <td>0.1</td>\n",
       "      <td>0.0</td>\n",
       "      <td>5.2</td>\n",
       "      <td>-56.9</td>\n",
       "    </tr>\n",
       "    <tr>\n",
       "      <th>1. Out of service.</th>\n",
       "      <td>1</td>\n",
       "      <td>675</td>\n",
       "      <td>135.0</td>\n",
       "      <td>-1.5</td>\n",
       "      <td>880.9</td>\n",
       "      <td>15104.9</td>\n",
       "      <td>-83.0</td>\n",
       "    </tr>\n",
       "    <tr>\n",
       "      <th>2. HW restart.</th>\n",
       "      <td>2</td>\n",
       "      <td>25</td>\n",
       "      <td>5.0</td>\n",
       "      <td>-1.8</td>\n",
       "      <td>99.6</td>\n",
       "      <td>1382.5</td>\n",
       "      <td>-54.3</td>\n",
       "    </tr>\n",
       "    <tr>\n",
       "      <th>3. Stuck on low modulation.</th>\n",
       "      <td>3</td>\n",
       "      <td>1299</td>\n",
       "      <td>259.8</td>\n",
       "      <td>-0.1</td>\n",
       "      <td>-0.0</td>\n",
       "      <td>7711.2</td>\n",
       "      <td>-58.1</td>\n",
       "    </tr>\n",
       "    <tr>\n",
       "      <th>4. Unstable Ant. support / Wind.</th>\n",
       "      <td>4</td>\n",
       "      <td>2311</td>\n",
       "      <td>462.2</td>\n",
       "      <td>57.5</td>\n",
       "      <td>7.2</td>\n",
       "      <td>1306.9</td>\n",
       "      <td>-64.3</td>\n",
       "    </tr>\n",
       "    <tr>\n",
       "      <th>5. Intermittent LOS problem.</th>\n",
       "      <td>5</td>\n",
       "      <td>208</td>\n",
       "      <td>41.6</td>\n",
       "      <td>26.3</td>\n",
       "      <td>4.5</td>\n",
       "      <td>1339.6</td>\n",
       "      <td>-82.4</td>\n",
       "    </tr>\n",
       "    <tr>\n",
       "      <th>6. LOS or Alignment problem.</th>\n",
       "      <td>6</td>\n",
       "      <td>5313</td>\n",
       "      <td>1062.6</td>\n",
       "      <td>0.0</td>\n",
       "      <td>-0.0</td>\n",
       "      <td>156.2</td>\n",
       "      <td>-78.9</td>\n",
       "    </tr>\n",
       "    <tr>\n",
       "      <th>7. Bad LOS or Alignment problem.</th>\n",
       "      <td>7</td>\n",
       "      <td>2610</td>\n",
       "      <td>522.0</td>\n",
       "      <td>1.3</td>\n",
       "      <td>0.1</td>\n",
       "      <td>1680.6</td>\n",
       "      <td>-98.7</td>\n",
       "    </tr>\n",
       "    <tr>\n",
       "      <th>8. Rain.</th>\n",
       "      <td>8</td>\n",
       "      <td>590</td>\n",
       "      <td>118.0</td>\n",
       "      <td>4.3</td>\n",
       "      <td>16.8</td>\n",
       "      <td>1000.2</td>\n",
       "      <td>-84.2</td>\n",
       "    </tr>\n",
       "    <tr>\n",
       "      <th>9. Stuck on mid modulation.</th>\n",
       "      <td>9</td>\n",
       "      <td>1344</td>\n",
       "      <td>268.8</td>\n",
       "      <td>0.0</td>\n",
       "      <td>0.0</td>\n",
       "      <td>450.0</td>\n",
       "      <td>-52.9</td>\n",
       "    </tr>\n",
       "    <tr>\n",
       "      <th>10. Wet snow.</th>\n",
       "      <td>10</td>\n",
       "      <td>185</td>\n",
       "      <td>37.0</td>\n",
       "      <td>9.3</td>\n",
       "      <td>94.3</td>\n",
       "      <td>4368.7</td>\n",
       "      <td>-94.8</td>\n",
       "    </tr>\n",
       "    <tr>\n",
       "      <th>11. Equipment fault.</th>\n",
       "      <td>11</td>\n",
       "      <td>531</td>\n",
       "      <td>106.2</td>\n",
       "      <td>98.2</td>\n",
       "      <td>0.0</td>\n",
       "      <td>0.1</td>\n",
       "      <td>-55.0</td>\n",
       "    </tr>\n",
       "    <tr>\n",
       "      <th>12. Equipment fault far end.</th>\n",
       "      <td>12</td>\n",
       "      <td>493</td>\n",
       "      <td>98.6</td>\n",
       "      <td>103.2</td>\n",
       "      <td>0.0</td>\n",
       "      <td>0.0</td>\n",
       "      <td>-55.0</td>\n",
       "    </tr>\n",
       "    <tr>\n",
       "      <th>13. No or limited data.</th>\n",
       "      <td>13</td>\n",
       "      <td>308</td>\n",
       "      <td>61.6</td>\n",
       "      <td>11.9</td>\n",
       "      <td>14.0</td>\n",
       "      <td>176.5</td>\n",
       "      <td>-35.3</td>\n",
       "    </tr>\n",
       "  </tbody>\n",
       "</table>\n",
       "</div>"
      ],
      "text/plain": [
       "                                  Y_15min  Number of train examples  \\\n",
       "Y_15min_text                                                          \n",
       "0. No event                             0                     23276   \n",
       "1. Out of service.                      1                       675   \n",
       "2. HW restart.                          2                        25   \n",
       "3. Stuck on low modulation.             3                      1299   \n",
       "4. Unstable Ant. support / Wind.        4                      2311   \n",
       "5. Intermittent LOS problem.            5                       208   \n",
       "6. LOS or Alignment problem.            6                      5313   \n",
       "7. Bad LOS or Alignment problem.        7                      2610   \n",
       "8. Rain.                                8                       590   \n",
       "9. Stuck on mid modulation.             9                      1344   \n",
       "10. Wet snow.                          10                       185   \n",
       "11. Equipment fault.                   11                       531   \n",
       "12. Equipment fault far end.           12                       493   \n",
       "13. No or limited data.                13                       308   \n",
       "\n",
       "                                  For validation/ test (80/20)  \\\n",
       "Y_15min_text                                                     \n",
       "0. No event                                             4655.2   \n",
       "1. Out of service.                                       135.0   \n",
       "2. HW restart.                                             5.0   \n",
       "3. Stuck on low modulation.                              259.8   \n",
       "4. Unstable Ant. support / Wind.                         462.2   \n",
       "5. Intermittent LOS problem.                              41.6   \n",
       "6. LOS or Alignment problem.                            1062.6   \n",
       "7. Bad LOS or Alignment problem.                         522.0   \n",
       "8. Rain.                                                 118.0   \n",
       "9. Stuck on mid modulation.                              268.8   \n",
       "10. Wet snow.                                             37.0   \n",
       "11. Equipment fault.                                     106.2   \n",
       "12. Equipment fault far end.                              98.6   \n",
       "13. No or limited data.                                   61.6   \n",
       "\n",
       "                                  errors_average  UAS_metric_average  \\\n",
       "Y_15min_text                                                           \n",
       "0. No event                                  0.1                 0.0   \n",
       "1. Out of service.                          -1.5               880.9   \n",
       "2. HW restart.                              -1.8                99.6   \n",
       "3. Stuck on low modulation.                 -0.1                -0.0   \n",
       "4. Unstable Ant. support / Wind.            57.5                 7.2   \n",
       "5. Intermittent LOS problem.                26.3                 4.5   \n",
       "6. LOS or Alignment problem.                 0.0                -0.0   \n",
       "7. Bad LOS or Alignment problem.             1.3                 0.1   \n",
       "8. Rain.                                     4.3                16.8   \n",
       "9. Stuck on mid modulation.                  0.0                 0.0   \n",
       "10. Wet snow.                                9.3                94.3   \n",
       "11. Equipment fault.                        98.2                 0.0   \n",
       "12. Equipment fault far end.               103.2                 0.0   \n",
       "13. No or limited data.                     11.9                14.0   \n",
       "\n",
       "                                  fading_metric_average  \\\n",
       "Y_15min_text                                              \n",
       "0. No event                                         5.2   \n",
       "1. Out of service.                              15104.9   \n",
       "2. HW restart.                                   1382.5   \n",
       "3. Stuck on low modulation.                      7711.2   \n",
       "4. Unstable Ant. support / Wind.                 1306.9   \n",
       "5. Intermittent LOS problem.                     1339.6   \n",
       "6. LOS or Alignment problem.                      156.2   \n",
       "7. Bad LOS or Alignment problem.                 1680.6   \n",
       "8. Rain.                                         1000.2   \n",
       "9. Stuck on mid modulation.                       450.0   \n",
       "10. Wet snow.                                    4368.7   \n",
       "11. Equipment fault.                                0.1   \n",
       "12. Equipment fault far end.                        0.0   \n",
       "13. No or limited data.                           176.5   \n",
       "\n",
       "                                  rx_levels_metric_average  \n",
       "Y_15min_text                                                \n",
       "0. No event                                          -56.9  \n",
       "1. Out of service.                                   -83.0  \n",
       "2. HW restart.                                       -54.3  \n",
       "3. Stuck on low modulation.                          -58.1  \n",
       "4. Unstable Ant. support / Wind.                     -64.3  \n",
       "5. Intermittent LOS problem.                         -82.4  \n",
       "6. LOS or Alignment problem.                         -78.9  \n",
       "7. Bad LOS or Alignment problem.                     -98.7  \n",
       "8. Rain.                                             -84.2  \n",
       "9. Stuck on mid modulation.                          -52.9  \n",
       "10. Wet snow.                                        -94.8  \n",
       "11. Equipment fault.                                 -55.0  \n",
       "12. Equipment fault far end.                         -55.0  \n",
       "13. No or limited data.                              -35.3  "
      ]
     },
     "execution_count": 37,
     "metadata": {},
     "output_type": "execute_result"
    }
   ],
   "source": [
    "def class_distr(input_df):\n",
    "\n",
    "    df = input_df.groupby([\"Y_15min_text\"]).agg( { \"NeAlias\": \"count\",\n",
    "                            \"sum_errors\":\"mean\", \"UAS_metric\": \"mean\", \"fading_metric\":\"mean\",\n",
    "                            \"rx_levels_metric\": \"mean\" , \"Y_15min\": \"mean\" } )\n",
    "\n",
    "    df[\"Number of train examples\"] =  df[\"NeAlias\"]\n",
    "    df[\"For validation/ test (80/20)\"] =  df[\"Number of train examples\"]*0.2\n",
    "    df[\"errors_average\"] = df[\"sum_errors\"].round(1)\n",
    "    df[\"UAS_metric_average\"] = df[\"UAS_metric\"].round(1)\n",
    "    df[\"fading_metric_average\"] = df[\"fading_metric\"].round(1)\n",
    "    df[\"rx_levels_metric_average\"] = df[\"rx_levels_metric\"].round(1)\n",
    "    \n",
    "    df.drop([\"NeAlias\", \"UAS_metric\", \"sum_errors\", \"fading_metric\", 'rx_levels_metric'], axis=1, inplace=True)\n",
    "    df.sort_values(by=\"Y_15min\", inplace=True)\n",
    "    df.reset_index(inplace=True)\n",
    "\n",
    "    df.set_index(\"Y_15min_text\", inplace=True)\n",
    "    return df\n",
    "\n",
    "# Call function\n",
    "view_class_distr_15min_cnn = class_distr(eband_dataset_cnn_4)\n",
    "view_class_distr_15min_cnn"
   ]
  },
  {
   "cell_type": "markdown",
   "metadata": {},
   "source": [
    "### 2.2.2 Heatmap, Features vs. Label\n",
    "\n",
    "Here you can modify function to view any features you would like"
   ]
  },
  {
   "cell_type": "code",
   "execution_count": 38,
   "metadata": {},
   "outputs": [
    {
     "data": {
      "image/png": "[encoded data removed]",
      "text/plain": [
       "<Figure size 576x576 with 2 Axes>"
      ]
     },
     "metadata": {
      "needs_background": "light"
     },
     "output_type": "display_data"
    }
   ],
   "source": [
    "def heatmap_15min_class(df):\n",
    "    df = df.groupby([\"Y_15min_text\"]).agg({ \n",
    "                    \"sum_errors\":\"mean\",\n",
    "                    \"hw_fault\": \"mean\", \"fading_metric\": \"mean\",\n",
    "                    'rx_levels_metric':\"mean\" , 'ModChanges_metric': \"mean\",\n",
    "                    'errors_metric':\"mean\", \"UAS_metric\" : \"mean\" ,\n",
    "                    \"HalfBPSK_Strong\": \"mean\", \"QAM4\": \"mean\", \"QAM16\": \"mean\", \"QAM256\": \"mean\", \n",
    "                    })\n",
    "\n",
    "    df.reset_index(inplace=True)\n",
    "\n",
    "    df.set_index(\"Y_15min_text\", inplace=True)\n",
    "    \n",
    "    # Normalize by column:\n",
    "    df = (df - df.mean()) / df.std()\n",
    "    \n",
    "    return df\n",
    "\n",
    "heatmap_class = heatmap_15min_class(eband_dataset_cnn_4)\n",
    "heat_map = sb.heatmap(heatmap_class , annot=True)\n",
    "plt.show()"
   ]
  },
  {
   "cell_type": "markdown",
   "metadata": {},
   "source": [
    "## 3. Prepare dataset, X and Y\n",
    "\n",
    "- X is the matrix of features\n",
    "- Y is a vector of labels (for each train example)"
   ]
  },
  {
   "cell_type": "markdown",
   "metadata": {},
   "source": [
    "### 3.1  X_temp\n",
    "- Each row\n",
    "    - ACM modulation in second\n",
    "    - Mod changes\n",
    "    - ES,SES, UAS\n",
    "    - Rx\n",
    "    - Far-End ES,SES, UAS\n",
    "    - Far-End Rx\n",
    "    - Far-End Mod changes"
   ]
  },
  {
   "cell_type": "code",
   "execution_count": 39,
   "metadata": {},
   "outputs": [
    {
     "name": "stdout",
     "output_type": "stream",
     "text": [
      "Shape of X_temp: (156666, 45)\n"
     ]
    }
   ],
   "source": [
    "# Drop columns not used by X train set\n",
    "X_temp = eband_dataset_extended.drop([ \"NeAlias\", 'Y_15min', 'Y_15min_text'], axis=1 )\n",
    "print(\"Shape of X_temp:\", X_temp.shape)\n"
   ]
  },
  {
   "cell_type": "markdown",
   "metadata": {},
   "source": [
    "### 3.2 Y_temp:\n",
    "- Select column with Y label"
   ]
  },
  {
   "cell_type": "code",
   "execution_count": 40,
   "metadata": {},
   "outputs": [
    {
     "name": "stdout",
     "output_type": "stream",
     "text": [
      "shape of Y_temp: (156666,)\n"
     ]
    }
   ],
   "source": [
    "Y_temp = eband_dataset_extended.loc[:, \"Y_15min\"]\n",
    "\n",
    "print(\"shape of Y_temp:\",Y_temp.shape)"
   ]
  },
  {
   "cell_type": "markdown",
   "metadata": {},
   "source": [
    "## 4. Group timeperiods (rows) into 3d array X,  and labels Y\n",
    "X = training examples * time sequences * features\n",
    "\n",
    "One training example will have 4 time sequences (I.e. 4 * 15minute periods ). It means that: When predicting one 15 min period, - we will use the 3 previous 15 min periods"
   ]
  },
  {
   "cell_type": "markdown",
   "metadata": {},
   "source": [
    "### 4.1 Function selects the \"LAST\" Y label in a grouped sequence\n"
   ]
  },
  {
   "cell_type": "code",
   "execution_count": 41,
   "metadata": {},
   "outputs": [],
   "source": [
    "def group_time_periods(array,periods):\n",
    "\n",
    "    m = array.shape[0]\n",
    "    m_periods = m//periods\n",
    "    print(\"m is:\", m)\n",
    "    print(\"m_periods is (after grouping):\", m_periods)\n",
    "    Y = np.zeros((m_periods, 1))\n",
    "\n",
    "    for i in range(m_periods):\n",
    "        select_labels =  array[i* periods : i * periods + periods, :]\n",
    "        last_label = select_labels [0-1]\n",
    "        Y[i, :] = last_label\n",
    "        \n",
    "        \n",
    "    return Y"
   ]
  },
  {
   "cell_type": "markdown",
   "metadata": {},
   "source": [
    "### 4.2 Define how many sequence_periods to group into one example"
   ]
  },
  {
   "cell_type": "code",
   "execution_count": 42,
   "metadata": {},
   "outputs": [
    {
     "name": "stdout",
     "output_type": "stream",
     "text": [
      "remainder is : 2\n",
      "shape of X_temp : (156666, 45)\n",
      "shape of X_temp : (156664, 45)\n",
      "shape of X: (39166, 4, 45)\n",
      "shape of Y_temp : (156664,)\n",
      "m is: 156664\n",
      "m_periods is (after grouping): 39166\n",
      "shape of Y: (39166, 1)\n"
     ]
    }
   ],
   "source": [
    "###################################\n",
    "time_periods_to_group = 4\n",
    "##################################\n",
    "\n",
    "# find remainder\n",
    "r = X_temp.shape[0] % time_periods_to_group\n",
    "print(\"remainder is :\", r)\n",
    "print(\"shape of X_temp :\", X_temp.shape)\n",
    "\n",
    "# drop rows equal to remainder r (if remainder is > 0)\n",
    "X_temp = X_temp.iloc[:-r]\n",
    "print(\"shape of X_temp :\", X_temp.shape)\n",
    "\n",
    "# X to array\n",
    "X_temp=X_temp.values\n",
    "\n",
    "#Rearrange X_temp to get a 3D matrix\n",
    "X = X_temp.reshape(X_temp.shape[0] // time_periods_to_group, time_periods_to_group , X_temp.shape[1])\n",
    "print(\"shape of X:\",X.shape)\n",
    "\n",
    "# drop rows equal to remainder r (if remainder is > 0)\n",
    "Y_temp = Y_temp.iloc[:-r]\n",
    "print(\"shape of Y_temp :\", Y_temp.shape)\n",
    "\n",
    "# Y to numpy array\n",
    "Y_temp=Y_temp.values\n",
    "Y_temp = Y_temp.reshape(Y_temp.shape[0], 1)\n",
    "\n",
    "# call function above to group labels and select last label in \"group\"\n",
    "Y = group_time_periods(Y_temp, time_periods_to_group)\n",
    "print(\"shape of Y:\", Y.shape)\n"
   ]
  },
  {
   "cell_type": "markdown",
   "metadata": {},
   "source": [
    "### 4.3 Control structure of train examples"
   ]
  },
  {
   "cell_type": "code",
   "execution_count": 43,
   "metadata": {},
   "outputs": [
    {
     "name": "stdout",
     "output_type": "stream",
     "text": [
      "shape of - check train example - : (4, 45)\n"
     ]
    }
   ],
   "source": [
    "check_example = X[ 30,:,:]\n",
    "print(\"shape of - check train example - :\", check_example.shape)\n",
    "#print(\"check a train example :\", check_example)"
   ]
  },
  {
   "cell_type": "markdown",
   "metadata": {},
   "source": [
    "### 4.4 Normalize input data"
   ]
  },
  {
   "cell_type": "code",
   "execution_count": 44,
   "metadata": {},
   "outputs": [
    {
     "name": "stdout",
     "output_type": "stream",
     "text": [
      "X example: [[  0.   0.   0.   0.   0.   0.   0.   0.   0. 900.]\n",
      " [  0.   0.   0.   0.   0.   0.   0. 226.   0. 674.]\n",
      " [  0.   0.   0.   0.   0.   0.   0. 586.   0. 315.]\n",
      " [  0.   0.   0.   0.   0.   0.   0. 699.   0. 201.]]\n",
      "X example after norm: [[0.         0.         0.         0.         0.         0.\n",
      "  0.         0.         0.         0.0707142 ]\n",
      " [0.         0.         0.         0.         0.         0.\n",
      "  0.         0.01693296 0.         0.05049917]\n",
      " [0.         0.         0.         0.         0.         0.\n",
      "  0.         0.04351846 0.         0.02339303]\n",
      " [0.         0.         0.         0.         0.         0.\n",
      "  0.         0.06790836 0.         0.0195273 ]]\n"
     ]
    }
   ],
   "source": [
    "X = X.astype(float)\n",
    "print(\"X example:\",X[ 0,:,0:10])\n",
    "\n",
    "X= normalize(X,axis=-1,order=2)\n",
    "print(\"X example after norm:\",X[0,:,0:10])"
   ]
  },
  {
   "cell_type": "markdown",
   "metadata": {},
   "source": [
    "### 4.5 \"One Hot\" for Y labels"
   ]
  },
  {
   "cell_type": "code",
   "execution_count": 45,
   "metadata": {},
   "outputs": [
    {
     "data": {
      "text/plain": [
       "(39166, 1)"
      ]
     },
     "execution_count": 45,
     "metadata": {},
     "output_type": "execute_result"
    }
   ],
   "source": [
    "Y.shape"
   ]
  },
  {
   "cell_type": "code",
   "execution_count": 46,
   "metadata": {},
   "outputs": [
    {
     "name": "stdout",
     "output_type": "stream",
     "text": [
      "[[7.]]\n",
      "Shape of Y_one_hot: (39166, 14)\n",
      "Y_one_hot first rows: [[0. 0. 0. 0. 0. 0. 0. 1. 0. 0. 0. 0. 0. 0.]]\n"
     ]
    }
   ],
   "source": [
    "from keras.utils import to_categorical\n",
    "print(Y[0:1,:])\n",
    "Y_one_hot = to_categorical(Y)\n",
    "\n",
    "print(\"Shape of Y_one_hot:\", Y_one_hot.shape)\n",
    "print(\"Y_one_hot first rows:\", Y_one_hot[0:1,:])"
   ]
  },
  {
   "cell_type": "markdown",
   "metadata": {},
   "source": [
    "### 4.6 Split between Train and Test sets"
   ]
  },
  {
   "cell_type": "code",
   "execution_count": 47,
   "metadata": {},
   "outputs": [
    {
     "name": "stdout",
     "output_type": "stream",
     "text": [
      "Shape of X (39166, 4, 45)\n",
      "Shape of Y (39166, 1)\n",
      "Shape of X_train (31332, 4, 45)\n",
      "Shape of Y_train (31332, 14)\n",
      "Shape of X_test (7834, 4, 45)\n",
      "Shape of Y_test (7834, 14)\n"
     ]
    }
   ],
   "source": [
    "\n",
    "from sklearn.model_selection import train_test_split\n",
    "\n",
    "print(\"Shape of X\", X.shape)\n",
    "print(\"Shape of Y\", Y.shape)\n",
    "\n",
    "X_train, X_test, Y_train, Y_test = train_test_split(X, Y_one_hot, test_size=0.2, random_state=None)\n",
    "print(\"Shape of X_train\",X_train.shape)\n",
    "print(\"Shape of Y_train\",Y_train.shape)\n",
    "\n",
    "print(\"Shape of X_test\",X_test.shape)\n",
    "print(\"Shape of Y_test\",Y_test.shape)\n",
    "\n",
    "m_train=len(Y_train)\n",
    "m_test=len(Y_test)\n",
    "\n"
   ]
  },
  {
   "cell_type": "markdown",
   "metadata": {},
   "source": [
    "## 5. Create and Train Model"
   ]
  },
  {
   "cell_type": "markdown",
   "metadata": {},
   "source": [
    "### 5.1 Model Options"
   ]
  },
  {
   "cell_type": "markdown",
   "metadata": {},
   "source": [
    "### 5.1.1 Function ACM model Option # 1,  Fully Connected NN"
   ]
  },
  {
   "cell_type": "code",
   "execution_count": 48,
   "metadata": {},
   "outputs": [],
   "source": [
    "def ACM_model_1(input_shape, classes):\n",
    "    # Define the input placeholder as a tensor with shape input_shape.\n",
    "    X_input = Input(input_shape)\n",
    "\n",
    "    \n",
    "    X = Flatten()(X_input)\n",
    "    X = Dense(100, activation='relu', name='fully connected 1')(X)\n",
    "    #X = BatchNormalization()(X)\n",
    "    X = Dense(100, activation='relu', name='fully connected 2')(X)\n",
    "    X = Dense(100, activation='relu', name='fully connected 3')(X)\n",
    "    X = Dense(50 , activation='relu', name='fully connected 4')(X)\n",
    "    X = Dense(25 , activation='relu', name='fully connected 5')(X)\n",
    "    X = Dropout(0.5)(X)\n",
    "    \n",
    "    X = Dense(classes, activation='softmax', name='fcfinal')(X)\n",
    "\n",
    "    # Create model. This creates your Keras model instance, you'll use this instance to train/test the model.\n",
    "    model = Model(inputs = X_input, outputs = X, name='ACM_model_1')\n",
    "\n",
    "    return model"
   ]
  },
  {
   "cell_type": "markdown",
   "metadata": {},
   "source": [
    "### 5.1.2 Function ACM model Option # 2, ConvNet 1d (CNN-4)"
   ]
  },
  {
   "cell_type": "code",
   "execution_count": 49,
   "metadata": {},
   "outputs": [],
   "source": [
    "\n",
    "def ACM_model_2(input_shape, classes):\n",
    "\n",
    "    model = Sequential()\n",
    "    model.add(Conv1D(filters=100, kernel_size=2, activation='relu', input_shape=(input_shape)))\n",
    "    model.add(Conv1D(filters=100, kernel_size=2, activation='relu'))\n",
    "    #model.add(MaxPooling1D(pool_size=2))\n",
    "    \n",
    "    model.add(Conv1D(filters=100, kernel_size=1, activation='relu')) \n",
    "    model.add(Dropout(0.4))\n",
    "    \n",
    "    model.add(Flatten())\n",
    "    model.add(Dense(100, activation='relu'))\n",
    "    model.add(Dense(classes, activation='softmax'))\n",
    "\n",
    "    return model\n"
   ]
  },
  {
   "cell_type": "markdown",
   "metadata": {},
   "source": [
    "### 5.2 Create the \" ACM E-band\" model (Choose model from one of functions above)"
   ]
  },
  {
   "cell_type": "code",
   "execution_count": 50,
   "metadata": {},
   "outputs": [],
   "source": [
    "acm_model=ACM_model_2((4,45),14) # input_shape and classes\n",
    "# Change to model 1 if you want to try a fully conected architecture"
   ]
  },
  {
   "cell_type": "markdown",
   "metadata": {},
   "source": [
    "### 5.3 Compile the model"
   ]
  },
  {
   "cell_type": "code",
   "execution_count": 51,
   "metadata": {},
   "outputs": [],
   "source": [
    "acm_model.compile(optimizer = \"Adam\", loss = \"categorical_crossentropy\", metrics = [\"accuracy\"])"
   ]
  },
  {
   "cell_type": "markdown",
   "metadata": {},
   "source": [
    "### 5.4 Train the model"
   ]
  },
  {
   "cell_type": "code",
   "execution_count": 52,
   "metadata": {
    "scrolled": true
   },
   "outputs": [
    {
     "name": "stdout",
     "output_type": "stream",
     "text": [
      "Train on 31332 samples, validate on 7834 samples\n",
      "Epoch 1/150\n",
      "31332/31332 [==============================] - 18s 565us/step - loss: 0.7754 - acc: 0.7621 - val_loss: 0.4953 - val_acc: 0.8383\n",
      "Epoch 2/150\n",
      "31332/31332 [==============================] - 15s 484us/step - loss: 0.4654 - acc: 0.8443 - val_loss: 0.3784 - val_acc: 0.8736\n",
      "Epoch 3/150\n",
      "31332/31332 [==============================] - 15s 482us/step - loss: 0.3965 - acc: 0.8610 - val_loss: 0.3276 - val_acc: 0.8808\n",
      "Epoch 4/150\n",
      "31332/31332 [==============================] - 15s 479us/step - loss: 0.3568 - acc: 0.8709 - val_loss: 0.3001 - val_acc: 0.8874\n",
      "Epoch 5/150\n",
      "31332/31332 [==============================] - 15s 475us/step - loss: 0.3367 - acc: 0.8790 - val_loss: 0.2888 - val_acc: 0.8883\n",
      "Epoch 6/150\n",
      "31332/31332 [==============================] - 15s 472us/step - loss: 0.3126 - acc: 0.8849 - val_loss: 0.2944 - val_acc: 0.8938\n",
      "Epoch 7/150\n",
      "31332/31332 [==============================] - 15s 474us/step - loss: 0.3102 - acc: 0.8880 - val_loss: 0.2792 - val_acc: 0.8989\n",
      "Epoch 8/150\n",
      "31332/31332 [==============================] - 15s 478us/step - loss: 0.2919 - acc: 0.8916 - val_loss: 0.2444 - val_acc: 0.9043\n",
      "Epoch 9/150\n",
      "31332/31332 [==============================] - 15s 480us/step - loss: 0.2797 - acc: 0.8954 - val_loss: 0.2508 - val_acc: 0.9048 - ET\n",
      "Epoch 10/150\n",
      "31332/31332 [==============================] - 15s 471us/step - loss: 0.2760 - acc: 0.8950 - val_loss: 0.2490 - val_acc: 0.9034\n",
      "Epoch 11/150\n",
      "31332/31332 [==============================] - 15s 470us/step - loss: 0.2642 - acc: 0.8976 - val_loss: 0.2410 - val_acc: 0.9045\n",
      "Epoch 12/150\n",
      "31332/31332 [==============================] - 15s 483us/step - loss: 0.2552 - acc: 0.9013 - val_loss: 0.2217 - val_acc: 0.9169\n",
      "Epoch 13/150\n",
      "31332/31332 [==============================] - 15s 485us/step - loss: 0.2535 - acc: 0.9014 - val_loss: 0.2266 - val_acc: 0.9076s - loss: 0.2555 - acc: 0.9 - ETA: 5s - los - ETA\n",
      "Epoch 14/150\n",
      "31332/31332 [==============================] - 15s 477us/step - loss: 0.2433 - acc: 0.9035 - val_loss: 0.2481 - val_acc: 0.9066\n",
      "Epoch 15/150\n",
      "31332/31332 [==============================] - 15s 481us/step - loss: 0.2422 - acc: 0.9054 - val_loss: 0.2186 - val_acc: 0.9131\n",
      "Epoch 16/150\n",
      "31332/31332 [==============================] - 15s 480us/step - loss: 0.2335 - acc: 0.9063 - val_loss: 0.2110 - val_acc: 0.9136\n",
      "Epoch 17/150\n",
      "31332/31332 [==============================] - 15s 487us/step - loss: 0.2340 - acc: 0.9068 - val_loss: 0.2590 - val_acc: 0.9020\n",
      "Epoch 18/150\n",
      "31332/31332 [==============================] - 15s 484us/step - loss: 0.2278 - acc: 0.9089 - val_loss: 0.2296 - val_acc: 0.9064\n",
      "Epoch 19/150\n",
      "31332/31332 [==============================] - 15s 484us/step - loss: 0.2238 - acc: 0.9111 - val_loss: 0.2152 - val_acc: 0.9121\n",
      "Epoch 20/150\n",
      "31332/31332 [==============================] - 15s 485us/step - loss: 0.2191 - acc: 0.9106 - val_loss: 0.2589 - val_acc: 0.9099- loss: 0.2192 - a\n",
      "Epoch 21/150\n",
      "31332/31332 [==============================] - 15s 483us/step - loss: 0.2229 - acc: 0.9092 - val_loss: 0.2168 - val_acc: 0.9152\n",
      "Epoch 22/150\n",
      "31332/31332 [==============================] - 15s 477us/step - loss: 0.2101 - acc: 0.9144 - val_loss: 0.2097 - val_acc: 0.9118\n",
      "Epoch 23/150\n",
      "31332/31332 [==============================] - 15s 477us/step - loss: 0.2102 - acc: 0.9134 - val_loss: 0.2333 - val_acc: 0.9133\n",
      "Epoch 24/150\n",
      "31332/31332 [==============================] - 15s 480us/step - loss: 0.2070 - acc: 0.9147 - val_loss: 0.2434 - val_acc: 0.9082\n",
      "Epoch 25/150\n",
      "31332/31332 [==============================] - 15s 475us/step - loss: 0.2081 - acc: 0.9132 - val_loss: 0.2047 - val_acc: 0.9147\n",
      "Epoch 26/150\n",
      "31332/31332 [==============================] - 15s 481us/step - loss: 0.2042 - acc: 0.9148 - val_loss: 0.2217 - val_acc: 0.9172\n",
      "Epoch 27/150\n",
      "31332/31332 [==============================] - 15s 481us/step - loss: 0.2017 - acc: 0.9141 - val_loss: 0.1974 - val_acc: 0.9187\n",
      "Epoch 28/150\n",
      "31332/31332 [==============================] - 15s 488us/step - loss: 0.1999 - acc: 0.9177 - val_loss: 0.1973 - val_acc: 0.9191999 - acc: 0.917\n",
      "Epoch 29/150\n",
      "31332/31332 [==============================] - 15s 494us/step - loss: 0.1958 - acc: 0.9181 - val_loss: 0.2225 - val_acc: 0.9165\n",
      "Epoch 30/150\n",
      "31332/31332 [==============================] - 15s 483us/step - loss: 0.1938 - acc: 0.9175 - val_loss: 0.1993 - val_acc: 0.9188\n",
      "Epoch 31/150\n",
      "31332/31332 [==============================] - 16s 495us/step - loss: 0.1979 - acc: 0.9168 - val_loss: 0.2059 - val_acc: 0.9146\n",
      "Epoch 32/150\n",
      "31332/31332 [==============================] - 15s 490us/step - loss: 0.1964 - acc: 0.9166 - val_loss: 0.2157 - val_acc: 0.9151\n",
      "Epoch 33/150\n",
      "31332/31332 [==============================] - 15s 490us/step - loss: 0.1900 - acc: 0.9201 - val_loss: 0.1928 - val_acc: 0.9201\n",
      "Epoch 34/150\n",
      "31332/31332 [==============================] - 15s 489us/step - loss: 0.1893 - acc: 0.9182 - val_loss: 0.2014 - val_acc: 0.9160\n",
      "Epoch 35/150\n",
      "31332/31332 [==============================] - 16s 504us/step - loss: 0.1878 - acc: 0.9203 - val_loss: 0.1925 - val_acc: 0.9210\n",
      "Epoch 36/150\n",
      "31332/31332 [==============================] - 16s 518us/step - loss: 0.1853 - acc: 0.9208 - val_loss: 0.1911 - val_acc: 0.9221s: 0.18 - ETA: 1s - loss: 0.1860 - ETA: 0s - loss: 0.1862 - a\n",
      "Epoch 37/150\n",
      "31332/31332 [==============================] - 16s 510us/step - loss: 0.1848 - acc: 0.9211 - val_loss: 0.1837 - val_acc: 0.9253\n",
      "Epoch 38/150\n",
      "31332/31332 [==============================] - 15s 488us/step - loss: 0.1820 - acc: 0.9220 - val_loss: 0.1824 - val_acc: 0.9253\n",
      "Epoch 39/150\n",
      "31332/31332 [==============================] - 16s 519us/step - loss: 0.1853 - acc: 0.9215 - val_loss: 0.2112 - val_acc: 0.9004s - ETA: 7s - los - ETA:\n",
      "Epoch 40/150\n",
      "31332/31332 [==============================] - 16s 495us/step - loss: 0.1824 - acc: 0.9231 - val_loss: 0.1986 - val_acc: 0.9187\n",
      "Epoch 41/150\n",
      "31332/31332 [==============================] - 16s 514us/step - loss: 0.1846 - acc: 0.9219 - val_loss: 0.1922 - val_acc: 0.9235\n",
      "Epoch 42/150\n",
      "31332/31332 [==============================] - 16s 507us/step - loss: 0.1772 - acc: 0.9245 - val_loss: 0.1845 - val_acc: 0.9219\n",
      "Epoch 43/150\n",
      "31332/31332 [==============================] - 16s 509us/step - loss: 0.1761 - acc: 0.9237 - val_loss: 0.1851 - val_acc: 0.92660.1765 - acc: 0\n",
      "Epoch 44/150\n",
      "31332/31332 [==============================] - 17s 540us/step - loss: 0.1802 - acc: 0.9231 - val_loss: 0.2660 - val_acc: 0.9112805 - \n",
      "Epoch 45/150\n",
      "31332/31332 [==============================] - 15s 485us/step - loss: 0.1755 - acc: 0.9246 - val_loss: 0.2549 - val_acc: 0.9030\n",
      "Epoch 46/150\n",
      "31332/31332 [==============================] - 15s 468us/step - loss: 0.1782 - acc: 0.9244 - val_loss: 0.1979 - val_acc: 0.9230\n",
      "Epoch 47/150\n",
      "31332/31332 [==============================] - 14s 447us/step - loss: 0.1727 - acc: 0.9273 - val_loss: 0.2027 - val_acc: 0.9191\n",
      "Epoch 48/150\n",
      "31332/31332 [==============================] - 16s 516us/step - loss: 0.1779 - acc: 0.9241 - val_loss: 0.1799 - val_acc: 0.9240\n",
      "Epoch 49/150\n",
      "31332/31332 [==============================] - 17s 546us/step - loss: 0.1692 - acc: 0.9273 - val_loss: 0.1940 - val_acc: 0.9289acc: 0. - ETA: 4s - loss: 0.1719 -  - ETA: 4s \n",
      "Epoch 50/150\n",
      "31332/31332 [==============================] - 18s 559us/step - loss: 0.1712 - acc: 0.9256 - val_loss: 0.2024 - val_acc: 0.9218c: 0 - ETA: 0s - loss: 0.17\n",
      "Epoch 51/150\n",
      "31332/31332 [==============================] - 18s 571us/step - loss: 0.1710 - acc: 0.9272 - val_loss: 0.1916 - val_acc: 0.926110 - acc\n",
      "Epoch 52/150\n",
      "31332/31332 [==============================] - 18s 581us/step - loss: 0.1681 - acc: 0.9273 - val_loss: 0.1761 - val_acc: 0.9275\n",
      "Epoch 53/150\n",
      "31332/31332 [==============================] - 19s 599us/step - loss: 0.1666 - acc: 0.9266 - val_loss: 0.1895 - val_acc: 0.92581s\n",
      "Epoch 54/150\n",
      "31332/31332 [==============================] - 18s 568us/step - loss: 0.1691 - acc: 0.9276 - val_loss: 0.1838 - val_acc: 0.9265\n",
      "Epoch 55/150\n",
      "31332/31332 [==============================] - 18s 582us/step - loss: 0.1661 - acc: 0.9274 - val_loss: 0.2026 - val_acc: 0.9221\n",
      "Epoch 56/150\n",
      "31332/31332 [==============================] - 17s 542us/step - loss: 0.1700 - acc: 0.9259 - val_loss: 0.2167 - val_acc: 0.9186\n",
      "Epoch 57/150\n",
      "31332/31332 [==============================] - 18s 571us/step - loss: 0.1632 - acc: 0.9287 - val_loss: 0.1791 - val_acc: 0.9276\n",
      "Epoch 58/150\n",
      "31332/31332 [==============================] - 18s 587us/step - loss: 0.1654 - acc: 0.9286 - val_loss: 0.1896 - val_acc: 0.9262\n",
      "Epoch 59/150\n",
      "31332/31332 [==============================] - 19s 598us/step - loss: 0.1632 - acc: 0.9288 - val_loss: 0.1869 - val_acc: 0.9267loss: 0\n",
      "Epoch 60/150\n",
      "31332/31332 [==============================] - 17s 546us/step - loss: 0.1628 - acc: 0.9304 - val_loss: 0.1883 - val_acc: 0.9258- ETA: 3s - loss: 0.1616 - ETA: 2s - loss: 0.1609 - a - ETA: 2s - loss: 0.1618 - acc: 0. - ETA: 0s - loss: 0.1630 - acc: 0.930 - ETA: 0s - loss: 0.1630 - acc: \n",
      "Epoch 61/150\n",
      "31332/31332 [==============================] - 18s 571us/step - loss: 0.1599 - acc: 0.9301 - val_loss: 0.1874 - val_acc: 0.92530.9\n",
      "Epoch 62/150\n",
      "31332/31332 [==============================] - 18s 562us/step - loss: 0.1573 - acc: 0.9310 - val_loss: 0.1857 - val_acc: 0.9255s - loss: 0.1579 - a - ETA: 1s\n",
      "Epoch 63/150\n",
      "31332/31332 [==============================] - 18s 575us/step - loss: 0.1617 - acc: 0.9294 - val_loss: 0.1992 - val_acc: 0.9218\n",
      "Epoch 64/150\n",
      "31332/31332 [==============================] - 18s 583us/step - loss: 0.1569 - acc: 0.9314 - val_loss: 0.1823 - val_acc: 0.9295\n",
      "Epoch 65/150\n",
      "31332/31332 [==============================] - 18s 576us/step - loss: 0.1580 - acc: 0.9313 - val_loss: 0.1785 - val_acc: 0.9316 lo - ETA: 0s - loss: 0.1585 - acc: \n",
      "Epoch 66/150\n",
      "31332/31332 [==============================] - 17s 548us/step - loss: 0.1616 - acc: 0.9306 - val_loss: 0.1825 - val_acc: 0.9246 - acc: \n",
      "Epoch 67/150\n",
      "31332/31332 [==============================] - 17s 555us/step - loss: 0.1581 - acc: 0.9306 - val_loss: 0.1860 - val_acc: 0.9271 0 - ETA - ETA: 6s - loss: 0. - ETA: 5s - los - ETA: 4s - loss: 0.1577 - acc:  - ETA: 3s - loss: 0.1573 - acc: 0.931 - ETA: 3s - loss:  - ETA: 0s - loss: 0.1591 - acc:\n",
      "Epoch 68/150\n",
      "31332/31332 [==============================] - 18s 572us/step - loss: 0.1537 - acc: 0.9334 - val_loss: 0.1894 - val_acc: 0.9258 0s - loss: 0.15 - ETA: 0s - loss: 0.1537 - acc: 0.933\n",
      "Epoch 69/150\n",
      "31332/31332 [==============================] - 18s 575us/step - loss: 0.1552 - acc: 0.9313 - val_loss: 0.1806 - val_acc: 0.9298\n",
      "Epoch 70/150\n",
      "31332/31332 [==============================] - 18s 586us/step - loss: 0.1573 - acc: 0.9315 - val_loss: 0.1853 - val_acc: 0.9249\n",
      "Epoch 71/150\n",
      "31332/31332 [==============================] - 19s 594us/step - loss: 0.1554 - acc: 0.9312 - val_loss: 0.2006 - val_acc: 0.92860s - - ETA: 5s - loss: 0.1534 - ac - ETA: 4s - loss: 0.1539 - acc:  - ETA: 4s - loss: 0.1533 - acc: 0.931 - ETA:\n",
      "Epoch 72/150\n",
      "31332/31332 [==============================] - 18s 584us/step - loss: 0.1532 - acc: 0.9339 - val_loss: 0.1865 - val_acc: 0.9283.1540 - acc: 0 - ETA: 3s - loss: 0.1544 - a - ETA: 2s - l - ETA: 1s - lo\n",
      "Epoch 73/150\n",
      "31332/31332 [==============================] - 18s 589us/step - loss: 0.1532 - acc: 0.9320 - val_loss: 0.2098 - val_acc: 0.9263\n",
      "Epoch 74/150\n",
      "31332/31332 [==============================] - 18s 586us/step - loss: 0.1564 - acc: 0.9331 - val_loss: 0.1889 - val_acc: 0.92605 - ETA: 2s - loss: 0.157 - ETA: 1s - loss: 0.1578 - acc: 0.932 - ETA: 1s - los\n",
      "Epoch 75/150\n",
      "31332/31332 [==============================] - 19s 606us/step - loss: 0.1528 - acc: 0.9334 - val_loss: 0.1880 - val_acc: 0.9309 0.1527 - acc: 0.93\n",
      "Epoch 76/150\n",
      "31332/31332 [==============================] - 19s 614us/step - loss: 0.1515 - acc: 0.9334 - val_loss: 0.2038 - val_acc: 0.9251\n",
      "Epoch 77/150\n",
      "31332/31332 [==============================] - 19s 604us/step - loss: 0.1537 - acc: 0.9339 - val_loss: 0.1861 - val_acc: 0.92661566 - acc: 0.93 - ETA: 7s - loss - ETA: 6s - loss: 0.1564 - ETA: 5s - loss: 0.1548 - \n",
      "Epoch 78/150\n",
      "31332/31332 [==============================] - 19s 591us/step - loss: 0.1516 - acc: 0.9336 - val_loss: 0.1878 - val_acc: 0.9220- ETA: 5s - loss: 0.1508 - - ETA: 4s - loss: 0.15 - E - ETA: 1s - loss: 0.1505 - acc: - ETA: 1s - loss: 0.1501 - acc: 0.9 - ETA: 0s - loss: 0.\n",
      "Epoch 79/150\n",
      "31332/31332 [==============================] - 19s 597us/step - loss: 0.1529 - acc: 0.9315 - val_loss: 0.1932 - val_acc: 0.9274\n",
      "Epoch 80/150\n",
      "31332/31332 [==============================] - 19s 595us/step - loss: 0.1499 - acc: 0.9336 - val_loss: 0.1876 - val_acc: 0.9262\n",
      "Epoch 81/150\n",
      "31332/31332 [==============================] - 20s 628us/step - loss: 0.1518 - acc: 0.9331 - val_loss: 0.1875 - val_acc: 0.9320 0s - loss: 0.1519 - acc:\n",
      "Epoch 82/150\n",
      "31332/31332 [==============================] - 11s 344us/step - loss: 0.1484 - acc: 0.9351 - val_loss: 0.1846 - val_acc: 0.9298\n",
      "Epoch 83/150\n",
      "31332/31332 [==============================] - 11s 350us/step - loss: 0.1477 - acc: 0.9346 - val_loss: 0.2260 - val_acc: 0.9281\n",
      "Epoch 84/150\n",
      "31332/31332 [==============================] - 13s 407us/step - loss: 0.1471 - acc: 0.9343 - val_loss: 0.1956 - val_acc: 0.9293\n",
      "Epoch 85/150\n",
      "31332/31332 [==============================] - 12s 393us/step - loss: 0.1504 - acc: 0.9338 - val_loss: 0.1890 - val_acc: 0.9286\n",
      "Epoch 86/150\n",
      "31332/31332 [==============================] - 14s 438us/step - loss: 0.1478 - acc: 0.9352 - val_loss: 0.1930 - val_acc: 0.9304\n",
      "Epoch 87/150\n",
      "31332/31332 [==============================] - 14s 449us/step - loss: 0.1497 - acc: 0.9348 - val_loss: 0.2034 - val_acc: 0.9211\n",
      "Epoch 88/150\n",
      "31332/31332 [==============================] - 13s 402us/step - loss: 0.1551 - acc: 0.9332 - val_loss: 0.2146 - val_acc: 0.9212\n",
      "Epoch 89/150\n",
      "31332/31332 [==============================] - 14s 463us/step - loss: 0.1440 - acc: 0.9362 - val_loss: 0.2104 - val_acc: 0.9202\n",
      "Epoch 90/150\n",
      "31332/31332 [==============================] - 13s 411us/step - loss: 0.1482 - acc: 0.9341 - val_loss: 0.2054 - val_acc: 0.9115\n",
      "Epoch 91/150\n",
      "31332/31332 [==============================] - 12s 397us/step - loss: 0.1461 - acc: 0.9368 - val_loss: 0.1883 - val_acc: 0.9279\n",
      "Epoch 92/150\n",
      "31332/31332 [==============================] - 15s 474us/step - loss: 0.1437 - acc: 0.9364 - val_loss: 0.1932 - val_acc: 0.9298\n",
      "Epoch 93/150\n",
      "31332/31332 [==============================] - 13s 422us/step - loss: 0.1447 - acc: 0.9369 - val_loss: 0.2051 - val_acc: 0.9255\n",
      "Epoch 94/150\n",
      "31332/31332 [==============================] - 15s 484us/step - loss: 0.1504 - acc: 0.9343 - val_loss: 0.1951 - val_acc: 0.9262\n",
      "Epoch 95/150\n",
      "31332/31332 [==============================] - 15s 494us/step - loss: 0.1421 - acc: 0.9368 - val_loss: 0.2210 - val_acc: 0.9215\n",
      "Epoch 96/150\n",
      "31332/31332 [==============================] - 13s 420us/step - loss: 0.1425 - acc: 0.9363 - val_loss: 0.1842 - val_acc: 0.9306\n",
      "Epoch 97/150\n",
      "31332/31332 [==============================] - 12s 398us/step - loss: 0.1476 - acc: 0.9342 - val_loss: 0.1823 - val_acc: 0.9300\n",
      "Epoch 98/150\n",
      "31332/31332 [==============================] - 13s 416us/step - loss: 0.1417 - acc: 0.9368 - val_loss: 0.1887 - val_acc: 0.9303: 0.1417 - acc: 0.93\n",
      "Epoch 99/150\n",
      "31332/31332 [==============================] - 13s 428us/step - loss: 0.1420 - acc: 0.9367 - val_loss: 0.2012 - val_acc: 0.9271\n",
      "Epoch 100/150\n",
      "31332/31332 [==============================] - 13s 405us/step - loss: 0.1440 - acc: 0.9363 - val_loss: 0.1844 - val_acc: 0.9275\n",
      "Epoch 101/150\n",
      "31332/31332 [==============================] - 14s 439us/step - loss: 0.1407 - acc: 0.9381 - val_loss: 0.1796 - val_acc: 0.9313\n",
      "Epoch 102/150\n",
      "31332/31332 [==============================] - 16s 524us/step - loss: 0.1441 - acc: 0.9365 - val_loss: 0.1894 - val_acc: 0.9300\n",
      "Epoch 103/150\n",
      "31332/31332 [==============================] - 14s 444us/step - loss: 0.1383 - acc: 0.9373 - val_loss: 0.1998 - val_acc: 0.9261\n",
      "Epoch 104/150\n",
      "31332/31332 [==============================] - 16s 499us/step - loss: 0.1410 - acc: 0.9374 - val_loss: 0.1941 - val_acc: 0.9266ETA - ETA: 3s - loss: 0.1408 - acc: 0.9 - ETA: 2s - loss: 0.1411 - acc: 0.9 - E\n",
      "Epoch 105/150\n"
     ]
    },
    {
     "name": "stdout",
     "output_type": "stream",
     "text": [
      "31332/31332 [==============================] - 13s 418us/step - loss: 0.1401 - acc: 0.9373 - val_loss: 0.1868 - val_acc: 0.92975 -\n",
      "Epoch 106/150\n",
      "31332/31332 [==============================] - 12s 380us/step - loss: 0.1403 - acc: 0.9362 - val_loss: 0.1991 - val_acc: 0.9191\n",
      "Epoch 107/150\n",
      "31332/31332 [==============================] - 12s 399us/step - loss: 0.1430 - acc: 0.9387 - val_loss: 0.2136 - val_acc: 0.9247\n",
      "Epoch 108/150\n",
      "31332/31332 [==============================] - 13s 406us/step - loss: 0.1418 - acc: 0.9366 - val_loss: 0.1950 - val_acc: 0.9315 - loss: 0.14\n",
      "Epoch 109/150\n",
      "31332/31332 [==============================] - 15s 477us/step - loss: 0.1389 - acc: 0.9389 - val_loss: 0.2180 - val_acc: 0.9265- loss: 0.1383 - acc - ETA - ETA: 5s - loss: 0.1433 - acc - ETA: 5s - loss: 0.1426 - \n",
      "Epoch 110/150\n",
      "31332/31332 [==============================] - 13s 415us/step - loss: 0.1426 - acc: 0.9379 - val_loss: 0.1853 - val_acc: 0.9298\n",
      "Epoch 111/150\n",
      "31332/31332 [==============================] - 13s 426us/step - loss: 0.1366 - acc: 0.9383 - val_loss: 0.1934 - val_acc: 0.9292acc\n",
      "Epoch 112/150\n",
      "31332/31332 [==============================] - 13s 419us/step - loss: 0.1361 - acc: 0.9384 - val_loss: 0.2131 - val_acc: 0.9256\n",
      "Epoch 113/150\n",
      "31332/31332 [==============================] - 13s 425us/step - loss: 0.1426 - acc: 0.9375 - val_loss: 0.1974 - val_acc: 0.9292 - loss:  - ETA: 0s - loss: 0.1430 - acc: \n",
      "Epoch 114/150\n",
      "31332/31332 [==============================] - 13s 417us/step - loss: 0.1348 - acc: 0.9408 - val_loss: 0.1975 - val_acc: 0.9332- loss: 0.1353 -\n",
      "Epoch 115/150\n",
      "31332/31332 [==============================] - 13s 416us/step - loss: 0.1359 - acc: 0.9406 - val_loss: 0.2025 - val_acc: 0.9243\n",
      "Epoch 116/150\n",
      "31332/31332 [==============================] - 12s 397us/step - loss: 0.1362 - acc: 0.9389 - val_loss: 0.2271 - val_acc: 0.9215\n",
      "Epoch 117/150\n",
      "31332/31332 [==============================] - 13s 407us/step - loss: 0.1371 - acc: 0.9387 - val_loss: 0.1888 - val_acc: 0.9338\n",
      "Epoch 118/150\n",
      "31332/31332 [==============================] - 13s 400us/step - loss: 0.1382 - acc: 0.9385 - val_loss: 0.1897 - val_acc: 0.9317\n",
      "Epoch 119/150\n",
      "31332/31332 [==============================] - 13s 405us/step - loss: 0.1399 - acc: 0.9392 - val_loss: 0.2011 - val_acc: 0.9269\n",
      "Epoch 120/150\n",
      "31332/31332 [==============================] - 14s 434us/step - loss: 0.1345 - acc: 0.9405 - val_loss: 0.1970 - val_acc: 0.9313\n",
      "Epoch 121/150\n",
      "31332/31332 [==============================] - 14s 439us/step - loss: 0.1353 - acc: 0.9408 - val_loss: 0.1999 - val_acc: 0.9278TA: 9s - lo - ETA: 4s - loss: 0.1303 - acc: 0.9 - ET - ETA: 0s - loss: 0.1355 - acc: 0\n",
      "Epoch 122/150\n",
      "31332/31332 [==============================] - 15s 469us/step - loss: 0.1320 - acc: 0.9427 - val_loss: 0.1847 - val_acc: 0.9340s - loss: 0.1305 - acc: 0.94 - ETA: 7s - loss: 0.1300 -  - ETA: 5s - ETA: 4s - loss: 0.1313 - acc: 0.94 - ETA: 4s - loss: - ETA: 2s - loss: 0.1326 - a - ETA: 2s - loss: 0.1327 - acc: 0.941 - ETA: 2s - loss: 0.13 - ETA: 1s - \n",
      "Epoch 123/150\n",
      "31332/31332 [==============================] - 15s 464us/step - loss: 0.1355 - acc: 0.9415 - val_loss: 0.2205 - val_acc: 0.9237 ETA: 3s - loss: 0.1 - ETA: 2s - loss:  - ETA: 2s - loss: 0.1357 -  - ETA: 1s - loss: 0.1353 - acc: 0.941 - ETA: 1s - loss: 0.1351 - acc: 0.9 - ETA: 1s - \n",
      "Epoch 124/150\n",
      "31332/31332 [==============================] - 15s 476us/step - loss: 0.1327 - acc: 0.9417 - val_loss: 0.1941 - val_acc: 0.9322 - loss: 0.1269 - a - ETA: 10s - loss: 0.1258 - acc: - ETA: 8s - loss: 0.1323 - acc: \n",
      "Epoch 125/150\n",
      "31332/31332 [==============================] - 15s 472us/step - loss: 0.1392 - acc: 0.9388 - val_loss: 0.2052 - val_acc: 0.9283\n",
      "Epoch 126/150\n",
      "31332/31332 [==============================] - 16s 527us/step - loss: 0.1358 - acc: 0.9400 - val_loss: 0.2053 - val_acc: 0.9281\n",
      "Epoch 127/150\n",
      "31332/31332 [==============================] - 16s 519us/step - loss: 0.1336 - acc: 0.9408 - val_loss: 0.2033 - val_acc: 0.9260- loss: 0.1361 - acc: 0. - ETA: 5s - loss: 0.1356 - acc: 0. - ETA: 4s - loss: - ETA: 1s - loss\n",
      "Epoch 128/150\n",
      "31332/31332 [==============================] - 16s 513us/step - loss: 0.1345 - acc: 0.9401 - val_loss: 0.1958 - val_acc: 0.9315 - loss: 0.1299 - acc - ETA: 2s - loss: 0 - ETA: 1s - loss: 0.1345 - acc: 0 - ETA: 1s - loss: 0.1354 - acc - ETA: 0s - loss: 0.1354 - acc: - ETA: 0s - loss: 0.1351 - acc: 0.9 - ETA: 0s - loss: 0.1349 - acc: 0\n",
      "Epoch 129/150\n",
      "31332/31332 [==============================] - 16s 510us/step - loss: 0.1340 - acc: 0.9411 - val_loss: 0.1873 - val_acc: 0.9334\n",
      "Epoch 130/150\n",
      "31332/31332 [==============================] - 15s 470us/step - loss: 0.1301 - acc: 0.9410 - val_loss: 0.1935 - val_acc: 0.9302\n",
      "Epoch 131/150\n",
      "31332/31332 [==============================] - 16s 514us/step - loss: 0.1357 - acc: 0.9400 - val_loss: 0.1965 - val_acc: 0.9309: 0.93\n",
      "Epoch 132/150\n",
      "31332/31332 [==============================] - 16s 523us/step - loss: 0.1368 - acc: 0.9401 - val_loss: 0.2045 - val_acc: 0.92513 - ETA: 0s - loss: 0.136\n",
      "Epoch 133/150\n",
      "31332/31332 [==============================] - 17s 527us/step - loss: 0.1271 - acc: 0.9427 - val_loss: 0.1923 - val_acc: 0.9340 - loss: 0.1297 - acc: - ETA:  - ETA: 0s - loss: 0.12\n",
      "Epoch 134/150\n",
      "31332/31332 [==============================] - 17s 542us/step - loss: 0.1376 - acc: 0.9408 - val_loss: 0.2267 - val_acc: 0.9255: 0.1385 - ac - ETA: 2s - loss: 0.1379 -  - ETA: 1s - loss - ETA: 0s - loss: 0.1376 \n",
      "Epoch 135/150\n",
      "31332/31332 [==============================] - 18s 572us/step - loss: 0.1330 - acc: 0.9413 - val_loss: 0.2303 - val_acc: 0.9246\n",
      "Epoch 136/150\n",
      "31332/31332 [==============================] - 18s 561us/step - loss: 0.1293 - acc: 0.9422 - val_loss: 0.2113 - val_acc: 0.93070.130 - ET - ETA: 1s - loss: 0.1292 -  - ETA: 1s\n",
      "Epoch 137/150\n",
      "31332/31332 [==============================] - 18s 576us/step - loss: 0.1303 - acc: 0.9423 - val_loss: 0.1952 - val_acc: 0.9341\n",
      "Epoch 138/150\n",
      "31332/31332 [==============================] - 18s 571us/step - loss: 0.1305 - acc: 0.9417 - val_loss: 0.2051 - val_acc: 0.9298\n",
      "Epoch 139/150\n",
      "31332/31332 [==============================] - 19s 600us/step - loss: 0.1269 - acc: 0.9423 - val_loss: 0.2075 - val_acc: 0.92751246 - acc: 0.943 - ETA: 2s - loss: 0.1248\n",
      "Epoch 140/150\n",
      "31332/31332 [==============================] - 19s 597us/step - loss: 0.1308 - acc: 0.9421 - val_loss: 0.2001 - val_acc: 0.9316\n",
      "Epoch 141/150\n",
      "31332/31332 [==============================] - 19s 595us/step - loss: 0.1326 - acc: 0.9408 - val_loss: 0.2023 - val_acc: 0.9294\n",
      "Epoch 142/150\n",
      "31332/31332 [==============================] - 19s 613us/step - loss: 0.1299 - acc: 0.9426 - val_loss: 0.1884 - val_acc: 0.9340\n",
      "Epoch 143/150\n",
      "31332/31332 [==============================] - 19s 610us/step - loss: 0.1297 - acc: 0.9441 - val_loss: 0.1910 - val_acc: 0.9363\n",
      "Epoch 144/150\n",
      "31332/31332 [==============================] - 17s 548us/step - loss: 0.1300 - acc: 0.9425 - val_loss: 0.1880 - val_acc: 0.9308\n",
      "Epoch 145/150\n",
      "31332/31332 [==============================] - 20s 637us/step - loss: 0.1280 - acc: 0.9413 - val_loss: 0.2043 - val_acc: 0.9323 0.94\n",
      "Epoch 146/150\n",
      "31332/31332 [==============================] - 20s 641us/step - loss: 0.1319 - acc: 0.9414 - val_loss: 0.2058 - val_acc: 0.9288s \n",
      "Epoch 147/150\n",
      "31332/31332 [==============================] - 20s 643us/step - loss: 0.1301 - acc: 0.9433 - val_loss: 0.2000 - val_acc: 0.9298\n",
      "Epoch 148/150\n",
      "31332/31332 [==============================] - 20s 653us/step - loss: 0.1286 - acc: 0.9410 - val_loss: 0.2133 - val_acc: 0.9288loss:  - ETA: 0s - loss: 0.1283 - ac\n",
      "Epoch 149/150\n",
      "31332/31332 [==============================] - 18s 570us/step - loss: 0.1266 - acc: 0.9438 - val_loss: 0.1935 - val_acc: 0.9349ETA: 1s - l\n",
      "Epoch 150/150\n",
      "31332/31332 [==============================] - 19s 597us/step - loss: 0.1297 - acc: 0.9431 - val_loss: 0.1940 - val_acc: 0.9343\n"
     ]
    }
   ],
   "source": [
    "history = acm_model.fit(x = X_train, y = Y_train, epochs = 150, batch_size = 32, validation_data=(X_test,Y_test))"
   ]
  },
  {
   "cell_type": "markdown",
   "metadata": {},
   "source": [
    "batch_size = 128\n",
    "epochs = 10\n",
    "acm_model.fit(X_train, Y_train,\n",
    "          batch_size=batch_size,\n",
    "          epochs=epochs,\n",
    "          verbose=1,\n",
    "          validation_data=(X_test, Y_test))\n",
    "          \n",
    "model.summary()"
   ]
  },
  {
   "cell_type": "code",
   "execution_count": 53,
   "metadata": {},
   "outputs": [
    {
     "name": "stdout",
     "output_type": "stream",
     "text": [
      "dict_keys(['val_loss', 'val_acc', 'loss', 'acc'])\n"
     ]
    },
    {
     "data": {
      "image/png": "[encoded data removed]",
      "text/plain": [
       "<Figure size 576x576 with 1 Axes>"
      ]
     },
     "metadata": {
      "needs_background": "light"
     },
     "output_type": "display_data"
    },
    {
     "data": {
      "image/png": "[encoded data removed]",
      "text/plain": [
       "<Figure size 576x576 with 1 Axes>"
      ]
     },
     "metadata": {
      "needs_background": "light"
     },
     "output_type": "display_data"
    }
   ],
   "source": [
    "print(history.history.keys())\n",
    "# summarize and plot history for accuracy\n",
    "plt.plot(history.history['acc'])\n",
    "plt.plot(history.history['val_acc'])\n",
    "plt.title('model accuracy')\n",
    "plt.ylabel('accuracy')\n",
    "plt.xlabel('epoch')\n",
    "plt.legend(['train', 'test'], loc='upper left')\n",
    "plt.show()\n",
    "# summarize and plot history for loss\n",
    "plt.plot(history.history['loss'])\n",
    "plt.plot(history.history['val_loss'])\n",
    "plt.title('model loss')\n",
    "plt.ylabel('loss')\n",
    "plt.xlabel('epoch')\n",
    "plt.legend(['train', 'test'], loc='upper left')\n",
    "plt.show()"
   ]
  },
  {
   "cell_type": "markdown",
   "metadata": {},
   "source": [
    "### 5.5 Model Summary"
   ]
  },
  {
   "cell_type": "code",
   "execution_count": 54,
   "metadata": {},
   "outputs": [
    {
     "name": "stdout",
     "output_type": "stream",
     "text": [
      "_________________________________________________________________\n",
      "Layer (type)                 Output Shape              Param #   \n",
      "=================================================================\n",
      "conv1d_7 (Conv1D)            (None, 3, 100)            9100      \n",
      "_________________________________________________________________\n",
      "conv1d_8 (Conv1D)            (None, 2, 100)            20100     \n",
      "_________________________________________________________________\n",
      "conv1d_9 (Conv1D)            (None, 2, 100)            10100     \n",
      "_________________________________________________________________\n",
      "dropout_3 (Dropout)          (None, 2, 100)            0         \n",
      "_________________________________________________________________\n",
      "flatten_3 (Flatten)          (None, 200)               0         \n",
      "_________________________________________________________________\n",
      "dense_5 (Dense)              (None, 100)               20100     \n",
      "_________________________________________________________________\n",
      "dense_6 (Dense)              (None, 14)                1414      \n",
      "=================================================================\n",
      "Total params: 60,814\n",
      "Trainable params: 60,814\n",
      "Non-trainable params: 0\n",
      "_________________________________________________________________\n"
     ]
    }
   ],
   "source": [
    "acm_model.summary()"
   ]
  },
  {
   "cell_type": "markdown",
   "metadata": {},
   "source": [
    "### 5.6 Accuracy on Test data"
   ]
  },
  {
   "cell_type": "code",
   "execution_count": 55,
   "metadata": {},
   "outputs": [
    {
     "name": "stdout",
     "output_type": "stream",
     "text": [
      "7834/7834 [==============================] - 1s 133us/step\n",
      "\n",
      "Loss = 0.19401081013670374\n",
      "Test Accuracy = 0.9342609139952028\n"
     ]
    }
   ],
   "source": [
    "preds = acm_model.evaluate(x=X_test, y=Y_test)\n",
    "\n",
    "print()\n",
    "print(\"Loss = \" + str(preds[0]))\n",
    "print(\"Test Accuracy = \" + str(preds[1]))\n"
   ]
  },
  {
   "cell_type": "markdown",
   "metadata": {},
   "source": [
    "### 5.7 Predict on Test data"
   ]
  },
  {
   "cell_type": "code",
   "execution_count": 56,
   "metadata": {
    "scrolled": true
   },
   "outputs": [
    {
     "name": "stdout",
     "output_type": "stream",
     "text": [
      "Shape of X_test: (7834, 4, 45)\n",
      "Shape of Y_predict: (7834,)\n",
      "Shape of Y_test: (7834, 14)\n",
      "Shape of Y_test (back from one-hot): (7834,)\n"
     ]
    }
   ],
   "source": [
    "# Predict on test set (X_test)\n",
    "print(\"Shape of X_test:\", X_test.shape)\n",
    "\n",
    "Y_predict = acm_model.predict_classes(X_test)\n",
    "\n",
    "print(\"Shape of Y_predict:\", Y_predict.shape)\n",
    "print(\"Shape of Y_test:\", Y_test.shape)\n",
    "\n",
    "# Convert back from one hot to single integer\n",
    "Y_test = Y_test.argmax(axis=1)\n",
    "print(\"Shape of Y_test (back from one-hot):\", Y_test.shape)"
   ]
  },
  {
   "cell_type": "markdown",
   "metadata": {},
   "source": [
    "## 6. View Cofusion Matrix on Test data\n",
    "\n",
    "This is to see true preformance and to figure out how we can optimize training"
   ]
  },
  {
   "cell_type": "code",
   "execution_count": 57,
   "metadata": {},
   "outputs": [
    {
     "data": {
      "text/plain": [
       "array([[4493,    0,    0,    0,   25,    3,  176,    1,    7,   12,    1,\n",
       "           5,    5,    1],\n",
       "       [   2,  137,    1,    0,    1,    0,    0,    0,    0,    0,    0,\n",
       "           0,    0,    0],\n",
       "       [   0,    0,    2,    0,    0,    0,    0,    0,    0,    0,    0,\n",
       "           0,    0,    0],\n",
       "       [   0,    0,    0,  268,    0,    0,    2,    0,    0,    0,    1,\n",
       "           0,    0,    0],\n",
       "       [  15,    0,    0,    0,  446,    0,    4,    1,   11,    0,    0,\n",
       "           0,    2,    1],\n",
       "       [   3,    0,    0,    0,    1,   43,    1,    1,    1,    0,    0,\n",
       "           0,    0,    0],\n",
       "       [  94,    0,    0,    0,    4,    0,  889,    7,   10,    1,    0,\n",
       "           0,    0,    1],\n",
       "       [   4,    0,    0,    0,    1,    2,   21,  485,    2,    0,    0,\n",
       "           0,    0,    0],\n",
       "       [   8,    0,    0,    0,    3,    1,    8,    1,   82,    0,    1,\n",
       "           1,    0,    1],\n",
       "       [   0,    0,    0,    0,    0,    0,   24,    0,    0,  239,    0,\n",
       "           0,    0,    0],\n",
       "       [   1,    1,    0,    0,    0,    0,    3,    0,    4,    0,   18,\n",
       "           0,    0,    0],\n",
       "       [   9,    0,    0,    0,    1,    0,    0,    0,    0,    0,    0,\n",
       "          84,    8,    0],\n",
       "       [   6,    0,    0,    0,    1,    0,    0,    0,    0,    0,    0,\n",
       "           0,   92,    0],\n",
       "       [   0,    1,    0,    0,    0,    0,    0,    0,    1,    0,    0,\n",
       "           0,    0,   41]], dtype=int64)"
      ]
     },
     "execution_count": 57,
     "metadata": {},
     "output_type": "execute_result"
    }
   ],
   "source": [
    "import matplotlib.pyplot as plt\n",
    "\n",
    "from sklearn.metrics import confusion_matrix\n",
    "from sklearn.utils.multiclass import unique_labels\n",
    "confusion_matrix(Y_test, Y_predict)"
   ]
  },
  {
   "cell_type": "code",
   "execution_count": 58,
   "metadata": {},
   "outputs": [],
   "source": [
    "def plot_confusion_matrix(y_true, y_pred, classes,\n",
    "                          normalize=True,\n",
    "                          title=None,\n",
    "                          cmap=plt.cm.Blues):\n",
    "    \"\"\"\n",
    "    This function prints and plots the confusion matrix.\n",
    "    Normalization can be applied by setting `normalize=True`.\n",
    "    \"\"\"\n",
    "    if not title:\n",
    "        if normalize:\n",
    "            title = 'Normalized confusion matrix'\n",
    "        else:\n",
    "            title = 'Confusion matrix, without normalization'\n",
    "\n",
    "    # Compute confusion matrix\n",
    "    cm = confusion_matrix(y_true, y_pred)\n",
    "    # Only use the labels that appear in the data\n",
    "    classes = classes[unique_labels(y_true, y_pred)]\n",
    "    if normalize:\n",
    "        cm = cm.astype('float') / cm.sum(axis=1)[:, np.newaxis]\n",
    "        print(\"Normalized confusion matrix\")\n",
    "    else:\n",
    "        print('Confusion matrix, without normalization')\n",
    "\n",
    "    print(cm)\n",
    "\n",
    "    fig, ax = plt.subplots()\n",
    "    im = ax.imshow(cm, interpolation='nearest', cmap=cmap)\n",
    "    ax.figure.colorbar(im, ax=ax)\n",
    "    # We want to show all ticks...\n",
    "    ax.set(xticks=np.arange(cm.shape[1]),\n",
    "           yticks=np.arange(cm.shape[0]),\n",
    "           # ... and label them with the respective list entries\n",
    "           xticklabels=classes, yticklabels=classes,\n",
    "           title=title,\n",
    "           ylabel='True label',\n",
    "           xlabel='Predicted label')\n",
    "\n",
    "    # Rotate the tick labels and set their alignment.\n",
    "    plt.setp(ax.get_xticklabels(), rotation=45, ha=\"right\",\n",
    "             rotation_mode=\"anchor\")\n",
    "\n",
    "    # Loop over data dimensions and create text annotations.\n",
    "    fmt = '.2f' if normalize else 'd'\n",
    "    thresh = cm.max() / 2.\n",
    "    for i in range(cm.shape[0]):\n",
    "        for j in range(cm.shape[1]):\n",
    "            ax.text(j, i, format(cm[i, j], fmt),\n",
    "                    ha=\"center\", va=\"center\",\n",
    "                    color=\"white\" if cm[i, j] > thresh else \"black\")\n",
    "    #fig.tight_layout()\n",
    "    plt.rcParams[\"figure.figsize\"] = (8,6)\n",
    "    return ax\n"
   ]
  },
  {
   "cell_type": "code",
   "execution_count": 59,
   "metadata": {
    "scrolled": true
   },
   "outputs": [
    {
     "name": "stdout",
     "output_type": "stream",
     "text": [
      "Unique labels are: [ 0.  1.  2.  3.  4.  5.  6.  7.  8.  9. 10. 11. 12. 13.]\n",
      "Confusion matrix, without normalization\n",
      "[[4493    0    0    0   25    3  176    1    7   12    1    5    5    1]\n",
      " [   2  137    1    0    1    0    0    0    0    0    0    0    0    0]\n",
      " [   0    0    2    0    0    0    0    0    0    0    0    0    0    0]\n",
      " [   0    0    0  268    0    0    2    0    0    0    1    0    0    0]\n",
      " [  15    0    0    0  446    0    4    1   11    0    0    0    2    1]\n",
      " [   3    0    0    0    1   43    1    1    1    0    0    0    0    0]\n",
      " [  94    0    0    0    4    0  889    7   10    1    0    0    0    1]\n",
      " [   4    0    0    0    1    2   21  485    2    0    0    0    0    0]\n",
      " [   8    0    0    0    3    1    8    1   82    0    1    1    0    1]\n",
      " [   0    0    0    0    0    0   24    0    0  239    0    0    0    0]\n",
      " [   1    1    0    0    0    0    3    0    4    0   18    0    0    0]\n",
      " [   9    0    0    0    1    0    0    0    0    0    0   84    8    0]\n",
      " [   6    0    0    0    1    0    0    0    0    0    0    0   92    0]\n",
      " [   0    1    0    0    0    0    0    0    1    0    0    0    0   41]]\n",
      "Normalized confusion matrix\n",
      "[[9.50095158e-01 0.00000000e+00 0.00000000e+00 0.00000000e+00\n",
      "  5.28652992e-03 6.34383591e-04 3.72171706e-02 2.11461197e-04\n",
      "  1.48022838e-03 2.53753436e-03 2.11461197e-04 1.05730598e-03\n",
      "  1.05730598e-03 2.11461197e-04]\n",
      " [1.41843972e-02 9.71631206e-01 7.09219858e-03 0.00000000e+00\n",
      "  7.09219858e-03 0.00000000e+00 0.00000000e+00 0.00000000e+00\n",
      "  0.00000000e+00 0.00000000e+00 0.00000000e+00 0.00000000e+00\n",
      "  0.00000000e+00 0.00000000e+00]\n",
      " [0.00000000e+00 0.00000000e+00 1.00000000e+00 0.00000000e+00\n",
      "  0.00000000e+00 0.00000000e+00 0.00000000e+00 0.00000000e+00\n",
      "  0.00000000e+00 0.00000000e+00 0.00000000e+00 0.00000000e+00\n",
      "  0.00000000e+00 0.00000000e+00]\n",
      " [0.00000000e+00 0.00000000e+00 0.00000000e+00 9.88929889e-01\n",
      "  0.00000000e+00 0.00000000e+00 7.38007380e-03 0.00000000e+00\n",
      "  0.00000000e+00 0.00000000e+00 3.69003690e-03 0.00000000e+00\n",
      "  0.00000000e+00 0.00000000e+00]\n",
      " [3.12500000e-02 0.00000000e+00 0.00000000e+00 0.00000000e+00\n",
      "  9.29166667e-01 0.00000000e+00 8.33333333e-03 2.08333333e-03\n",
      "  2.29166667e-02 0.00000000e+00 0.00000000e+00 0.00000000e+00\n",
      "  4.16666667e-03 2.08333333e-03]\n",
      " [6.00000000e-02 0.00000000e+00 0.00000000e+00 0.00000000e+00\n",
      "  2.00000000e-02 8.60000000e-01 2.00000000e-02 2.00000000e-02\n",
      "  2.00000000e-02 0.00000000e+00 0.00000000e+00 0.00000000e+00\n",
      "  0.00000000e+00 0.00000000e+00]\n",
      " [9.34393638e-02 0.00000000e+00 0.00000000e+00 0.00000000e+00\n",
      "  3.97614314e-03 0.00000000e+00 8.83697813e-01 6.95825050e-03\n",
      "  9.94035785e-03 9.94035785e-04 0.00000000e+00 0.00000000e+00\n",
      "  0.00000000e+00 9.94035785e-04]\n",
      " [7.76699029e-03 0.00000000e+00 0.00000000e+00 0.00000000e+00\n",
      "  1.94174757e-03 3.88349515e-03 4.07766990e-02 9.41747573e-01\n",
      "  3.88349515e-03 0.00000000e+00 0.00000000e+00 0.00000000e+00\n",
      "  0.00000000e+00 0.00000000e+00]\n",
      " [7.54716981e-02 0.00000000e+00 0.00000000e+00 0.00000000e+00\n",
      "  2.83018868e-02 9.43396226e-03 7.54716981e-02 9.43396226e-03\n",
      "  7.73584906e-01 0.00000000e+00 9.43396226e-03 9.43396226e-03\n",
      "  0.00000000e+00 9.43396226e-03]\n",
      " [0.00000000e+00 0.00000000e+00 0.00000000e+00 0.00000000e+00\n",
      "  0.00000000e+00 0.00000000e+00 9.12547529e-02 0.00000000e+00\n",
      "  0.00000000e+00 9.08745247e-01 0.00000000e+00 0.00000000e+00\n",
      "  0.00000000e+00 0.00000000e+00]\n",
      " [3.70370370e-02 3.70370370e-02 0.00000000e+00 0.00000000e+00\n",
      "  0.00000000e+00 0.00000000e+00 1.11111111e-01 0.00000000e+00\n",
      "  1.48148148e-01 0.00000000e+00 6.66666667e-01 0.00000000e+00\n",
      "  0.00000000e+00 0.00000000e+00]\n",
      " [8.82352941e-02 0.00000000e+00 0.00000000e+00 0.00000000e+00\n",
      "  9.80392157e-03 0.00000000e+00 0.00000000e+00 0.00000000e+00\n",
      "  0.00000000e+00 0.00000000e+00 0.00000000e+00 8.23529412e-01\n",
      "  7.84313725e-02 0.00000000e+00]\n",
      " [6.06060606e-02 0.00000000e+00 0.00000000e+00 0.00000000e+00\n",
      "  1.01010101e-02 0.00000000e+00 0.00000000e+00 0.00000000e+00\n",
      "  0.00000000e+00 0.00000000e+00 0.00000000e+00 0.00000000e+00\n",
      "  9.29292929e-01 0.00000000e+00]\n",
      " [0.00000000e+00 2.32558140e-02 0.00000000e+00 0.00000000e+00\n",
      "  0.00000000e+00 0.00000000e+00 0.00000000e+00 0.00000000e+00\n",
      "  2.32558140e-02 0.00000000e+00 0.00000000e+00 0.00000000e+00\n",
      "  0.00000000e+00 9.53488372e-01]]\n",
      " \n",
      "\n",
      "0\tNo event detected\n",
      "1\tOut of service\n",
      "2\tHW restart\n",
      "3\tStuck on low modulation\n",
      "4\tUnstable Ant. support / Wind\n",
      "5\tIntermittent LOS problem\n",
      "6\tLOS or Alignment problem\n",
      "7\tBad LOS or Alignment problem\n",
      "8\tRain\n",
      "9\tStuck on mid modulation\n",
      "10\tWet snow\n",
      "11\tEquipment fault\n",
      "12\tEquipment fault far end\n",
      "13\tNo or limited data\n",
      "\n",
      "\n"
     ]
    },
    {
     "data": {
      "image/png": "[encoded data removed]",
      "text/plain": [
       "<Figure size 576x576 with 2 Axes>"
      ]
     },
     "metadata": {
      "needs_background": "light"
     },
     "output_type": "display_data"
    },
    {
     "data": {
      "image/png": "[encoded data removed]",
      "text/plain": [
       "<Figure size 576x432 with 2 Axes>"
      ]
     },
     "metadata": {
      "needs_background": "light"
     },
     "output_type": "display_data"
    }
   ],
   "source": [
    "U = unique_labels(Y)\n",
    "print(\"Unique labels are:\", U)\n",
    "\n",
    "\n",
    "# Call function to plot confusion matrix\n",
    "plot_confusion_matrix(Y_test, Y_predict,U,normalize=False,title=None,cmap=plt.cm.Blues)\n",
    "plot_confusion_matrix(Y_test, Y_predict,U,normalize=True,title=None,cmap=plt.cm.Blues)\n",
    "\n",
    "print(\"\"\" \n",
    "\n",
    "0\tNo event detected\n",
    "1\tOut of service\n",
    "2\tHW restart\n",
    "3\tStuck on low modulation\n",
    "4\tUnstable Ant. support / Wind\n",
    "5\tIntermittent LOS problem\n",
    "6\tLOS or Alignment problem\n",
    "7\tBad LOS or Alignment problem\n",
    "8\tRain\n",
    "9\tStuck on mid modulation\n",
    "10\tWet snow\n",
    "11\tEquipment fault\n",
    "12\tEquipment fault far end\n",
    "13\tNo or limited data\n",
    "\n",
    "\"\"\")\n",
    "\n",
    "\n"
   ]
  },
  {
   "cell_type": "markdown",
   "metadata": {},
   "source": [
    "# Save Model"
   ]
  },
  {
   "cell_type": "code",
   "execution_count": 61,
   "metadata": {},
   "outputs": [],
   "source": [
    "acm_model.save_weights('Eband_Model_CNN_4_weights.h5')\n",
    "\n",
    "acm_model.save ('Eband_Model_CNN_4.h5') # creates a HDF5 file that we will play with later on :)\n"
   ]
  },
  {
   "cell_type": "code",
   "execution_count": null,
   "metadata": {},
   "outputs": [],
   "source": []
  },
  {
   "cell_type": "code",
   "execution_count": null,
   "metadata": {},
   "outputs": [],
   "source": []
  },
  {
   "cell_type": "code",
   "execution_count": null,
   "metadata": {},
   "outputs": [],
   "source": []
  },
  {
   "cell_type": "code",
   "execution_count": null,
   "metadata": {},
   "outputs": [],
   "source": []
  }
 ],
 "metadata": {
  "kernelspec": {
   "display_name": "Python 3",
   "language": "python",
   "name": "python3"
  },
  "language_info": {
   "codemirror_mode": {
    "name": "ipython",
    "version": 3
   },
   "file_extension": ".py",
   "mimetype": "text/x-python",
   "name": "python",
   "nbconvert_exporter": "python",
   "pygments_lexer": "ipython3",
   "version": "3.7.3"
  }
 },
 "nbformat": 4,
 "nbformat_minor": 2
}
