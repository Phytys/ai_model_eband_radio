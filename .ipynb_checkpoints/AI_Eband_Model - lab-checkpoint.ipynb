{
 "cells": [
  {
   "cell_type": "markdown",
   "metadata": {},
   "source": [
    "# AI Eband Model\n",
    "\n",
    "Glenn Landgren Consulting\n",
    "glennconsulting@outlook.com\n"
   ]
  },
  {
   "cell_type": "markdown",
   "metadata": {},
   "source": [
    "## 1. Imports"
   ]
  },
  {
   "cell_type": "code",
   "execution_count": 7,
   "metadata": {},
   "outputs": [],
   "source": [
    "import numpy as np\n",
    "import pandas as pd\n",
    "\n",
    "import sklearn\n",
    "\n",
    "from matplotlib import pyplot\n",
    "\n",
    "from keras.models import Sequential\n",
    "from keras.layers import Dense\n",
    "from keras.layers import Flatten\n",
    "from keras.layers import Dropout\n",
    "from keras.layers import Permute\n",
    "from keras.layers.convolutional import Conv1D\n",
    "from keras.layers.convolutional import MaxPooling1D\n",
    "from keras.utils import to_categorical, normalize\n",
    "\n"
   ]
  },
  {
   "cell_type": "markdown",
   "metadata": {},
   "source": [
    "## 2. Get raw train data"
   ]
  },
  {
   "cell_type": "code",
   "execution_count": 8,
   "metadata": {},
   "outputs": [
    {
     "name": "stdout",
     "output_type": "stream",
     "text": [
      "Shape of raw data: (46842, 58)\n",
      "axis 0 divided by 4 11710.5\n",
      "axis 0 divided by 8 5855.25\n",
      "axis 0 divided by 96 487.9375\n"
     ]
    },
    {
     "data": {
      "text/plain": [
       "NeId                        int64\n",
       "Time                       object\n",
       "NeAlias                    object\n",
       "NeType                     object\n",
       "HalfBPSK_Strong             int64\n",
       "HalfBPSK                    int64\n",
       "HalfBPSK_Light              int64\n",
       "BPSK_Strong                 int64\n",
       "BPSK                        int64\n",
       "BPSK_Light                  int64\n",
       "QAM4_Strong                 int64\n",
       "QAM4                        int64\n",
       "QAM4_Light                  int64\n",
       "QAM16_Strong                int64\n",
       "QAM16                       int64\n",
       "QAM16_Light                 int64\n",
       "QAM32_Strong                int64\n",
       "QAM32                       int64\n",
       "QAM32_Light                 int64\n",
       "QAM64_Strong                int64\n",
       "QAM64                       int64\n",
       "QAM64_Light                 int64\n",
       "QAM128_Strong               int64\n",
       "QAM128                      int64\n",
       "QAM128_Light                int64\n",
       "QAM256_Strong               int64\n",
       "QAM256                      int64\n",
       "QAM256_Light                int64\n",
       "QAM512_Strong               int64\n",
       "QAM512                      int64\n",
       "QAM512_Light                int64\n",
       "QAM1024_Strong              int64\n",
       "QAM1024                     int64\n",
       "QAM1024_Light               int64\n",
       "QAM2048_Strong              int64\n",
       "QAM2048                     int64\n",
       "QAM2048_Light               int64\n",
       "QAM4096_Strong              int64\n",
       "QAM4096                     int64\n",
       "QAM4096_Light               int64\n",
       "ModChanges_x                int64\n",
       "FailureDescription         object\n",
       "ES_x                        int64\n",
       "SES_x                       int64\n",
       "UAS_x                       int64\n",
       "ActualReceived_Level_x    float64\n",
       "FarEnd_NeAlias             object\n",
       "ES_y                        int64\n",
       "SES_y                       int64\n",
       "UAS_y                       int64\n",
       "ActualReceived_Level_y    float64\n",
       "ModChanges_y                int64\n",
       "fading_metric               int64\n",
       "sum_errors                  int64\n",
       "hw_fault                    int64\n",
       "pred_group                 object\n",
       "Y label                     int64\n",
       "Y 2                         int64\n",
       "dtype: object"
      ]
     },
     "execution_count": 8,
     "metadata": {},
     "output_type": "execute_result"
    }
   ],
   "source": [
    "data_raw_train = pd.read_csv(\"dataset/AUG_CNN_4_ROWS_eband_collected_train_data_2019-09-22.csv\")\n",
    "print(\"Shape of raw data:\", data_raw_train.shape)\n",
    "print(\"axis 0 divided by 4\", data_raw_train.shape[0]/4)\n",
    "print(\"axis 0 divided by 8\", data_raw_train.shape[0]/8)\n",
    "print(\"axis 0 divided by 96\", data_raw_train.shape[0]/96)\n",
    "data_raw_train.dtypes"
   ]
  },
  {
   "cell_type": "markdown",
   "metadata": {},
   "source": [
    "## 3. Prepare dataset, X and Y\n"
   ]
  },
  {
   "cell_type": "markdown",
   "metadata": {},
   "source": [
    "### 3.1  X_temp\n",
    "- Each row\n",
    "    - ACM modulation in second\n",
    "    - Mod changes\n",
    "    - ES,SES, UAS\n",
    "    - Rx\n",
    "    - Far-End ES,SES, UAS\n",
    "    - Far-End Rx\n",
    "    - Far-End Mod changes"
   ]
  },
  {
   "cell_type": "code",
   "execution_count": 9,
   "metadata": {},
   "outputs": [
    {
     "name": "stdout",
     "output_type": "stream",
     "text": [
      "Shape of X_temp (after dropped columns): (46842, 43)\n"
     ]
    }
   ],
   "source": [
    "# Drop columns not used by X train set\n",
    "X_temp = data_raw_train.drop([\"NeId\", \"Time\", \"NeAlias\", \"NeType\", \"FailureDescription\", \"FarEnd_NeAlias\",\"pred_group\", \"Y label\", \"Y 2\"], axis=1 )\n",
    "X_temp.drop([\"QAM2048_Strong\", \"QAM2048\", \"QAM2048_Light\",\"QAM4096_Strong\",\"QAM4096\", \"QAM4096_Light\"], axis=1, inplace=True)\n",
    "\n",
    "print(\"Shape of X_temp (after dropped columns):\", X_temp.shape)\n",
    "\n",
    "# export to csv and follow up on structure\n",
    "#X_temp.to_csv('temp_outputs/X_temp.csv', sep=',', header=True, float_format='%.2f', index=False)\n"
   ]
  },
  {
   "cell_type": "code",
   "execution_count": null,
   "metadata": {},
   "outputs": [],
   "source": []
  },
  {
   "cell_type": "markdown",
   "metadata": {},
   "source": [
    "### 3.2 Y_temp:\n",
    "- Select column with Y label"
   ]
  },
  {
   "cell_type": "code",
   "execution_count": 10,
   "metadata": {},
   "outputs": [
    {
     "name": "stdout",
     "output_type": "stream",
     "text": [
      "shape of Y_temp: (46842,)\n"
     ]
    }
   ],
   "source": [
    "Y_temp = data_raw_train.loc[:, \"Y label\"]\n",
    "\n",
    "print(\"shape of Y_temp:\",Y_temp.shape)"
   ]
  },
  {
   "cell_type": "markdown",
   "metadata": {},
   "source": [
    "## 4. Group timeperiods (rows) into training example 3d array X,  and labels Y"
   ]
  },
  {
   "cell_type": "markdown",
   "metadata": {},
   "source": [
    "### 4.1 Function selects the \"LAST\" Y label for grouped sequences"
   ]
  },
  {
   "cell_type": "code",
   "execution_count": 11,
   "metadata": {},
   "outputs": [],
   "source": [
    "def group_time_periods(periods):\n",
    "\n",
    "    m = Y_temp.shape[0]\n",
    "    m_periods = m//periods\n",
    "    print(\"m is:\", m)\n",
    "    print(\"m_periods is (after grouping):\", m_periods)\n",
    "    Y = np.zeros((m_periods, 1))\n",
    "\n",
    "    for i in range(m_periods):\n",
    "        select_labels =  Y_temp[i* periods : i * periods + periods, :]\n",
    "        last_label = select_labels [0-1]\n",
    "        Y[i, :] = last_label\n",
    "        \n",
    "        \n",
    "    return Y"
   ]
  },
  {
   "cell_type": "markdown",
   "metadata": {},
   "source": [
    "### 4.2 Define how many sequence_periods to group into one example"
   ]
  },
  {
   "cell_type": "code",
   "execution_count": 12,
   "metadata": {},
   "outputs": [
    {
     "name": "stdout",
     "output_type": "stream",
     "text": [
      "remainder is : 2\n",
      "shape of X_temp : (46840, 43)\n",
      "shape of X: (11710, 4, 43)\n",
      "shape of Y_temp : (46840,)\n",
      "m is: 46840\n",
      "m_periods is (after grouping): 11710\n",
      "shape of Y: (11710, 1)\n"
     ]
    }
   ],
   "source": [
    "###################################\n",
    "time_periods_to_group = 4\n",
    "##################################\n",
    "\n",
    "# find remainder\n",
    "r = X_temp.shape[0] % time_periods_to_group\n",
    "print(\"remainder is :\", r)\n",
    "\n",
    "# drop rows equal to remainder r (if remainder is > 0)\n",
    "X_temp.drop(X_temp.tail(r).index,inplace=True)\n",
    "# X_temp = X_temp.iloc[r:]\n",
    "print(\"shape of X_temp :\", X_temp.shape)\n",
    "\n",
    "# X to array\n",
    "X_temp=X_temp.values\n",
    "\n",
    "#Rearrange X_temp to get a 3D matrix\n",
    "X = X_temp.reshape(X_temp.shape[0] // time_periods_to_group, time_periods_to_group , X_temp.shape[1])\n",
    "print(\"shape of X:\",X.shape)\n",
    "\n",
    "# will give you a new Y df without the first rows (if remainder is > 0)\n",
    "# drop rows equal to remainder r (if remainder is > 0)\n",
    "Y_temp.drop(Y_temp.tail(r).index,inplace=True)\n",
    "#Y_temp = Y_temp.iloc[r:]\n",
    "print(\"shape of Y_temp :\", Y_temp.shape)\n",
    "\n",
    "# Y to numpy array\n",
    "Y_temp=Y_temp.values\n",
    "Y_temp = Y_temp.reshape(Y_temp.shape[0], 1)\n",
    "\n",
    "# call function above to group labels and select last label in \"group\"\n",
    "Y = group_time_periods(time_periods_to_group)\n",
    "print(\"shape of Y:\", Y.shape)\n"
   ]
  },
  {
   "cell_type": "markdown",
   "metadata": {},
   "source": [
    "### 4.3 Control structure of train examples"
   ]
  },
  {
   "cell_type": "code",
   "execution_count": 13,
   "metadata": {},
   "outputs": [
    {
     "name": "stdout",
     "output_type": "stream",
     "text": [
      "shape of - check train example - : (4, 43)\n",
      "check a train example : [[ 0.000e+00  9.000e+02  0.000e+00  0.000e+00  0.000e+00  0.000e+00\n",
      "   0.000e+00  0.000e+00  0.000e+00  0.000e+00  0.000e+00  0.000e+00\n",
      "   0.000e+00  0.000e+00  0.000e+00  0.000e+00  0.000e+00  0.000e+00\n",
      "   0.000e+00  0.000e+00  0.000e+00  0.000e+00  0.000e+00  0.000e+00\n",
      "   0.000e+00  0.000e+00  0.000e+00  0.000e+00  0.000e+00  0.000e+00\n",
      "   0.000e+00  0.000e+00  0.000e+00  0.000e+00 -6.560e+01  0.000e+00\n",
      "   0.000e+00  0.000e+00 -7.330e+01  2.000e+00  1.802e+04  0.000e+00\n",
      "   0.000e+00]\n",
      " [ 1.200e+01  8.880e+02  0.000e+00  0.000e+00  0.000e+00  0.000e+00\n",
      "   0.000e+00  0.000e+00  0.000e+00  0.000e+00  0.000e+00  0.000e+00\n",
      "   0.000e+00  0.000e+00  0.000e+00  0.000e+00  0.000e+00  0.000e+00\n",
      "   0.000e+00  0.000e+00  0.000e+00  0.000e+00  0.000e+00  0.000e+00\n",
      "   0.000e+00  0.000e+00  0.000e+00  0.000e+00  0.000e+00  0.000e+00\n",
      "   2.000e+00  0.000e+00  0.000e+00  0.000e+00 -6.470e+01  0.000e+00\n",
      "   0.000e+00  0.000e+00 -7.530e+01  4.000e+00  1.806e+04  0.000e+00\n",
      "   0.000e+00]\n",
      " [ 7.080e+02  1.920e+02  0.000e+00  0.000e+00  0.000e+00  0.000e+00\n",
      "   0.000e+00  0.000e+00  0.000e+00  0.000e+00  0.000e+00  0.000e+00\n",
      "   0.000e+00  0.000e+00  0.000e+00  0.000e+00  0.000e+00  0.000e+00\n",
      "   0.000e+00  0.000e+00  0.000e+00  0.000e+00  0.000e+00  0.000e+00\n",
      "   0.000e+00  0.000e+00  0.000e+00  0.000e+00  0.000e+00  0.000e+00\n",
      "   5.000e+00  0.000e+00  0.000e+00  0.000e+00 -6.640e+01  1.000e+00\n",
      "   1.000e+00  0.000e+00 -7.440e+01  2.000e+00  1.807e+04  2.000e+00\n",
      "   0.000e+00]\n",
      " [ 1.590e+02  7.410e+02  0.000e+00  0.000e+00  0.000e+00  0.000e+00\n",
      "   0.000e+00  0.000e+00  0.000e+00  0.000e+00  0.000e+00  0.000e+00\n",
      "   0.000e+00  0.000e+00  0.000e+00  0.000e+00  0.000e+00  0.000e+00\n",
      "   0.000e+00  0.000e+00  0.000e+00  0.000e+00  0.000e+00  0.000e+00\n",
      "   0.000e+00  0.000e+00  0.000e+00  0.000e+00  0.000e+00  0.000e+00\n",
      "   3.000e+00  0.000e+00  0.000e+00  0.000e+00 -6.500e+01  1.000e+00\n",
      "   0.000e+00  0.000e+00 -7.120e+01  0.000e+00  1.803e+04  1.000e+00\n",
      "   0.000e+00]]\n"
     ]
    }
   ],
   "source": [
    "check_example = X[ 30,:,:]\n",
    "print(\"shape of - check train example - :\", check_example.shape)\n",
    "print(\"check a train example :\", check_example)"
   ]
  },
  {
   "cell_type": "markdown",
   "metadata": {},
   "source": [
    "### 4.4 Normalize input data"
   ]
  },
  {
   "cell_type": "code",
   "execution_count": null,
   "metadata": {},
   "outputs": [],
   "source": []
  },
  {
   "cell_type": "code",
   "execution_count": 14,
   "metadata": {},
   "outputs": [
    {
     "name": "stdout",
     "output_type": "stream",
     "text": [
      "X example: [[  0.   0.   0.   0.   0.   0.   0.   0.   0. 900.]\n",
      " [  0.   0.   0.   0.   0.   0.   0. 226.   0. 674.]\n",
      " [  0.   0.   0.   0.   0.   0.   0. 586.   0. 315.]\n",
      " [  0.   0.   0.   0.   0.   0.   0. 699.   0. 201.]]\n",
      "X example after norm: [[0.         0.         0.         0.         0.         0.\n",
      "  0.         0.         0.         0.42754565]\n",
      " [0.         0.         0.         0.         0.         0.\n",
      "  0.         0.08633636 0.         0.25748102]\n",
      " [0.         0.         0.         0.         0.         0.\n",
      "  0.         0.15149861 0.         0.08143697]\n",
      " [0.         0.         0.         0.         0.         0.\n",
      "  0.         0.14919432 0.         0.04290137]]\n"
     ]
    }
   ],
   "source": [
    "X = X.astype(float)\n",
    "print(\"X example:\",X[ 0,:,0:10])\n",
    "\n",
    "X= normalize(X,axis=-1,order=2)\n",
    "print(\"X example after norm:\",X[0,:,0:10])"
   ]
  },
  {
   "cell_type": "markdown",
   "metadata": {},
   "source": [
    "### 4.5 \"One Hot\" for Y labels"
   ]
  },
  {
   "cell_type": "code",
   "execution_count": 15,
   "metadata": {},
   "outputs": [
    {
     "name": "stdout",
     "output_type": "stream",
     "text": [
      "[[7.]]\n",
      "Shape of Y_one_hot: (11710, 14)\n",
      "Y_one_hot first rows: [[0. 0. 0. 0. 0. 0. 0. 1. 0. 0. 0. 0. 0. 0.]]\n"
     ]
    }
   ],
   "source": [
    "from keras.utils import to_categorical\n",
    "print(Y[0:1,:])\n",
    "Y_one_hot = to_categorical(Y)\n",
    "\n",
    "print(\"Shape of Y_one_hot:\", Y_one_hot.shape)\n",
    "print(\"Y_one_hot first rows:\", Y_one_hot[0:1,:])"
   ]
  },
  {
   "cell_type": "markdown",
   "metadata": {},
   "source": [
    "### 4.6 Split between Train and Test sets"
   ]
  },
  {
   "cell_type": "code",
   "execution_count": 16,
   "metadata": {},
   "outputs": [
    {
     "name": "stdout",
     "output_type": "stream",
     "text": [
      "Shape of X (11710, 4, 43)\n",
      "Shape of Y (11710, 1)\n",
      "Shape of X_train (9368, 4, 43)\n",
      "Shape of Y_train (9368, 14)\n",
      "Shape of X_test (2342, 4, 43)\n",
      "Shape of Y_test (2342, 14)\n"
     ]
    }
   ],
   "source": [
    "\n",
    "from sklearn.model_selection import train_test_split\n",
    "\n",
    "print(\"Shape of X\", X.shape)\n",
    "print(\"Shape of Y\", Y.shape)\n",
    "\n",
    "X_train, X_test, Y_train, Y_test = train_test_split(X, Y_one_hot, test_size=0.2, random_state=None)\n",
    "print(\"Shape of X_train\",X_train.shape)\n",
    "print(\"Shape of Y_train\",Y_train.shape)\n",
    "\n",
    "print(\"Shape of X_test\",X_test.shape)\n",
    "print(\"Shape of Y_test\",Y_test.shape)\n",
    "\n",
    "m_train=len(Y_train)\n",
    "m_test=len(Y_test)\n",
    "\n"
   ]
  },
  {
   "cell_type": "markdown",
   "metadata": {},
   "source": [
    "## 5. Create and Train Model"
   ]
  },
  {
   "cell_type": "markdown",
   "metadata": {},
   "source": [
    "### 5.1 Model Options"
   ]
  },
  {
   "cell_type": "markdown",
   "metadata": {},
   "source": [
    "#### 5.1.1 Function ACM model Option # 1"
   ]
  },
  {
   "cell_type": "code",
   "execution_count": 17,
   "metadata": {},
   "outputs": [],
   "source": [
    "def ACM_model_1(input_shape, classes):\n",
    "    # Define the input placeholder as a tensor with shape input_shape.\n",
    "    X_input = Input(input_shape)\n",
    "\n",
    "    \n",
    "    X = Flatten()(X_input)\n",
    "    X = Dense(100, activation='relu', name='fc1')(X)\n",
    "    #X = BatchNormalization()(X)\n",
    "    X = Dense(100, activation='relu', name='fc2')(X)\n",
    "    X = Dense(100, activation='relu', name='fc3')(X)\n",
    "    X = Dense(50, activation='relu', name='fc4')(X)\n",
    "    X = Dense(25, activation='relu', name='fc5')(X)\n",
    "    \n",
    "    X = Dense(classes, activation='softmax', name='fcfinal')(X)\n",
    "\n",
    "    # Create model. This creates your Keras model instance, you'll use this instance to train/test the model.\n",
    "    model = Model(inputs = X_input, outputs = X, name='ACM_model_1')\n",
    "\n",
    "    return model"
   ]
  },
  {
   "cell_type": "markdown",
   "metadata": {},
   "source": [
    "#### 5.1.2 Function ACM model Option # 2"
   ]
  },
  {
   "cell_type": "code",
   "execution_count": 18,
   "metadata": {},
   "outputs": [],
   "source": [
    "\n",
    "\n",
    "def ACM_model_2(input_shape, classes):\n",
    "\n",
    "    \n",
    "    model = Sequential()\n",
    "    # Channels first due to kernel size\n",
    "    model.add(Conv1D(filters=100, kernel_size=7, activation='relu', input_shape=(input_shape), data_format='channels_first'))\n",
    "    # Permute\n",
    "    model.add(Permute((2, 1)))\n",
    "    model.add(Conv1D(filters=100, kernel_size=5, activation='relu'))\n",
    "    model.add(Conv1D(filters=100, kernel_size=3, activation='relu'))\n",
    "    \n",
    "    model.add(MaxPooling1D(pool_size=5))\n",
    " \n",
    "    model.add(Flatten())\n",
    "    model.add(Dense(100, activation='relu'))\n",
    "    model.add(Dense(classes, activation='softmax'))\n",
    "    \n",
    "    \n",
    "    return model"
   ]
  },
  {
   "cell_type": "markdown",
   "metadata": {},
   "source": [
    "#### 5.1.3 Function ACM model Option # 3"
   ]
  },
  {
   "cell_type": "code",
   "execution_count": 19,
   "metadata": {},
   "outputs": [],
   "source": [
    "\n",
    "def ACM_model_3(input_shape, classes):\n",
    "\n",
    "    model = Sequential()\n",
    "    model.add(Conv1D(filters=400, kernel_size=2, activation='relu', input_shape=(input_shape)))\n",
    "    model.add(Conv1D(filters=400, kernel_size=2, activation='relu'))\n",
    "    model.add(Conv1D(filters=400, kernel_size=2, activation='relu'))\n",
    "    #model.add(Dropout(0.5))\n",
    "    #model.add(MaxPooling1D(pool_size=2))\n",
    "    model.add(Flatten())\n",
    "    model.add(Dense(100, activation='relu'))\n",
    "    model.add(Dense(classes, activation='softmax'))\n",
    "\n",
    "    return model\n"
   ]
  },
  {
   "cell_type": "markdown",
   "metadata": {},
   "source": [
    "### 5.2 Create the model (Choose model from one of functions above)"
   ]
  },
  {
   "cell_type": "code",
   "execution_count": 20,
   "metadata": {},
   "outputs": [
    {
     "name": "stdout",
     "output_type": "stream",
     "text": [
      "WARNING:tensorflow:From C:\\Users\\glenn\\Anaconda3\\envs\\tensorflow\\lib\\site-packages\\tensorflow\\python\\framework\\op_def_library.py:263: colocate_with (from tensorflow.python.framework.ops) is deprecated and will be removed in a future version.\n",
      "Instructions for updating:\n",
      "Colocations handled automatically by placer.\n"
     ]
    }
   ],
   "source": [
    "acm_model=ACM_model_3((4,43),14) # input_shape and classes"
   ]
  },
  {
   "cell_type": "markdown",
   "metadata": {},
   "source": [
    "### 5.3 Compile the model"
   ]
  },
  {
   "cell_type": "code",
   "execution_count": 21,
   "metadata": {},
   "outputs": [],
   "source": [
    "acm_model.compile(optimizer = \"Adam\", loss = \"categorical_crossentropy\", metrics = [\"accuracy\"])"
   ]
  },
  {
   "cell_type": "markdown",
   "metadata": {},
   "source": [
    "### 5.4 Train the model"
   ]
  },
  {
   "cell_type": "code",
   "execution_count": 22,
   "metadata": {
    "scrolled": true
   },
   "outputs": [
    {
     "name": "stdout",
     "output_type": "stream",
     "text": [
      "WARNING:tensorflow:From C:\\Users\\glenn\\Anaconda3\\envs\\tensorflow\\lib\\site-packages\\tensorflow\\python\\ops\\math_ops.py:3066: to_int32 (from tensorflow.python.ops.math_ops) is deprecated and will be removed in a future version.\n",
      "Instructions for updating:\n",
      "Use tf.cast instead.\n",
      "Train on 9368 samples, validate on 2342 samples\n",
      "Epoch 1/30\n",
      "9368/9368 [==============================] - 15s 2ms/step - loss: 0.9955 - acc: 0.6992 - val_loss: 0.7776 - val_acc: 0.7519\n",
      "Epoch 2/30\n",
      "9368/9368 [==============================] - 14s 1ms/step - loss: 0.6517 - acc: 0.7717 - val_loss: 0.5729 - val_acc: 0.8164\n",
      "Epoch 3/30\n",
      "9368/9368 [==============================] - 14s 1ms/step - loss: 0.5004 - acc: 0.8158 - val_loss: 0.5797 - val_acc: 0.7771\n",
      "Epoch 4/30\n",
      "9368/9368 [==============================] - 13s 1ms/step - loss: 0.4742 - acc: 0.8190 - val_loss: 0.4093 - val_acc: 0.8531\n",
      "Epoch 5/30\n",
      "9368/9368 [==============================] - 13s 1ms/step - loss: 0.3893 - acc: 0.8511 - val_loss: 0.4298 - val_acc: 0.8518\n",
      "Epoch 6/30\n",
      "9368/9368 [==============================] - 13s 1ms/step - loss: 0.3651 - acc: 0.8565 - val_loss: 0.3930 - val_acc: 0.8646\n",
      "Epoch 7/30\n",
      "9368/9368 [==============================] - 13s 1ms/step - loss: 0.3301 - acc: 0.8703 - val_loss: 0.3741 - val_acc: 0.8651\n",
      "Epoch 8/30\n",
      "9368/9368 [==============================] - 13s 1ms/step - loss: 0.3116 - acc: 0.8784 - val_loss: 0.3241 - val_acc: 0.8950\n",
      "Epoch 9/30\n",
      "9368/9368 [==============================] - 13s 1ms/step - loss: 0.3025 - acc: 0.8810 - val_loss: 0.3290 - val_acc: 0.8911\n",
      "Epoch 10/30\n",
      "9368/9368 [==============================] - 13s 1ms/step - loss: 0.2776 - acc: 0.8934 - val_loss: 0.3048 - val_acc: 0.8984\n",
      "Epoch 11/30\n",
      "9368/9368 [==============================] - 13s 1ms/step - loss: 0.2651 - acc: 0.8928 - val_loss: 0.3104 - val_acc: 0.8894\n",
      "Epoch 12/30\n",
      "9368/9368 [==============================] - 13s 1ms/step - loss: 0.2909 - acc: 0.8870 - val_loss: 0.2946 - val_acc: 0.8971\n",
      "Epoch 13/30\n",
      "9368/9368 [==============================] - 13s 1ms/step - loss: 0.2393 - acc: 0.9058 - val_loss: 0.3222 - val_acc: 0.8928\n",
      "Epoch 14/30\n",
      "9368/9368 [==============================] - 12s 1ms/step - loss: 0.2321 - acc: 0.9109 - val_loss: 0.3243 - val_acc: 0.8988\n",
      "Epoch 15/30\n",
      "9368/9368 [==============================] - 12s 1ms/step - loss: 0.2270 - acc: 0.9114 - val_loss: 0.2899 - val_acc: 0.9120\n",
      "Epoch 16/30\n",
      "9368/9368 [==============================] - 13s 1ms/step - loss: 0.2273 - acc: 0.9084 - val_loss: 0.3281 - val_acc: 0.9035\n",
      "Epoch 17/30\n",
      "9368/9368 [==============================] - 13s 1ms/step - loss: 0.2162 - acc: 0.9144 - val_loss: 0.3271 - val_acc: 0.8847\n",
      "Epoch 18/30\n",
      "9368/9368 [==============================] - 13s 1ms/step - loss: 0.2199 - acc: 0.9107 - val_loss: 0.3016 - val_acc: 0.9039\n",
      "Epoch 19/30\n",
      "9368/9368 [==============================] - 12s 1ms/step - loss: 0.1917 - acc: 0.9223 - val_loss: 0.3221 - val_acc: 0.8980\n",
      "Epoch 20/30\n",
      "9368/9368 [==============================] - 12s 1ms/step - loss: 0.1938 - acc: 0.9247 - val_loss: 0.3206 - val_acc: 0.9018\n",
      "Epoch 21/30\n",
      "9368/9368 [==============================] - 13s 1ms/step - loss: 0.1945 - acc: 0.9188 - val_loss: 0.3309 - val_acc: 0.8898\n",
      "Epoch 22/30\n",
      "9368/9368 [==============================] - 13s 1ms/step - loss: 0.1890 - acc: 0.9224 - val_loss: 0.3158 - val_acc: 0.8992\n",
      "Epoch 23/30\n",
      "9368/9368 [==============================] - 13s 1ms/step - loss: 0.1763 - acc: 0.9347 - val_loss: 0.2765 - val_acc: 0.9214\n",
      "Epoch 24/30\n",
      "9368/9368 [==============================] - 13s 1ms/step - loss: 0.1842 - acc: 0.9283 - val_loss: 0.2808 - val_acc: 0.9189\n",
      "Epoch 25/30\n",
      "9368/9368 [==============================] - 12s 1ms/step - loss: 0.1939 - acc: 0.9275 - val_loss: 0.2688 - val_acc: 0.9244\n",
      "Epoch 26/30\n",
      "9368/9368 [==============================] - 12s 1ms/step - loss: 0.1767 - acc: 0.9300 - val_loss: 0.3501 - val_acc: 0.8997\n",
      "Epoch 27/30\n",
      "9368/9368 [==============================] - 13s 1ms/step - loss: 0.1896 - acc: 0.9236 - val_loss: 0.3195 - val_acc: 0.9061\n",
      "Epoch 28/30\n",
      "9368/9368 [==============================] - 12s 1ms/step - loss: 0.1684 - acc: 0.9355 - val_loss: 0.4483 - val_acc: 0.8920\n",
      "Epoch 29/30\n",
      "9368/9368 [==============================] - 12s 1ms/step - loss: 0.1750 - acc: 0.9361 - val_loss: 0.2788 - val_acc: 0.9219\n",
      "Epoch 30/30\n",
      "9368/9368 [==============================] - 12s 1ms/step - loss: 0.1641 - acc: 0.9373 - val_loss: 0.2946 - val_acc: 0.9197\n"
     ]
    },
    {
     "data": {
      "text/plain": [
       "<keras.callbacks.History at 0x249195ae6a0>"
      ]
     },
     "execution_count": 22,
     "metadata": {},
     "output_type": "execute_result"
    }
   ],
   "source": [
    "acm_model.fit(x = X_train, y = Y_train, epochs = 30, batch_size = 64, validation_data=(X_test,Y_test))"
   ]
  },
  {
   "cell_type": "markdown",
   "metadata": {},
   "source": [
    "batch_size = 128\n",
    "epochs = 10\n",
    "acm_model.fit(X_train, Y_train,\n",
    "          batch_size=batch_size,\n",
    "          epochs=epochs,\n",
    "          verbose=1,\n",
    "          validation_data=(X_test, Y_test))\n",
    "          \n",
    "model.summary()"
   ]
  },
  {
   "cell_type": "markdown",
   "metadata": {},
   "source": [
    "### 5.5 Model Summary"
   ]
  },
  {
   "cell_type": "code",
   "execution_count": 23,
   "metadata": {},
   "outputs": [
    {
     "name": "stdout",
     "output_type": "stream",
     "text": [
      "_________________________________________________________________\n",
      "Layer (type)                 Output Shape              Param #   \n",
      "=================================================================\n",
      "conv1d_1 (Conv1D)            (None, 3, 400)            34800     \n",
      "_________________________________________________________________\n",
      "conv1d_2 (Conv1D)            (None, 2, 400)            320400    \n",
      "_________________________________________________________________\n",
      "conv1d_3 (Conv1D)            (None, 1, 400)            320400    \n",
      "_________________________________________________________________\n",
      "flatten_1 (Flatten)          (None, 400)               0         \n",
      "_________________________________________________________________\n",
      "dense_1 (Dense)              (None, 100)               40100     \n",
      "_________________________________________________________________\n",
      "dense_2 (Dense)              (None, 14)                1414      \n",
      "=================================================================\n",
      "Total params: 717,114\n",
      "Trainable params: 717,114\n",
      "Non-trainable params: 0\n",
      "_________________________________________________________________\n"
     ]
    }
   ],
   "source": [
    "acm_model.summary()"
   ]
  },
  {
   "cell_type": "markdown",
   "metadata": {},
   "source": [
    "### 5.6 Accuracy on Test data"
   ]
  },
  {
   "cell_type": "code",
   "execution_count": 24,
   "metadata": {},
   "outputs": [
    {
     "name": "stdout",
     "output_type": "stream",
     "text": [
      "2342/2342 [==============================] - 1s 560us/step\n",
      "\n",
      "Loss = 0.29464542577528324\n",
      "Test Accuracy = 0.9197267292912041\n"
     ]
    }
   ],
   "source": [
    "preds = acm_model.evaluate(x=X_test, y=Y_test)\n",
    "\n",
    "print()\n",
    "print(\"Loss = \" + str(preds[0]))\n",
    "print(\"Test Accuracy = \" + str(preds[1]))"
   ]
  },
  {
   "cell_type": "markdown",
   "metadata": {},
   "source": [
    "### 5.7 Predict on Test data"
   ]
  },
  {
   "cell_type": "code",
   "execution_count": 25,
   "metadata": {
    "scrolled": true
   },
   "outputs": [
    {
     "name": "stdout",
     "output_type": "stream",
     "text": [
      "Shape of X_test: (2342, 4, 43)\n",
      "Shape of Y_predict: (2342,)\n",
      "Shape of Y_test: (2342, 14)\n",
      "Shape of Y_test (back from one-hot): (2342,)\n"
     ]
    }
   ],
   "source": [
    "# Predict on test set (X_test)\n",
    "print(\"Shape of X_test:\", X_test.shape)\n",
    "\n",
    "Y_predict = acm_model.predict_classes(X_test)\n",
    "\n",
    "print(\"Shape of Y_predict:\", Y_predict.shape)\n",
    "print(\"Shape of Y_test:\", Y_test.shape)\n",
    "\n",
    "# Convert back from one hot to single integer\n",
    "Y_test = Y_test.argmax(axis=1)\n",
    "print(\"Shape of Y_test (back from one-hot):\", Y_test.shape)"
   ]
  },
  {
   "cell_type": "markdown",
   "metadata": {},
   "source": [
    "## 6. View Cofusion Matrix on Test data\n",
    "\n",
    "This is to see true preformance and to figure out how we can optimize training"
   ]
  },
  {
   "cell_type": "code",
   "execution_count": 26,
   "metadata": {},
   "outputs": [],
   "source": [
    "import matplotlib.pyplot as plt\n",
    "\n",
    "from sklearn.metrics import confusion_matrix\n",
    "from sklearn.utils.multiclass import unique_labels"
   ]
  },
  {
   "cell_type": "code",
   "execution_count": 27,
   "metadata": {},
   "outputs": [],
   "source": [
    "def plot_confusion_matrix(y_true, y_pred, classes,\n",
    "                          normalize=True,\n",
    "                          title=None,\n",
    "                          cmap=plt.cm.Blues):\n",
    "    \"\"\"\n",
    "    This function prints and plots the confusion matrix.\n",
    "    Normalization can be applied by setting `normalize=True`.\n",
    "    \"\"\"\n",
    "    if not title:\n",
    "        if normalize:\n",
    "            title = 'Normalized confusion matrix'\n",
    "        else:\n",
    "            title = 'Confusion matrix, without normalization'\n",
    "\n",
    "    # Compute confusion matrix\n",
    "    cm = confusion_matrix(y_true, y_pred)\n",
    "    # Only use the labels that appear in the data\n",
    "    classes = classes[unique_labels(y_true, y_pred)]\n",
    "    if normalize:\n",
    "        cm = cm.astype('float') / cm.sum(axis=1)[:, np.newaxis]\n",
    "        print(\"Normalized confusion matrix\")\n",
    "    else:\n",
    "        print('Confusion matrix, without normalization')\n",
    "\n",
    "    print(cm)\n",
    "\n",
    "    fig, ax = plt.subplots()\n",
    "    im = ax.imshow(cm, interpolation='nearest', cmap=cmap)\n",
    "    ax.figure.colorbar(im, ax=ax)\n",
    "    # We want to show all ticks...\n",
    "    ax.set(xticks=np.arange(cm.shape[1]),\n",
    "           yticks=np.arange(cm.shape[0]),\n",
    "           # ... and label them with the respective list entries\n",
    "           xticklabels=classes, yticklabels=classes,\n",
    "           title=title,\n",
    "           ylabel='True label',\n",
    "           xlabel='Predicted label')\n",
    "\n",
    "    # Rotate the tick labels and set their alignment.\n",
    "    plt.setp(ax.get_xticklabels(), rotation=45, ha=\"right\",\n",
    "             rotation_mode=\"anchor\")\n",
    "\n",
    "    # Loop over data dimensions and create text annotations.\n",
    "    fmt = '.2f' if normalize else 'd'\n",
    "    thresh = cm.max() / 2.\n",
    "    for i in range(cm.shape[0]):\n",
    "        for j in range(cm.shape[1]):\n",
    "            ax.text(j, i, format(cm[i, j], fmt),\n",
    "                    ha=\"center\", va=\"center\",\n",
    "                    color=\"white\" if cm[i, j] > thresh else \"black\")\n",
    "    fig.tight_layout()\n",
    "    return ax\n"
   ]
  },
  {
   "cell_type": "code",
   "execution_count": 28,
   "metadata": {
    "scrolled": true
   },
   "outputs": [
    {
     "name": "stdout",
     "output_type": "stream",
     "text": [
      "Unique labels are: [ 0.  1.  2.  3.  4.  5.  6.  7.  8.  9. 10. 11. 12. 13.]\n",
      "Confusion matrix, without normalization\n",
      "[[1201    1    0    0    6    2   37    6    1    1    0    2    2    0]\n",
      " [   0   70    0    0    0    0    0    1    1    0    1    0    0    0]\n",
      " [   0    2    0    0    0    0    0    0    0    0    0    0    0    0]\n",
      " [   0    0    0   28    0    0    0    1    0    0    0    0    0    0]\n",
      " [  10    1    0    0  166    0    1    6    1    5    0    3    0    0]\n",
      " [   2    0    0    0    0   25    0    1    0    0    0    0    0    0]\n",
      " [  39    0    0    0    2    0  353    1    2    0    0    0    0    0]\n",
      " [   2    0    0    0    1    0    3  162    0    0    0    0    0    0]\n",
      " [   1    1    0    0    0    0    8    0   16    2    0    0    0    0]\n",
      " [   4    0    0    0    2    0    0    0    0   15    0    0    0    0]\n",
      " [   0    3    0    0    0    0    0    2    3    1   12    0    0    0]\n",
      " [   2    0    0    0    2    0    0    2    0    0    0   43    0    0]\n",
      " [   1    0    0    0    1    0    0    0    0    0    0    6   34    0]\n",
      " [   0    0    0    0    0    0    0    2    0    0    1    0    0   29]]\n",
      "Normalized confusion matrix\n",
      "[[9.53931692e-01 7.94281176e-04 0.00000000e+00 0.00000000e+00\n",
      "  4.76568705e-03 1.58856235e-03 2.93884035e-02 4.76568705e-03\n",
      "  7.94281176e-04 7.94281176e-04 0.00000000e+00 1.58856235e-03\n",
      "  1.58856235e-03 0.00000000e+00]\n",
      " [0.00000000e+00 9.58904110e-01 0.00000000e+00 0.00000000e+00\n",
      "  0.00000000e+00 0.00000000e+00 0.00000000e+00 1.36986301e-02\n",
      "  1.36986301e-02 0.00000000e+00 1.36986301e-02 0.00000000e+00\n",
      "  0.00000000e+00 0.00000000e+00]\n",
      " [0.00000000e+00 1.00000000e+00 0.00000000e+00 0.00000000e+00\n",
      "  0.00000000e+00 0.00000000e+00 0.00000000e+00 0.00000000e+00\n",
      "  0.00000000e+00 0.00000000e+00 0.00000000e+00 0.00000000e+00\n",
      "  0.00000000e+00 0.00000000e+00]\n",
      " [0.00000000e+00 0.00000000e+00 0.00000000e+00 9.65517241e-01\n",
      "  0.00000000e+00 0.00000000e+00 0.00000000e+00 3.44827586e-02\n",
      "  0.00000000e+00 0.00000000e+00 0.00000000e+00 0.00000000e+00\n",
      "  0.00000000e+00 0.00000000e+00]\n",
      " [5.18134715e-02 5.18134715e-03 0.00000000e+00 0.00000000e+00\n",
      "  8.60103627e-01 0.00000000e+00 5.18134715e-03 3.10880829e-02\n",
      "  5.18134715e-03 2.59067358e-02 0.00000000e+00 1.55440415e-02\n",
      "  0.00000000e+00 0.00000000e+00]\n",
      " [7.14285714e-02 0.00000000e+00 0.00000000e+00 0.00000000e+00\n",
      "  0.00000000e+00 8.92857143e-01 0.00000000e+00 3.57142857e-02\n",
      "  0.00000000e+00 0.00000000e+00 0.00000000e+00 0.00000000e+00\n",
      "  0.00000000e+00 0.00000000e+00]\n",
      " [9.82367758e-02 0.00000000e+00 0.00000000e+00 0.00000000e+00\n",
      "  5.03778338e-03 0.00000000e+00 8.89168766e-01 2.51889169e-03\n",
      "  5.03778338e-03 0.00000000e+00 0.00000000e+00 0.00000000e+00\n",
      "  0.00000000e+00 0.00000000e+00]\n",
      " [1.19047619e-02 0.00000000e+00 0.00000000e+00 0.00000000e+00\n",
      "  5.95238095e-03 0.00000000e+00 1.78571429e-02 9.64285714e-01\n",
      "  0.00000000e+00 0.00000000e+00 0.00000000e+00 0.00000000e+00\n",
      "  0.00000000e+00 0.00000000e+00]\n",
      " [3.57142857e-02 3.57142857e-02 0.00000000e+00 0.00000000e+00\n",
      "  0.00000000e+00 0.00000000e+00 2.85714286e-01 0.00000000e+00\n",
      "  5.71428571e-01 7.14285714e-02 0.00000000e+00 0.00000000e+00\n",
      "  0.00000000e+00 0.00000000e+00]\n",
      " [1.90476190e-01 0.00000000e+00 0.00000000e+00 0.00000000e+00\n",
      "  9.52380952e-02 0.00000000e+00 0.00000000e+00 0.00000000e+00\n",
      "  0.00000000e+00 7.14285714e-01 0.00000000e+00 0.00000000e+00\n",
      "  0.00000000e+00 0.00000000e+00]\n",
      " [0.00000000e+00 1.42857143e-01 0.00000000e+00 0.00000000e+00\n",
      "  0.00000000e+00 0.00000000e+00 0.00000000e+00 9.52380952e-02\n",
      "  1.42857143e-01 4.76190476e-02 5.71428571e-01 0.00000000e+00\n",
      "  0.00000000e+00 0.00000000e+00]\n",
      " [4.08163265e-02 0.00000000e+00 0.00000000e+00 0.00000000e+00\n",
      "  4.08163265e-02 0.00000000e+00 0.00000000e+00 4.08163265e-02\n",
      "  0.00000000e+00 0.00000000e+00 0.00000000e+00 8.77551020e-01\n",
      "  0.00000000e+00 0.00000000e+00]\n",
      " [2.38095238e-02 0.00000000e+00 0.00000000e+00 0.00000000e+00\n",
      "  2.38095238e-02 0.00000000e+00 0.00000000e+00 0.00000000e+00\n",
      "  0.00000000e+00 0.00000000e+00 0.00000000e+00 1.42857143e-01\n",
      "  8.09523810e-01 0.00000000e+00]\n",
      " [0.00000000e+00 0.00000000e+00 0.00000000e+00 0.00000000e+00\n",
      "  0.00000000e+00 0.00000000e+00 0.00000000e+00 6.25000000e-02\n",
      "  0.00000000e+00 0.00000000e+00 3.12500000e-02 0.00000000e+00\n",
      "  0.00000000e+00 9.06250000e-01]]\n",
      " \n",
      "\n",
      "0\tNo event detected\n",
      "1\tOut of service\n",
      "2\tHW restart\n",
      "3\tStuck on  mod < 4QAM\n",
      "4\tUnstable Ant. support / Wind\n",
      "5\tLOS Flapping\n",
      "6\tLOS or Alignment problem\n",
      "7\tBad LOS or Alignment problem\n",
      "8\tRain\n",
      "9\tRain and wind\n",
      "10\tWet snow\n",
      "11\tHardware Fault/ Interference\n",
      "12\tHardware Fault/ Interference far end\n",
      "13\tNo or limited data\n",
      "\n",
      "\n"
     ]
    },
    {
     "data": {
      "image/png": "[encoded data removed]",
      "text/plain": [
       "<Figure size 432x288 with 2 Axes>"
      ]
     },
     "metadata": {
      "needs_background": "light"
     },
     "output_type": "display_data"
    },
    {
     "data": {
      "image/png": "[encoded data removed]",
      "text/plain": [
       "<Figure size 432x288 with 2 Axes>"
      ]
     },
     "metadata": {
      "needs_background": "light"
     },
     "output_type": "display_data"
    }
   ],
   "source": [
    "U = unique_labels(Y)\n",
    "print(\"Unique labels are:\", U)\n",
    "\n",
    "# Call function to plot confusion matrix\n",
    "plot_confusion_matrix(Y_test, Y_predict,U,normalize=False,title=None,cmap=plt.cm.Blues)\n",
    "plot_confusion_matrix(Y_test, Y_predict,U,normalize=True,title=None,cmap=plt.cm.Blues)\n",
    "\n",
    "print(\"\"\" \n",
    "\n",
    "0\tNo event detected\n",
    "1\tOut of service\n",
    "2\tHW restart\n",
    "3\tStuck on  mod < 4QAM\n",
    "4\tUnstable Ant. support / Wind\n",
    "5\tLOS Flapping\n",
    "6\tLOS or Alignment problem\n",
    "7\tBad LOS or Alignment problem\n",
    "8\tRain\n",
    "9\tRain and wind\n",
    "10\tWet snow\n",
    "11\tHardware Fault/ Interference\n",
    "12\tHardware Fault/ Interference far end\n",
    "13\tNo or limited data\n",
    "\n",
    "\"\"\")\n",
    "\n",
    "\n"
   ]
  },
  {
   "cell_type": "markdown",
   "metadata": {},
   "source": [
    "# Save Model"
   ]
  },
  {
   "cell_type": "code",
   "execution_count": 29,
   "metadata": {},
   "outputs": [],
   "source": [
    "acm_model.save_weights('Eband_Model_weights.h5')\n",
    "\n",
    "acm_model.save ('Eband_Model.h5') # creates a HDF5 file\n"
   ]
  },
  {
   "cell_type": "code",
   "execution_count": null,
   "metadata": {},
   "outputs": [],
   "source": []
  },
  {
   "cell_type": "code",
   "execution_count": null,
   "metadata": {},
   "outputs": [],
   "source": []
  }
 ],
 "metadata": {
  "kernelspec": {
   "display_name": "Python 3",
   "language": "python",
   "name": "python3"
  },
  "language_info": {
   "codemirror_mode": {
    "name": "ipython",
    "version": 3
   },
   "file_extension": ".py",
   "mimetype": "text/x-python",
   "name": "python",
   "nbconvert_exporter": "python",
   "pygments_lexer": "ipython3",
   "version": "3.6.8"
  }
 },
 "nbformat": 4,
 "nbformat_minor": 2
}
