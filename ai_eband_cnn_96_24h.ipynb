{
 "cells": [
  {
   "cell_type": "markdown",
   "metadata": {},
   "source": [
    "# AI E-band Model_CNN_96_24\n",
    "\n",
    "## ConvNet, used to make 24h classification from 15min periods\n",
    "\n",
    "Glenn Landgren\n",
    "https://www.linkedin.com/in/glenn-landgren/\n",
    "\n",
    "\n",
    "\n",
    "## 1. Imports"
   ]
  },
  {
   "cell_type": "code",
   "execution_count": 428,
   "metadata": {},
   "outputs": [],
   "source": [
    "import numpy as np\n",
    "import pandas as pd\n",
    "\n",
    "import sklearn\n",
    "\n",
    "from matplotlib import pyplot\n",
    "\n",
    "from keras.models import Sequential\n",
    "\n",
    "from keras.layers import Dense\n",
    "from keras.layers import Flatten\n",
    "from keras.layers import Dropout\n",
    "from keras.layers import Permute\n",
    "from keras.layers.convolutional import Conv1D\n",
    "from keras.layers.convolutional import MaxPooling1D\n",
    "from keras.utils import to_categorical, normalize\n",
    "from keras.layers import LSTM\n",
    "from keras.layers import TimeDistributed\n",
    "from keras.layers import ConvLSTM2D\n",
    "from keras.layers import Bidirectional\n",
    "\n",
    "from keras.models import Model\n",
    "from keras.layers import Input\n",
    "from keras.layers.merge import concatenate\n",
    "\n",
    "import matplotlib.pyplot as plt\n",
    "import seaborn as sb\n",
    "\n",
    "\n",
    "%matplotlib inline\n",
    "# Set default fig size\n",
    "plt.rcParams[\"figure.figsize\"] = [8, 8]\n"
   ]
  },
  {
   "cell_type": "markdown",
   "metadata": {},
   "source": [
    "## 2. Get train data"
   ]
  },
  {
   "cell_type": "code",
   "execution_count": 429,
   "metadata": {},
   "outputs": [
    {
     "name": "stderr",
     "output_type": "stream",
     "text": [
      "C:\\Users\\glenn\\Anaconda3\\envs\\tensorflow\\lib\\site-packages\\IPython\\core\\interactiveshell.py:3057: DtypeWarning: Columns (47) have mixed types. Specify dtype option on import or set low_memory=False.\n",
      "  interactivity=interactivity, compiler=compiler, result=result)\n"
     ]
    },
    {
     "data": {
      "text/plain": [
       "Index(['NeAlias', 'HalfBPSK_Strong', 'HalfBPSK', 'HalfBPSK_Light',\n",
       "       'BPSK_Strong', 'BPSK', 'BPSK_Light', 'QAM4_Strong', 'QAM4',\n",
       "       'QAM4_Light', 'QAM16_Strong', 'QAM16', 'QAM16_Light', 'QAM32_Strong',\n",
       "       'QAM32', 'QAM32_Light', 'QAM64_Strong', 'QAM64', 'QAM64_Light',\n",
       "       'QAM128_Strong', 'QAM128', 'QAM128_Light', 'QAM256_Strong', 'QAM256',\n",
       "       'QAM256_Light', 'QAM512_Strong', 'QAM512', 'QAM512_Light',\n",
       "       'ModChanges_x', 'ES_x', 'SES_x', 'UAS_x', 'ActualReceived_Level_x',\n",
       "       'ES_y', 'SES_y', 'UAS_y', 'ActualReceived_Level_y', 'ModChanges_y',\n",
       "       'fading_metric', 'sum_errors', 'hw_fault', 'rx_levels_metric',\n",
       "       'ModChanges_metric', 'errors_metric', 'UAS_metric',\n",
       "       'fading_vs_rx_metric', 'Y_15min', 'Y_15min_text', 'Y_24h',\n",
       "       'Y_24h_text'],\n",
       "      dtype='object')"
      ]
     },
     "execution_count": 429,
     "metadata": {},
     "output_type": "execute_result"
    }
   ],
   "source": [
    "eband_dataset = pd.read_csv(\"dataset/sharp_dataset/eband_dataset.csv\")\n",
    "\n",
    "eband_dataset.columns"
   ]
  },
  {
   "cell_type": "markdown",
   "metadata": {},
   "source": [
    "### 2.1 ** Remove classes we do not want to use, i.e. not enough train examples **"
   ]
  },
  {
   "cell_type": "code",
   "execution_count": 430,
   "metadata": {
    "scrolled": true
   },
   "outputs": [
    {
     "name": "stdout",
     "output_type": "stream",
     "text": [
      "(60384, 50)\n",
      "(59424, 50)\n",
      "(55488, 50)\n"
     ]
    }
   ],
   "source": [
    "print(eband_dataset.shape)\n",
    "# Remove class 6\n",
    "eband_dataset = eband_dataset.loc[eband_dataset[\"Y_24h\"] != 6  ]\n",
    "print(eband_dataset.shape)\n",
    "# Remove class 4\n",
    "eband_dataset = eband_dataset.loc[eband_dataset[\"Y_24h\"] != 4  ]\n",
    "print(eband_dataset.shape)\n"
   ]
  },
  {
   "cell_type": "markdown",
   "metadata": {},
   "source": [
    "### 2.2 Visualize data\n",
    "Note, only basic visualization is shown here"
   ]
  },
  {
   "cell_type": "markdown",
   "metadata": {},
   "source": [
    "### 2.2.1 Class disribution"
   ]
  },
  {
   "cell_type": "code",
   "execution_count": 431,
   "metadata": {},
   "outputs": [
    {
     "name": "stdout",
     "output_type": "stream",
     "text": [
      "Number of training examples:  578\n"
     ]
    },
    {
     "data": {
      "text/html": [
       "<div>\n",
       "<style scoped>\n",
       "    .dataframe tbody tr th:only-of-type {\n",
       "        vertical-align: middle;\n",
       "    }\n",
       "\n",
       "    .dataframe tbody tr th {\n",
       "        vertical-align: top;\n",
       "    }\n",
       "\n",
       "    .dataframe thead th {\n",
       "        text-align: right;\n",
       "    }\n",
       "</style>\n",
       "<table border=\"1\" class=\"dataframe\">\n",
       "  <thead>\n",
       "    <tr style=\"text-align: right;\">\n",
       "      <th></th>\n",
       "      <th>Y_24h</th>\n",
       "      <th>Number of train examples</th>\n",
       "      <th>For validation/ test (80/20)</th>\n",
       "      <th>errors_average</th>\n",
       "      <th>UAS_metric_average</th>\n",
       "      <th>fading_metric_average</th>\n",
       "      <th>rx_levels_metric_average</th>\n",
       "    </tr>\n",
       "    <tr>\n",
       "      <th>Y_24h_text</th>\n",
       "      <th></th>\n",
       "      <th></th>\n",
       "      <th></th>\n",
       "      <th></th>\n",
       "      <th></th>\n",
       "      <th></th>\n",
       "      <th></th>\n",
       "    </tr>\n",
       "  </thead>\n",
       "  <tbody>\n",
       "    <tr>\n",
       "      <th>0. OK</th>\n",
       "      <td>0</td>\n",
       "      <td>108</td>\n",
       "      <td>21.6</td>\n",
       "      <td>-0.0</td>\n",
       "      <td>-0.0</td>\n",
       "      <td>0.5</td>\n",
       "      <td>-58.5</td>\n",
       "    </tr>\n",
       "    <tr>\n",
       "      <th>1. Unstable Antenna.</th>\n",
       "      <td>1</td>\n",
       "      <td>100</td>\n",
       "      <td>20.0</td>\n",
       "      <td>16.5</td>\n",
       "      <td>2.2</td>\n",
       "      <td>411.3</td>\n",
       "      <td>-61.6</td>\n",
       "    </tr>\n",
       "    <tr>\n",
       "      <th>2. Rain and Wet Snow.</th>\n",
       "      <td>2</td>\n",
       "      <td>54</td>\n",
       "      <td>10.8</td>\n",
       "      <td>2.3</td>\n",
       "      <td>7.7</td>\n",
       "      <td>522.4</td>\n",
       "      <td>-66.0</td>\n",
       "    </tr>\n",
       "    <tr>\n",
       "      <th>3. Affected by Rain.</th>\n",
       "      <td>3</td>\n",
       "      <td>71</td>\n",
       "      <td>14.2</td>\n",
       "      <td>0.2</td>\n",
       "      <td>1.3</td>\n",
       "      <td>58.9</td>\n",
       "      <td>-64.4</td>\n",
       "    </tr>\n",
       "    <tr>\n",
       "      <th>5. Serious LOS or Alignment problem.</th>\n",
       "      <td>5</td>\n",
       "      <td>48</td>\n",
       "      <td>9.6</td>\n",
       "      <td>0.8</td>\n",
       "      <td>0.1</td>\n",
       "      <td>1140.1</td>\n",
       "      <td>-93.7</td>\n",
       "    </tr>\n",
       "    <tr>\n",
       "      <th>7. Stuck on low modulation.</th>\n",
       "      <td>7</td>\n",
       "      <td>18</td>\n",
       "      <td>3.6</td>\n",
       "      <td>0.0</td>\n",
       "      <td>-0.0</td>\n",
       "      <td>6381.2</td>\n",
       "      <td>-60.1</td>\n",
       "    </tr>\n",
       "    <tr>\n",
       "      <th>8. Equipment problem.</th>\n",
       "      <td>8</td>\n",
       "      <td>53</td>\n",
       "      <td>10.6</td>\n",
       "      <td>22.9</td>\n",
       "      <td>-0.0</td>\n",
       "      <td>-0.1</td>\n",
       "      <td>-57.7</td>\n",
       "    </tr>\n",
       "    <tr>\n",
       "      <th>9. Out of service detected.</th>\n",
       "      <td>9</td>\n",
       "      <td>34</td>\n",
       "      <td>6.8</td>\n",
       "      <td>-1.1</td>\n",
       "      <td>443.3</td>\n",
       "      <td>8290.6</td>\n",
       "      <td>-67.1</td>\n",
       "    </tr>\n",
       "    <tr>\n",
       "      <th>10. Limited data.</th>\n",
       "      <td>10</td>\n",
       "      <td>35</td>\n",
       "      <td>7.0</td>\n",
       "      <td>-0.7</td>\n",
       "      <td>10.3</td>\n",
       "      <td>652.6</td>\n",
       "      <td>-33.2</td>\n",
       "    </tr>\n",
       "    <tr>\n",
       "      <th>11. Hardware restart/ naintenance detected.</th>\n",
       "      <td>11</td>\n",
       "      <td>35</td>\n",
       "      <td>7.0</td>\n",
       "      <td>-0.0</td>\n",
       "      <td>1.1</td>\n",
       "      <td>12.9</td>\n",
       "      <td>-55.1</td>\n",
       "    </tr>\n",
       "    <tr>\n",
       "      <th>12. Stuck on mid modulation.</th>\n",
       "      <td>12</td>\n",
       "      <td>22</td>\n",
       "      <td>4.4</td>\n",
       "      <td>0.0</td>\n",
       "      <td>0.0</td>\n",
       "      <td>533.1</td>\n",
       "      <td>-52.1</td>\n",
       "    </tr>\n",
       "  </tbody>\n",
       "</table>\n",
       "</div>"
      ],
      "text/plain": [
       "                                             Y_24h  Number of train examples  \\\n",
       "Y_24h_text                                                                     \n",
       "0. OK                                            0                       108   \n",
       "1. Unstable Antenna.                             1                       100   \n",
       "2. Rain and Wet Snow.                            2                        54   \n",
       "3. Affected by Rain.                             3                        71   \n",
       "5. Serious LOS or Alignment problem.             5                        48   \n",
       "7. Stuck on low modulation.                      7                        18   \n",
       "8. Equipment problem.                            8                        53   \n",
       "9. Out of service detected.                      9                        34   \n",
       "10. Limited data.                               10                        35   \n",
       "11. Hardware restart/ naintenance detected.     11                        35   \n",
       "12. Stuck on mid modulation.                    12                        22   \n",
       "\n",
       "                                             For validation/ test (80/20)  \\\n",
       "Y_24h_text                                                                  \n",
       "0. OK                                                                21.6   \n",
       "1. Unstable Antenna.                                                 20.0   \n",
       "2. Rain and Wet Snow.                                                10.8   \n",
       "3. Affected by Rain.                                                 14.2   \n",
       "5. Serious LOS or Alignment problem.                                  9.6   \n",
       "7. Stuck on low modulation.                                           3.6   \n",
       "8. Equipment problem.                                                10.6   \n",
       "9. Out of service detected.                                           6.8   \n",
       "10. Limited data.                                                     7.0   \n",
       "11. Hardware restart/ naintenance detected.                           7.0   \n",
       "12. Stuck on mid modulation.                                          4.4   \n",
       "\n",
       "                                             errors_average  \\\n",
       "Y_24h_text                                                    \n",
       "0. OK                                                  -0.0   \n",
       "1. Unstable Antenna.                                   16.5   \n",
       "2. Rain and Wet Snow.                                   2.3   \n",
       "3. Affected by Rain.                                    0.2   \n",
       "5. Serious LOS or Alignment problem.                    0.8   \n",
       "7. Stuck on low modulation.                             0.0   \n",
       "8. Equipment problem.                                  22.9   \n",
       "9. Out of service detected.                            -1.1   \n",
       "10. Limited data.                                      -0.7   \n",
       "11. Hardware restart/ naintenance detected.            -0.0   \n",
       "12. Stuck on mid modulation.                            0.0   \n",
       "\n",
       "                                             UAS_metric_average  \\\n",
       "Y_24h_text                                                        \n",
       "0. OK                                                      -0.0   \n",
       "1. Unstable Antenna.                                        2.2   \n",
       "2. Rain and Wet Snow.                                       7.7   \n",
       "3. Affected by Rain.                                        1.3   \n",
       "5. Serious LOS or Alignment problem.                        0.1   \n",
       "7. Stuck on low modulation.                                -0.0   \n",
       "8. Equipment problem.                                      -0.0   \n",
       "9. Out of service detected.                               443.3   \n",
       "10. Limited data.                                          10.3   \n",
       "11. Hardware restart/ naintenance detected.                 1.1   \n",
       "12. Stuck on mid modulation.                                0.0   \n",
       "\n",
       "                                             fading_metric_average  \\\n",
       "Y_24h_text                                                           \n",
       "0. OK                                                          0.5   \n",
       "1. Unstable Antenna.                                         411.3   \n",
       "2. Rain and Wet Snow.                                        522.4   \n",
       "3. Affected by Rain.                                          58.9   \n",
       "5. Serious LOS or Alignment problem.                        1140.1   \n",
       "7. Stuck on low modulation.                                 6381.2   \n",
       "8. Equipment problem.                                         -0.1   \n",
       "9. Out of service detected.                                 8290.6   \n",
       "10. Limited data.                                            652.6   \n",
       "11. Hardware restart/ naintenance detected.                   12.9   \n",
       "12. Stuck on mid modulation.                                 533.1   \n",
       "\n",
       "                                             rx_levels_metric_average  \n",
       "Y_24h_text                                                             \n",
       "0. OK                                                           -58.5  \n",
       "1. Unstable Antenna.                                            -61.6  \n",
       "2. Rain and Wet Snow.                                           -66.0  \n",
       "3. Affected by Rain.                                            -64.4  \n",
       "5. Serious LOS or Alignment problem.                            -93.7  \n",
       "7. Stuck on low modulation.                                     -60.1  \n",
       "8. Equipment problem.                                           -57.7  \n",
       "9. Out of service detected.                                     -67.1  \n",
       "10. Limited data.                                               -33.2  \n",
       "11. Hardware restart/ naintenance detected.                     -55.1  \n",
       "12. Stuck on mid modulation.                                    -52.1  "
      ]
     },
     "execution_count": 431,
     "metadata": {},
     "output_type": "execute_result"
    }
   ],
   "source": [
    "def class_distr_24_h(input_df):\n",
    "\n",
    "    df = input_df.groupby([\"Y_24h_text\"]).agg( { 'NeAlias': 'count',\n",
    "                \"sum_errors\":\"mean\", \"UAS_metric\": \"mean\", \"fading_metric\":\"mean\",\n",
    "                \"rx_levels_metric\":\"mean\" , \"Y_24h\": \"mean\"} )\n",
    "\n",
    "    df[\"Number of train examples\"] =  df[\"NeAlias\"]//96\n",
    "    df[\"For validation/ test (80/20)\"] =  df[\"Number of train examples\"]*0.2\n",
    "    df[\"errors_average\"] = df[\"sum_errors\"].round(1)\n",
    "    df[\"UAS_metric_average\"] = df[\"UAS_metric\"].round(1)\n",
    "    df[\"fading_metric_average\"] = df[\"fading_metric\"].round(1)\n",
    "    df[\"rx_levels_metric_average\"] = df[\"rx_levels_metric\"].round(1)\n",
    "    \n",
    "    df.drop([\"NeAlias\", \"UAS_metric\", \"sum_errors\", \"fading_metric\", \"rx_levels_metric\"], axis=1, inplace=True)\n",
    "    \n",
    "    df.sort_values(by=\"Y_24h\", inplace=True)\n",
    "    df.reset_index(inplace=True)\n",
    "\n",
    "    df.set_index(\"Y_24h_text\", inplace=True)\n",
    "    \n",
    "    return df\n",
    "\n",
    "\n",
    "# Call function\n",
    "view_class_distr_24h = class_distr_24_h(eband_dataset)\n",
    "print(\"Number of training examples: \", view_class_distr_24h[\"Number of train examples\"].sum())\n",
    "view_class_distr_24h"
   ]
  },
  {
   "cell_type": "markdown",
   "metadata": {},
   "source": [
    "### 2.2.2 Heatmap, Features vs. Label\n",
    "\n",
    "Here you can modify function to view any features you would like"
   ]
  },
  {
   "cell_type": "code",
   "execution_count": 432,
   "metadata": {},
   "outputs": [
    {
     "data": {
      "image/png": "[encoded data removed]",
      "text/plain": [
       "<Figure size 576x576 with 2 Axes>"
      ]
     },
     "metadata": {
      "needs_background": "light"
     },
     "output_type": "display_data"
    }
   ],
   "source": [
    "def heatmap_24h_class(df):\n",
    "    df = df.groupby([\"Y_24h_text\"]).agg({ \n",
    "                'NeAlias': 'count',\n",
    "                \"sum_errors\":\"mean\", \"UAS_metric\": \"mean\",\n",
    "                \"hw_fault\": \"mean\", \"fading_metric\": \"mean\",\n",
    "                'rx_levels_metric':\"mean\" , 'ModChanges_metric': \"mean\", \"fading_vs_rx_metric\" : \"mean\",\n",
    "                'errors_metric':\"mean\", \"UAS_metric\" : \"mean\", 'HalfBPSK_Strong' : \"mean\", 'QAM4': \"mean\",\n",
    "                'QAM16': \"mean\", 'QAM32': \"mean\", 'QAM64': \"mean\", 'QAM128': \"mean\", 'QAM256': \"mean\", \n",
    "                    })\n",
    "\n",
    "    df[\"NeAlias\"] =  df[\"NeAlias\"]/96\n",
    "    df.reset_index(inplace=True)\n",
    "    df.set_index(\"Y_24h_text\", inplace=True)\n",
    "    \n",
    "    # Normalize by column:\n",
    "    df=(df-df.mean())/df.std()\n",
    "    df.drop(\"NeAlias\", axis=1, inplace=True)\n",
    "    \n",
    "    return df\n",
    "\n",
    "heatmap_24h_class = heatmap_24h_class(eband_dataset)\n",
    "\n",
    "heat_map = sb.heatmap(heatmap_24h_class , annot=True)\n",
    "plt.show()"
   ]
  },
  {
   "cell_type": "code",
   "execution_count": 433,
   "metadata": {},
   "outputs": [
    {
     "data": {
      "image/png": "[encoded data removed]",
      "text/plain": [
       "<Figure size 576x576 with 1 Axes>"
      ]
     },
     "metadata": {
      "needs_background": "light"
     },
     "output_type": "display_data"
    }
   ],
   "source": [
    "# Select specific features you would like to see  histograms or density plots for \n",
    "fading_metric = eband_dataset.loc[ eband_dataset[\"fading_metric\"]  > 1  ]\n",
    "fading_metric = fading_metric[\"fading_metric\"]\n",
    "fading_metric.hist()\n",
    "plt.show()"
   ]
  },
  {
   "cell_type": "markdown",
   "metadata": {},
   "source": [
    "## 3. Prepare Dataset, X and Y\n",
    "\n",
    "- X is the matrix of features\n",
    "- Y is a vector of labels (for each train example)\n"
   ]
  },
  {
   "cell_type": "markdown",
   "metadata": {},
   "source": [
    "### 3.1  X_temp\n",
    "- Each row\n",
    "    - ACM modulation in second\n",
    "    - Mod changes\n",
    "    - ES,SES, UAS\n",
    "    - Rx\n",
    "    - Far-End ES,SES, UAS\n",
    "    - Far-End Rx\n",
    "    - Far-End Mod changes"
   ]
  },
  {
   "cell_type": "code",
   "execution_count": 434,
   "metadata": {},
   "outputs": [
    {
     "name": "stdout",
     "output_type": "stream",
     "text": [
      "Shape of X_temp: (55488, 45)\n"
     ]
    }
   ],
   "source": [
    "# Drop columns not used by X train set\n",
    "X_temp = eband_dataset.drop([ \"NeAlias\", 'Y_15min', 'Y_15min_text', 'Y_24h', 'Y_24h_text',], axis=1 )\n",
    "\n",
    "print(\"Shape of X_temp:\", X_temp.shape)\n"
   ]
  },
  {
   "cell_type": "markdown",
   "metadata": {},
   "source": [
    "### 3.2 Y_temp:\n",
    "- Select column with Y label"
   ]
  },
  {
   "cell_type": "code",
   "execution_count": 435,
   "metadata": {},
   "outputs": [
    {
     "name": "stdout",
     "output_type": "stream",
     "text": [
      "shape of Y_temp: (55488,)\n"
     ]
    }
   ],
   "source": [
    "\n",
    "# \"Y 2\" label is the \"24 hour label\"\n",
    "Y_temp = eband_dataset.loc[:, \"Y_24h\"]\n",
    "\n",
    "print(\"shape of Y_temp:\",Y_temp.shape)"
   ]
  },
  {
   "cell_type": "markdown",
   "metadata": {},
   "source": [
    "## 4. Group timeperiods (rows) into training example 3d array X,  and labels Y"
   ]
  },
  {
   "cell_type": "markdown",
   "metadata": {},
   "source": [
    "### 4.1 Function selects the \"LAST\" Y label for grouped sequences"
   ]
  },
  {
   "cell_type": "code",
   "execution_count": 436,
   "metadata": {},
   "outputs": [],
   "source": [
    "def group_time_periods(array, periods):\n",
    "\n",
    "    m = array.shape[0]\n",
    "    m_periods = m//periods\n",
    "    print(\"m is:\", m)\n",
    "    print(\"m_periods is (train ex after grouping):\", m_periods)\n",
    "    Y = np.zeros((m_periods, 1))\n",
    "\n",
    "    for i in range(m_periods):\n",
    "        select_labels =  array[i* periods : i * periods + periods, :]\n",
    "        last_label = select_labels [0-1]\n",
    "        Y[i, :] = last_label\n",
    "        \n",
    "        \n",
    "    return Y"
   ]
  },
  {
   "cell_type": "markdown",
   "metadata": {},
   "source": [
    "### 4.2 Define how many sequence_periods to group into one example"
   ]
  },
  {
   "cell_type": "code",
   "execution_count": 437,
   "metadata": {},
   "outputs": [
    {
     "name": "stdout",
     "output_type": "stream",
     "text": [
      "remainder is : 0\n",
      "shape of X_temp : (55488, 45)\n",
      "shape of X: (578, 96, 45)\n",
      "shape of Y_temp : (55488,)\n",
      "m is: 55488\n",
      "m_periods is (train ex after grouping): 578\n",
      "shape of Y: (578, 1)\n"
     ]
    }
   ],
   "source": [
    "###################################\n",
    "time_periods_to_group = 96 # This is set to 96 if we want one label for 96 timesteps\n",
    "##################################\n",
    "\n",
    "# find remainder, NOTE !!! remainder MUST be ZERO for 24 hour prediction\n",
    "r = X_temp.shape[0] % time_periods_to_group\n",
    "print(\"remainder is :\", r)\n",
    "\n",
    "\n",
    "# will give you a new df without the first rows (if remainder is > 0)\n",
    "X_temp = X_temp.iloc[r:]\n",
    "print(\"shape of X_temp :\", X_temp.shape)\n",
    "# X to numpy array\n",
    "X_temp=X_temp.values\n",
    "#Rearrange X_temp to get a 3D matrix\n",
    "X = X_temp.reshape(X_temp.shape[0] // time_periods_to_group, time_periods_to_group , X_temp.shape[1])\n",
    "print(\"shape of X:\",X.shape)\n",
    "\n",
    "# will give you a new df without the first rows (if remainder is > 0)\n",
    "Y_temp = Y_temp.iloc[r:]\n",
    "print(\"shape of Y_temp :\", Y_temp.shape)\n",
    "# Y to numpy array\n",
    "Y_temp=Y_temp.values\n",
    "Y_temp = Y_temp.reshape(Y_temp.shape[0], 1)\n",
    "# call function above to group labels and select last label in \"group\"\n",
    "Y = group_time_periods(Y_temp, time_periods_to_group)\n",
    "print(\"shape of Y:\", Y.shape)\n"
   ]
  },
  {
   "cell_type": "markdown",
   "metadata": {},
   "source": [
    "### 4.3 Control structure of train examples"
   ]
  },
  {
   "cell_type": "code",
   "execution_count": 438,
   "metadata": {},
   "outputs": [
    {
     "name": "stdout",
     "output_type": "stream",
     "text": [
      "shape of - check train example - : (96, 45)\n"
     ]
    }
   ],
   "source": [
    "check_example = X[ 3,:,:]\n",
    "print(\"shape of - check train example - :\", check_example.shape)\n",
    "# print(\"check a train example :\", check_example)"
   ]
  },
  {
   "cell_type": "markdown",
   "metadata": {},
   "source": [
    "### 4.4 Normalize input data"
   ]
  },
  {
   "cell_type": "code",
   "execution_count": 439,
   "metadata": {},
   "outputs": [],
   "source": [
    "X = X.astype(float)\n",
    "# print(\"X example:\",X[ 0,:,0:10])\n",
    "\n",
    "X= normalize(X,axis=-1,order=2)\n",
    "# print(\"X example after norm:\",X[0,:,0:10])"
   ]
  },
  {
   "cell_type": "markdown",
   "metadata": {},
   "source": [
    "### 4.5 \"One Hot\" for Y labels"
   ]
  },
  {
   "cell_type": "code",
   "execution_count": 440,
   "metadata": {},
   "outputs": [
    {
     "name": "stdout",
     "output_type": "stream",
     "text": [
      "[[5.]]\n",
      "Shape of Y_one_hot: (578, 13)\n",
      "Y_one_hot first rows: [[0. 0. 0. 0. 0. 1. 0. 0. 0. 0. 0. 0. 0.]]\n"
     ]
    }
   ],
   "source": [
    "from keras.utils import to_categorical\n",
    "print(Y[0:1,:])\n",
    "Y_one_hot = to_categorical(Y)\n",
    "\n",
    "print(\"Shape of Y_one_hot:\", Y_one_hot.shape)\n",
    "print(\"Y_one_hot first rows:\", Y_one_hot[0:1,:])"
   ]
  },
  {
   "cell_type": "markdown",
   "metadata": {},
   "source": [
    "### 4.6 Split between Train and Test sets"
   ]
  },
  {
   "cell_type": "code",
   "execution_count": 441,
   "metadata": {},
   "outputs": [
    {
     "name": "stdout",
     "output_type": "stream",
     "text": [
      "Shape of X (578, 96, 45)\n",
      "Shape of Y (578, 1)\n",
      "Shape of X_train (462, 96, 45)\n",
      "Shape of Y_train (462, 13)\n",
      "Shape of X_test (116, 96, 45)\n",
      "Shape of Y_test (116, 13)\n"
     ]
    }
   ],
   "source": [
    "from sklearn.model_selection import train_test_split\n",
    "\n",
    "print(\"Shape of X\", X.shape)\n",
    "print(\"Shape of Y\", Y.shape)\n",
    "\n",
    "X_train, X_test, Y_train, Y_test = train_test_split(X, Y_one_hot, test_size=0.2, random_state=None)\n",
    "print(\"Shape of X_train\",X_train.shape)\n",
    "print(\"Shape of Y_train\",Y_train.shape)\n",
    "\n",
    "print(\"Shape of X_test\",X_test.shape)\n",
    "print(\"Shape of Y_test\",Y_test.shape)\n",
    "\n",
    "m_train=len(Y_train)\n",
    "m_test=len(Y_test)"
   ]
  },
  {
   "cell_type": "markdown",
   "metadata": {},
   "source": [
    "## 5. Create and Train Model"
   ]
  },
  {
   "cell_type": "markdown",
   "metadata": {},
   "source": [
    "### 5.1 Model Options"
   ]
  },
  {
   "cell_type": "markdown",
   "metadata": {},
   "source": [
    "#### 5.1.1 Function ACM model Option # 1\n"
   ]
  },
  {
   "cell_type": "code",
   "execution_count": 442,
   "metadata": {},
   "outputs": [],
   "source": [
    "def ACM_CNN_96_model_1(input_shape, classes):\n",
    "    \n",
    "    model = Sequential()\n",
    "    model.add(Conv1D(filters=64, kernel_size=5, activation='relu', input_shape=(input_shape)))\n",
    "    model.add(Conv1D(filters=64, kernel_size=3, activation='relu'))\n",
    "    model.add(Dropout(0.6))\n",
    "    model.add(MaxPooling1D(pool_size=2))\n",
    "    \n",
    "    #model.add(Conv1D(filters=100, kernel_size=2, activation='relu'))\n",
    "    #model.add(Dropout(0.5))\n",
    "    #model.add(MaxPooling1D(pool_size=2))\n",
    "    \n",
    "    model.add(Dropout(0.6))\n",
    "    \n",
    "    model.add(Flatten())\n",
    "    model.add(Dense(100, activation='relu'))\n",
    "    model.add(Dense(classes, activation='softmax'))\n",
    "\n",
    "    return model\n"
   ]
  },
  {
   "cell_type": "markdown",
   "metadata": {},
   "source": [
    "\n",
    "#### 5.1.2 Function ACM model Option # 2 Multi headed CNN"
   ]
  },
  {
   "cell_type": "code",
   "execution_count": 443,
   "metadata": {},
   "outputs": [],
   "source": [
    "def ACM_CNN_96_model_2(input_shape, classes):\n",
    "    \n",
    "    # head 1\n",
    "    inputs1 = Input(input_shape)\n",
    "    conv1 = Conv1D(filters=64, kernel_size=3, activation='relu')(inputs1)\n",
    "    drop1 = Dropout(0.5)(conv1)\n",
    "    pool1 = MaxPooling1D(pool_size=2)(drop1)\n",
    "    flat1 = Flatten()(pool1)\n",
    "    \n",
    "    # head 2\n",
    "    inputs2 = Input(input_shape)\n",
    "    conv2 = Conv1D(filters=64, kernel_size=5, activation='relu')(inputs2)\n",
    "    drop2 = Dropout(0.5)(conv2)\n",
    "    pool2 = MaxPooling1D(pool_size=2)(drop2)\n",
    "    flat2 = Flatten()(pool2)\n",
    "    \n",
    "    # head 3\n",
    "    inputs3 = Input(input_shape)\n",
    "    conv3 = Conv1D(filters=64, kernel_size=11, activation='relu')(inputs3)\n",
    "    drop3 = Dropout(0.5)(conv3)\n",
    "    pool3 = MaxPooling1D(pool_size=2)(drop3)\n",
    "    flat3 = Flatten()(pool3)\n",
    "    \n",
    "    # merge\n",
    "    merged = concatenate([flat1, flat2, flat3])\n",
    "    \n",
    "    drop_last = Dropout(0.5)(merged)\n",
    "    \n",
    "    # interpretation\n",
    "    dense1 = Dense(100, activation='relu')(drop_last)\n",
    "    outputs = Dense(classes, activation='softmax')(dense1)\n",
    "    \n",
    "    model = Model(inputs=[inputs1, inputs2, inputs3], outputs=outputs, name='ACM_model_multi_head_cnn_96')\n",
    "    \n",
    "    return model"
   ]
  },
  {
   "cell_type": "code",
   "execution_count": 444,
   "metadata": {},
   "outputs": [],
   "source": [
    "# plot_model(model, show_shapes=True, to_file='ACM_model_multi_head_cnn_96.png')"
   ]
  },
  {
   "cell_type": "markdown",
   "metadata": {},
   "source": [
    "### 5.2 Create the model (Choose model from one of functions above)"
   ]
  },
  {
   "cell_type": "code",
   "execution_count": 445,
   "metadata": {},
   "outputs": [],
   "source": [
    "# 1 LSTM and stacked LSTM\n",
    "acm_model = ACM_CNN_96_model_1((96,45),13) # input_shape and classes\n"
   ]
  },
  {
   "cell_type": "markdown",
   "metadata": {},
   "source": [
    "### 5.3 Compile the model"
   ]
  },
  {
   "cell_type": "code",
   "execution_count": 446,
   "metadata": {},
   "outputs": [],
   "source": [
    "acm_model.compile(optimizer = \"Adam\", loss = \"categorical_crossentropy\", metrics = [\"accuracy\"])"
   ]
  },
  {
   "cell_type": "markdown",
   "metadata": {},
   "source": [
    "### 5.4 Train the model"
   ]
  },
  {
   "cell_type": "code",
   "execution_count": 447,
   "metadata": {
    "scrolled": true
   },
   "outputs": [
    {
     "name": "stdout",
     "output_type": "stream",
     "text": [
      "Train on 462 samples, validate on 116 samples\n",
      "Epoch 1/350\n",
      "462/462 [==============================] - 7s 15ms/step - loss: 2.3178 - acc: 0.1710 - val_loss: 2.2243 - val_acc: 0.1638\n",
      "Epoch 2/350\n",
      "462/462 [==============================] - 1s 2ms/step - loss: 2.0948 - acc: 0.2381 - val_loss: 2.0518 - val_acc: 0.2586\n",
      "Epoch 3/350\n",
      "462/462 [==============================] - 1s 2ms/step - loss: 1.9737 - acc: 0.3139 - val_loss: 1.9760 - val_acc: 0.2845\n",
      "Epoch 4/350\n",
      "462/462 [==============================] - 1s 2ms/step - loss: 1.8627 - acc: 0.3333 - val_loss: 1.8769 - val_acc: 0.3448\n",
      "Epoch 5/350\n",
      "462/462 [==============================] - 1s 1ms/step - loss: 1.7158 - acc: 0.4048 - val_loss: 1.8102 - val_acc: 0.2845\n",
      "Epoch 6/350\n",
      "462/462 [==============================] - 1s 2ms/step - loss: 1.6374 - acc: 0.4199 - val_loss: 1.6752 - val_acc: 0.4397\n",
      "Epoch 7/350\n",
      "462/462 [==============================] - 1s 2ms/step - loss: 1.4780 - acc: 0.4848 - val_loss: 1.5314 - val_acc: 0.4914\n",
      "Epoch 8/350\n",
      "462/462 [==============================] - 1s 1ms/step - loss: 1.4348 - acc: 0.5108 - val_loss: 1.5875 - val_acc: 0.5345\n",
      "Epoch 9/350\n",
      "462/462 [==============================] - 1s 2ms/step - loss: 1.3311 - acc: 0.5519 - val_loss: 1.4437 - val_acc: 0.5172\n",
      "Epoch 10/350\n",
      "462/462 [==============================] - 1s 1ms/step - loss: 1.2697 - acc: 0.5693 - val_loss: 1.3954 - val_acc: 0.5345\n",
      "Epoch 11/350\n",
      "462/462 [==============================] - 1s 2ms/step - loss: 1.2761 - acc: 0.5714 - val_loss: 1.4908 - val_acc: 0.5603\n",
      "Epoch 12/350\n",
      "462/462 [==============================] - 1s 2ms/step - loss: 1.2334 - acc: 0.5866 - val_loss: 1.3353 - val_acc: 0.5776\n",
      "Epoch 13/350\n",
      "462/462 [==============================] - 1s 2ms/step - loss: 1.1331 - acc: 0.6212 - val_loss: 1.2659 - val_acc: 0.5776\n",
      "Epoch 14/350\n",
      "462/462 [==============================] - ETA: 0s - loss: 1.0533 - acc: 0.647 - 1s 2ms/step - loss: 1.0560 - acc: 0.6450 - val_loss: 1.3384 - val_acc: 0.6121\n",
      "Epoch 15/350\n",
      "462/462 [==============================] - 1s 2ms/step - loss: 1.0596 - acc: 0.6126 - val_loss: 1.3049 - val_acc: 0.5776\n",
      "Epoch 16/350\n",
      "462/462 [==============================] - 1s 2ms/step - loss: 1.0152 - acc: 0.6472 - val_loss: 1.1947 - val_acc: 0.5776\n",
      "Epoch 17/350\n",
      "462/462 [==============================] - 1s 1ms/step - loss: 0.9129 - acc: 0.6840 - val_loss: 1.1334 - val_acc: 0.6724\n",
      "Epoch 18/350\n",
      "462/462 [==============================] - 1s 2ms/step - loss: 0.9203 - acc: 0.6883 - val_loss: 1.0993 - val_acc: 0.5948\n",
      "Epoch 19/350\n",
      "462/462 [==============================] - 1s 2ms/step - loss: 0.8766 - acc: 0.7013 - val_loss: 1.3733 - val_acc: 0.5776\n",
      "Epoch 20/350\n",
      "462/462 [==============================] - 1s 2ms/step - loss: 0.8868 - acc: 0.6948 - val_loss: 1.0845 - val_acc: 0.6293\n",
      "Epoch 21/350\n",
      "462/462 [==============================] - 1s 1ms/step - loss: 0.8612 - acc: 0.6948 - val_loss: 1.1396 - val_acc: 0.6207\n",
      "Epoch 22/350\n",
      "462/462 [==============================] - 1s 1ms/step - loss: 0.8418 - acc: 0.7251 - val_loss: 1.0155 - val_acc: 0.6638\n",
      "Epoch 23/350\n",
      "462/462 [==============================] - 1s 2ms/step - loss: 0.8821 - acc: 0.6926 - val_loss: 1.0528 - val_acc: 0.6293\n",
      "Epoch 24/350\n",
      "462/462 [==============================] - 1s 1ms/step - loss: 0.8000 - acc: 0.7273 - val_loss: 1.0018 - val_acc: 0.6552\n",
      "Epoch 25/350\n",
      "462/462 [==============================] - 1s 1ms/step - loss: 0.7720 - acc: 0.7316 - val_loss: 1.0513 - val_acc: 0.6724\n",
      "Epoch 26/350\n",
      "462/462 [==============================] - 1s 1ms/step - loss: 0.7271 - acc: 0.7446 - val_loss: 0.9877 - val_acc: 0.6379\n",
      "Epoch 27/350\n",
      "462/462 [==============================] - 1s 1ms/step - loss: 0.7596 - acc: 0.7446 - val_loss: 0.9558 - val_acc: 0.6552\n",
      "Epoch 28/350\n",
      "462/462 [==============================] - 1s 2ms/step - loss: 0.7566 - acc: 0.7338 - val_loss: 1.1164 - val_acc: 0.6121\n",
      "Epoch 29/350\n",
      "462/462 [==============================] - 1s 1ms/step - loss: 0.7636 - acc: 0.7489 - val_loss: 1.0726 - val_acc: 0.5603\n",
      "Epoch 30/350\n",
      "462/462 [==============================] - 1s 1ms/step - loss: 0.7006 - acc: 0.7532 - val_loss: 0.9788 - val_acc: 0.6552\n",
      "Epoch 31/350\n",
      "462/462 [==============================] - 1s 1ms/step - loss: 0.6447 - acc: 0.7792 - val_loss: 0.9309 - val_acc: 0.6897\n",
      "Epoch 32/350\n",
      "462/462 [==============================] - 1s 2ms/step - loss: 0.6395 - acc: 0.7706 - val_loss: 0.9080 - val_acc: 0.6983\n",
      "Epoch 33/350\n",
      "462/462 [==============================] - 1s 1ms/step - loss: 0.6193 - acc: 0.7814 - val_loss: 0.9246 - val_acc: 0.6897\n",
      "Epoch 34/350\n",
      "462/462 [==============================] - 1s 1ms/step - loss: 0.6125 - acc: 0.7944 - val_loss: 0.9192 - val_acc: 0.6724\n",
      "Epoch 35/350\n",
      "462/462 [==============================] - 1s 2ms/step - loss: 0.5860 - acc: 0.8052 - val_loss: 0.8486 - val_acc: 0.7241\n",
      "Epoch 36/350\n",
      "462/462 [==============================] - 1s 1ms/step - loss: 0.5515 - acc: 0.7987 - val_loss: 0.8753 - val_acc: 0.7414\n",
      "Epoch 37/350\n",
      "462/462 [==============================] - 1s 1ms/step - loss: 0.5685 - acc: 0.8030 - val_loss: 0.8915 - val_acc: 0.7241\n",
      "Epoch 38/350\n",
      "462/462 [==============================] - 1s 1ms/step - loss: 0.5955 - acc: 0.7965 - val_loss: 0.9596 - val_acc: 0.6724\n",
      "Epoch 39/350\n",
      "462/462 [==============================] - 1s 1ms/step - loss: 0.5593 - acc: 0.8225 - val_loss: 0.8764 - val_acc: 0.6983\n",
      "Epoch 40/350\n",
      "462/462 [==============================] - 1s 1ms/step - loss: 0.5617 - acc: 0.8139 - val_loss: 0.9058 - val_acc: 0.7069\n",
      "Epoch 41/350\n",
      "462/462 [==============================] - 1s 1ms/step - loss: 0.5679 - acc: 0.7944 - val_loss: 0.8143 - val_acc: 0.6983\n",
      "Epoch 42/350\n",
      "462/462 [==============================] - 1s 1ms/step - loss: 0.5156 - acc: 0.8420 - val_loss: 0.8139 - val_acc: 0.7241\n",
      "Epoch 43/350\n",
      "462/462 [==============================] - 1s 1ms/step - loss: 0.5433 - acc: 0.8377 - val_loss: 0.9107 - val_acc: 0.7155\n",
      "Epoch 44/350\n",
      "462/462 [==============================] - 1s 1ms/step - loss: 0.4909 - acc: 0.8355 - val_loss: 0.7842 - val_acc: 0.7241\n",
      "Epoch 45/350\n",
      "462/462 [==============================] - 1s 1ms/step - loss: 0.5217 - acc: 0.8139 - val_loss: 0.7638 - val_acc: 0.7845\n",
      "Epoch 46/350\n",
      "462/462 [==============================] - 1s 1ms/step - loss: 0.5192 - acc: 0.8139 - val_loss: 0.8036 - val_acc: 0.7500\n",
      "Epoch 47/350\n",
      "462/462 [==============================] - 1s 1ms/step - loss: 0.5137 - acc: 0.8442 - val_loss: 0.8771 - val_acc: 0.7155\n",
      "Epoch 48/350\n",
      "462/462 [==============================] - 1s 1ms/step - loss: 0.6133 - acc: 0.7900 - val_loss: 0.8431 - val_acc: 0.7155\n",
      "Epoch 49/350\n",
      "462/462 [==============================] - 1s 1ms/step - loss: 0.5302 - acc: 0.8203 - val_loss: 1.0007 - val_acc: 0.6983\n",
      "Epoch 50/350\n",
      "462/462 [==============================] - 1s 1ms/step - loss: 0.4422 - acc: 0.8485 - val_loss: 0.7768 - val_acc: 0.7672\n",
      "Epoch 51/350\n",
      "462/462 [==============================] - 1s 1ms/step - loss: 0.4953 - acc: 0.8463 - val_loss: 0.8168 - val_acc: 0.7586\n",
      "Epoch 52/350\n",
      "462/462 [==============================] - 1s 1ms/step - loss: 0.4690 - acc: 0.8268 - val_loss: 0.7596 - val_acc: 0.7586\n",
      "Epoch 53/350\n",
      "462/462 [==============================] - 1s 1ms/step - loss: 0.4349 - acc: 0.8528 - val_loss: 0.7656 - val_acc: 0.7414\n",
      "Epoch 54/350\n",
      "462/462 [==============================] - 1s 1ms/step - loss: 0.4209 - acc: 0.8593 - val_loss: 0.7503 - val_acc: 0.7414\n",
      "Epoch 55/350\n",
      "462/462 [==============================] - 1s 1ms/step - loss: 0.4140 - acc: 0.8701 - val_loss: 0.7978 - val_acc: 0.7328\n",
      "Epoch 56/350\n",
      "462/462 [==============================] - 1s 1ms/step - loss: 0.4306 - acc: 0.8571 - val_loss: 0.7195 - val_acc: 0.8103\n",
      "Epoch 57/350\n",
      "462/462 [==============================] - 1s 1ms/step - loss: 0.4341 - acc: 0.8506 - val_loss: 0.7982 - val_acc: 0.7414\n",
      "Epoch 58/350\n",
      "462/462 [==============================] - 1s 1ms/step - loss: 0.3860 - acc: 0.8810 - val_loss: 0.8443 - val_acc: 0.7500\n",
      "Epoch 59/350\n",
      "462/462 [==============================] - 1s 1ms/step - loss: 0.3763 - acc: 0.8680 - val_loss: 0.7472 - val_acc: 0.7759\n",
      "Epoch 60/350\n",
      "462/462 [==============================] - 1s 1ms/step - loss: 0.3529 - acc: 0.8918 - val_loss: 0.7438 - val_acc: 0.7414\n",
      "Epoch 61/350\n"
     ]
    },
    {
     "name": "stdout",
     "output_type": "stream",
     "text": [
      "462/462 [==============================] - 1s 1ms/step - loss: 0.3379 - acc: 0.8918 - val_loss: 0.8068 - val_acc: 0.7500\n",
      "Epoch 62/350\n",
      "462/462 [==============================] - 1s 1ms/step - loss: 0.3326 - acc: 0.8939 - val_loss: 0.9041 - val_acc: 0.7500\n",
      "Epoch 63/350\n",
      "462/462 [==============================] - 1s 1ms/step - loss: 0.3707 - acc: 0.8874 - val_loss: 0.7629 - val_acc: 0.7586\n",
      "Epoch 64/350\n",
      "462/462 [==============================] - 1s 1ms/step - loss: 0.3579 - acc: 0.9004 - val_loss: 0.7041 - val_acc: 0.7845\n",
      "Epoch 65/350\n",
      "462/462 [==============================] - 1s 1ms/step - loss: 0.3523 - acc: 0.8896 - val_loss: 0.7498 - val_acc: 0.7414\n",
      "Epoch 66/350\n",
      "462/462 [==============================] - 1s 1ms/step - loss: 0.3431 - acc: 0.8983 - val_loss: 0.7268 - val_acc: 0.7759\n",
      "Epoch 67/350\n",
      "462/462 [==============================] - 1s 1ms/step - loss: 0.3014 - acc: 0.9004 - val_loss: 0.8074 - val_acc: 0.7672\n",
      "Epoch 68/350\n",
      "462/462 [==============================] - 1s 1ms/step - loss: 0.2965 - acc: 0.9134 - val_loss: 0.7998 - val_acc: 0.7414\n",
      "Epoch 69/350\n",
      "462/462 [==============================] - 1s 1ms/step - loss: 0.3082 - acc: 0.9069 - val_loss: 0.7956 - val_acc: 0.7500\n",
      "Epoch 70/350\n",
      "462/462 [==============================] - 1s 2ms/step - loss: 0.2866 - acc: 0.9048 - val_loss: 0.7648 - val_acc: 0.7672\n",
      "Epoch 71/350\n",
      "462/462 [==============================] - 1s 1ms/step - loss: 0.2964 - acc: 0.9004 - val_loss: 0.7939 - val_acc: 0.7586\n",
      "Epoch 72/350\n",
      "462/462 [==============================] - 1s 1ms/step - loss: 0.2782 - acc: 0.9156 - val_loss: 0.7878 - val_acc: 0.7672\n",
      "Epoch 73/350\n",
      "462/462 [==============================] - 1s 1ms/step - loss: 0.2723 - acc: 0.9069 - val_loss: 0.7137 - val_acc: 0.7500\n",
      "Epoch 74/350\n",
      "462/462 [==============================] - 1s 1ms/step - loss: 0.2623 - acc: 0.9156 - val_loss: 0.7204 - val_acc: 0.7586\n",
      "Epoch 75/350\n",
      "462/462 [==============================] - 1s 2ms/step - loss: 0.2531 - acc: 0.9199 - val_loss: 0.8017 - val_acc: 0.7845\n",
      "Epoch 76/350\n",
      "462/462 [==============================] - 1s 1ms/step - loss: 0.2772 - acc: 0.9113 - val_loss: 0.6878 - val_acc: 0.7845\n",
      "Epoch 77/350\n",
      "462/462 [==============================] - 1s 2ms/step - loss: 0.2679 - acc: 0.9113 - val_loss: 0.7691 - val_acc: 0.7672\n",
      "Epoch 78/350\n",
      "462/462 [==============================] - 1s 1ms/step - loss: 0.2796 - acc: 0.9199 - val_loss: 0.7906 - val_acc: 0.7586\n",
      "Epoch 79/350\n",
      "462/462 [==============================] - 1s 1ms/step - loss: 0.3361 - acc: 0.9004 - val_loss: 0.6996 - val_acc: 0.7931\n",
      "Epoch 80/350\n",
      "462/462 [==============================] - 1s 1ms/step - loss: 0.3075 - acc: 0.8853 - val_loss: 0.8024 - val_acc: 0.7500\n",
      "Epoch 81/350\n",
      "462/462 [==============================] - 1s 1ms/step - loss: 0.2832 - acc: 0.8961 - val_loss: 0.7222 - val_acc: 0.7931\n",
      "Epoch 82/350\n",
      "462/462 [==============================] - 1s 2ms/step - loss: 0.2357 - acc: 0.9351 - val_loss: 0.7388 - val_acc: 0.8017\n",
      "Epoch 83/350\n",
      "462/462 [==============================] - 1s 1ms/step - loss: 0.2451 - acc: 0.9134 - val_loss: 0.7309 - val_acc: 0.7845\n",
      "Epoch 84/350\n",
      "462/462 [==============================] - 1s 2ms/step - loss: 0.2375 - acc: 0.9307 - val_loss: 0.7201 - val_acc: 0.7672\n",
      "Epoch 85/350\n",
      "462/462 [==============================] - 1s 1ms/step - loss: 0.2067 - acc: 0.9264 - val_loss: 0.7173 - val_acc: 0.8103\n",
      "Epoch 86/350\n",
      "462/462 [==============================] - 1s 1ms/step - loss: 0.3042 - acc: 0.9091 - val_loss: 0.8695 - val_acc: 0.7414\n",
      "Epoch 87/350\n",
      "462/462 [==============================] - 1s 1ms/step - loss: 0.2748 - acc: 0.9242 - val_loss: 0.9452 - val_acc: 0.7500\n",
      "Epoch 88/350\n",
      "462/462 [==============================] - 1s 1ms/step - loss: 0.2538 - acc: 0.9307 - val_loss: 0.8353 - val_acc: 0.7672\n",
      "Epoch 89/350\n",
      "462/462 [==============================] - 1s 2ms/step - loss: 0.2101 - acc: 0.9437 - val_loss: 0.7899 - val_acc: 0.7672\n",
      "Epoch 90/350\n",
      "462/462 [==============================] - 1s 1ms/step - loss: 0.2581 - acc: 0.9177 - val_loss: 0.8462 - val_acc: 0.7759\n",
      "Epoch 91/350\n",
      "462/462 [==============================] - 1s 1ms/step - loss: 0.2737 - acc: 0.9221 - val_loss: 0.8511 - val_acc: 0.7672\n",
      "Epoch 92/350\n",
      "462/462 [==============================] - 1s 2ms/step - loss: 0.3112 - acc: 0.8918 - val_loss: 0.7723 - val_acc: 0.8276\n",
      "Epoch 93/350\n",
      "462/462 [==============================] - 1s 1ms/step - loss: 0.2781 - acc: 0.9264 - val_loss: 0.7483 - val_acc: 0.8017\n",
      "Epoch 94/350\n",
      "462/462 [==============================] - 1s 1ms/step - loss: 0.2383 - acc: 0.9307 - val_loss: 0.7580 - val_acc: 0.7845\n",
      "Epoch 95/350\n",
      "462/462 [==============================] - 1s 2ms/step - loss: 0.2087 - acc: 0.9329 - val_loss: 0.7312 - val_acc: 0.7759\n",
      "Epoch 96/350\n",
      "462/462 [==============================] - 1s 1ms/step - loss: 0.2062 - acc: 0.9459 - val_loss: 0.8191 - val_acc: 0.7586\n",
      "Epoch 97/350\n",
      "462/462 [==============================] - 1s 2ms/step - loss: 0.2554 - acc: 0.9177 - val_loss: 0.7545 - val_acc: 0.7759\n",
      "Epoch 98/350\n",
      "462/462 [==============================] - 1s 1ms/step - loss: 0.2298 - acc: 0.9286 - val_loss: 0.8169 - val_acc: 0.7931\n",
      "Epoch 99/350\n",
      "462/462 [==============================] - 1s 2ms/step - loss: 0.2578 - acc: 0.9351 - val_loss: 0.7873 - val_acc: 0.7672\n",
      "Epoch 100/350\n",
      "462/462 [==============================] - 1s 1ms/step - loss: 0.2411 - acc: 0.9329 - val_loss: 0.7745 - val_acc: 0.7672\n",
      "Epoch 101/350\n",
      "462/462 [==============================] - 1s 1ms/step - loss: 0.2096 - acc: 0.9351 - val_loss: 0.8205 - val_acc: 0.7845\n",
      "Epoch 102/350\n",
      "462/462 [==============================] - 1s 1ms/step - loss: 0.2516 - acc: 0.9199 - val_loss: 0.7857 - val_acc: 0.7759\n",
      "Epoch 103/350\n",
      "462/462 [==============================] - 1s 1ms/step - loss: 0.2406 - acc: 0.9242 - val_loss: 0.7158 - val_acc: 0.8017\n",
      "Epoch 104/350\n",
      "462/462 [==============================] - 1s 1ms/step - loss: 0.1943 - acc: 0.9437 - val_loss: 0.8079 - val_acc: 0.7845\n",
      "Epoch 105/350\n",
      "462/462 [==============================] - 1s 1ms/step - loss: 0.2195 - acc: 0.9329 - val_loss: 0.9365 - val_acc: 0.7586\n",
      "Epoch 106/350\n",
      "462/462 [==============================] - 1s 1ms/step - loss: 0.1860 - acc: 0.9459 - val_loss: 0.9362 - val_acc: 0.7931\n",
      "Epoch 107/350\n",
      "462/462 [==============================] - 1s 1ms/step - loss: 0.1798 - acc: 0.9481 - val_loss: 0.8591 - val_acc: 0.7931\n",
      "Epoch 108/350\n",
      "462/462 [==============================] - 1s 1ms/step - loss: 0.2107 - acc: 0.9351 - val_loss: 0.8242 - val_acc: 0.7845\n",
      "Epoch 109/350\n",
      "462/462 [==============================] - 1s 1ms/step - loss: 0.2100 - acc: 0.9264 - val_loss: 0.8585 - val_acc: 0.7759\n",
      "Epoch 110/350\n",
      "462/462 [==============================] - 1s 1ms/step - loss: 0.2024 - acc: 0.9351 - val_loss: 0.7493 - val_acc: 0.7845\n",
      "Epoch 111/350\n",
      "462/462 [==============================] - 1s 1ms/step - loss: 0.1740 - acc: 0.9437 - val_loss: 0.7723 - val_acc: 0.8017\n",
      "Epoch 112/350\n",
      "462/462 [==============================] - 1s 1ms/step - loss: 0.1916 - acc: 0.9481 - val_loss: 0.7269 - val_acc: 0.8190\n",
      "Epoch 113/350\n",
      "462/462 [==============================] - 1s 1ms/step - loss: 0.2120 - acc: 0.9416 - val_loss: 0.7820 - val_acc: 0.7845\n",
      "Epoch 114/350\n",
      "462/462 [==============================] - 1s 1ms/step - loss: 0.2568 - acc: 0.9177 - val_loss: 0.7580 - val_acc: 0.8103\n",
      "Epoch 115/350\n",
      "462/462 [==============================] - 1s 1ms/step - loss: 0.2094 - acc: 0.9394 - val_loss: 0.8148 - val_acc: 0.7672\n",
      "Epoch 116/350\n",
      "462/462 [==============================] - 1s 1ms/step - loss: 0.2171 - acc: 0.9351 - val_loss: 0.8644 - val_acc: 0.7672\n",
      "Epoch 117/350\n",
      "462/462 [==============================] - 1s 1ms/step - loss: 0.2215 - acc: 0.9394 - val_loss: 0.8514 - val_acc: 0.7672\n",
      "Epoch 118/350\n",
      "462/462 [==============================] - 1s 1ms/step - loss: 0.1951 - acc: 0.9437 - val_loss: 0.7954 - val_acc: 0.8017\n",
      "Epoch 119/350\n",
      "462/462 [==============================] - 1s 1ms/step - loss: 0.1701 - acc: 0.9459 - val_loss: 0.8625 - val_acc: 0.7672\n",
      "Epoch 120/350\n",
      "462/462 [==============================] - 1s 2ms/step - loss: 0.2703 - acc: 0.9199 - val_loss: 0.8820 - val_acc: 0.7931\n",
      "Epoch 121/350\n",
      "462/462 [==============================] - 1s 2ms/step - loss: 0.2319 - acc: 0.9221 - val_loss: 0.8376 - val_acc: 0.7931\n",
      "Epoch 122/350\n"
     ]
    },
    {
     "name": "stdout",
     "output_type": "stream",
     "text": [
      "462/462 [==============================] - 1s 2ms/step - loss: 0.1907 - acc: 0.9351 - val_loss: 0.8863 - val_acc: 0.7500\n",
      "Epoch 123/350\n",
      "462/462 [==============================] - 1s 1ms/step - loss: 0.2382 - acc: 0.9264 - val_loss: 0.8403 - val_acc: 0.7586\n",
      "Epoch 124/350\n",
      "462/462 [==============================] - 1s 2ms/step - loss: 0.2296 - acc: 0.9372 - val_loss: 0.7239 - val_acc: 0.7672\n",
      "Epoch 125/350\n",
      "462/462 [==============================] - 1s 2ms/step - loss: 0.1924 - acc: 0.9286 - val_loss: 0.7823 - val_acc: 0.7931\n",
      "Epoch 126/350\n",
      "462/462 [==============================] - 1s 2ms/step - loss: 0.1708 - acc: 0.9437 - val_loss: 0.7841 - val_acc: 0.7845\n",
      "Epoch 127/350\n",
      "462/462 [==============================] - 1s 1ms/step - loss: 0.1527 - acc: 0.9459 - val_loss: 0.7623 - val_acc: 0.7845\n",
      "Epoch 128/350\n",
      "462/462 [==============================] - 1s 2ms/step - loss: 0.1685 - acc: 0.9610 - val_loss: 0.8366 - val_acc: 0.7931\n",
      "Epoch 129/350\n",
      "462/462 [==============================] - 1s 2ms/step - loss: 0.1871 - acc: 0.9286 - val_loss: 0.8355 - val_acc: 0.7931\n",
      "Epoch 130/350\n",
      "462/462 [==============================] - 1s 2ms/step - loss: 0.1549 - acc: 0.9545 - val_loss: 0.8184 - val_acc: 0.7759\n",
      "Epoch 131/350\n",
      "462/462 [==============================] - 1s 2ms/step - loss: 0.1748 - acc: 0.9437 - val_loss: 0.8420 - val_acc: 0.7672\n",
      "Epoch 132/350\n",
      "462/462 [==============================] - 1s 2ms/step - loss: 0.1203 - acc: 0.9610 - val_loss: 0.7573 - val_acc: 0.8017\n",
      "Epoch 133/350\n",
      "462/462 [==============================] - 1s 2ms/step - loss: 0.1401 - acc: 0.9524 - val_loss: 0.7488 - val_acc: 0.8103\n",
      "Epoch 134/350\n",
      "462/462 [==============================] - 1s 2ms/step - loss: 0.1754 - acc: 0.9416 - val_loss: 0.7813 - val_acc: 0.7931\n",
      "Epoch 135/350\n",
      "462/462 [==============================] - 1s 2ms/step - loss: 0.1662 - acc: 0.9481 - val_loss: 0.7540 - val_acc: 0.7845\n",
      "Epoch 136/350\n",
      "462/462 [==============================] - 1s 2ms/step - loss: 0.1657 - acc: 0.9459 - val_loss: 0.7938 - val_acc: 0.7845\n",
      "Epoch 137/350\n",
      "462/462 [==============================] - 1s 1ms/step - loss: 0.1364 - acc: 0.9654 - val_loss: 0.7826 - val_acc: 0.7931\n",
      "Epoch 138/350\n",
      "462/462 [==============================] - 1s 1ms/step - loss: 0.1798 - acc: 0.9394 - val_loss: 0.7652 - val_acc: 0.7931\n",
      "Epoch 139/350\n",
      "462/462 [==============================] - 1s 2ms/step - loss: 0.1802 - acc: 0.9459 - val_loss: 0.8380 - val_acc: 0.7845\n",
      "Epoch 140/350\n",
      "462/462 [==============================] - 1s 1ms/step - loss: 0.1540 - acc: 0.9524 - val_loss: 0.7866 - val_acc: 0.7845\n",
      "Epoch 141/350\n",
      "462/462 [==============================] - 1s 1ms/step - loss: 0.1543 - acc: 0.9481 - val_loss: 0.7528 - val_acc: 0.8103\n",
      "Epoch 142/350\n",
      "462/462 [==============================] - 1s 1ms/step - loss: 0.1375 - acc: 0.9632 - val_loss: 0.7638 - val_acc: 0.7759\n",
      "Epoch 143/350\n",
      "462/462 [==============================] - 1s 2ms/step - loss: 0.1373 - acc: 0.9610 - val_loss: 0.7621 - val_acc: 0.8276\n",
      "Epoch 144/350\n",
      "462/462 [==============================] - 1s 1ms/step - loss: 0.1234 - acc: 0.9675 - val_loss: 0.8058 - val_acc: 0.7845\n",
      "Epoch 145/350\n",
      "462/462 [==============================] - 1s 1ms/step - loss: 0.1142 - acc: 0.9610 - val_loss: 0.7729 - val_acc: 0.8103\n",
      "Epoch 146/350\n",
      "462/462 [==============================] - 1s 1ms/step - loss: 0.1494 - acc: 0.9481 - val_loss: 0.6936 - val_acc: 0.8276\n",
      "Epoch 147/350\n",
      "462/462 [==============================] - 1s 1ms/step - loss: 0.1389 - acc: 0.9675 - val_loss: 0.7189 - val_acc: 0.8103\n",
      "Epoch 148/350\n",
      "462/462 [==============================] - 1s 2ms/step - loss: 0.2158 - acc: 0.9264 - val_loss: 0.7828 - val_acc: 0.7672\n",
      "Epoch 149/350\n",
      "462/462 [==============================] - 1s 1ms/step - loss: 0.1955 - acc: 0.9286 - val_loss: 0.7901 - val_acc: 0.7586\n",
      "Epoch 150/350\n",
      "462/462 [==============================] - 1s 1ms/step - loss: 0.1337 - acc: 0.9610 - val_loss: 0.8186 - val_acc: 0.7845\n",
      "Epoch 151/350\n",
      "462/462 [==============================] - 1s 1ms/step - loss: 0.1392 - acc: 0.9524 - val_loss: 0.8696 - val_acc: 0.7845\n",
      "Epoch 152/350\n",
      "462/462 [==============================] - 1s 2ms/step - loss: 0.1327 - acc: 0.9567 - val_loss: 0.8075 - val_acc: 0.7845\n",
      "Epoch 153/350\n",
      "462/462 [==============================] - 1s 2ms/step - loss: 0.1143 - acc: 0.9632 - val_loss: 0.7511 - val_acc: 0.8017\n",
      "Epoch 154/350\n",
      "462/462 [==============================] - 1s 1ms/step - loss: 0.1092 - acc: 0.9610 - val_loss: 0.7264 - val_acc: 0.8362\n",
      "Epoch 155/350\n",
      "462/462 [==============================] - 1s 1ms/step - loss: 0.1072 - acc: 0.9675 - val_loss: 0.8926 - val_acc: 0.7845\n",
      "Epoch 156/350\n",
      "462/462 [==============================] - 1s 1ms/step - loss: 0.1084 - acc: 0.9719 - val_loss: 0.7614 - val_acc: 0.8017\n",
      "Epoch 157/350\n",
      "462/462 [==============================] - 1s 1ms/step - loss: 0.1090 - acc: 0.9675 - val_loss: 0.7463 - val_acc: 0.7931\n",
      "Epoch 158/350\n",
      "462/462 [==============================] - 1s 1ms/step - loss: 0.1116 - acc: 0.9675 - val_loss: 0.7256 - val_acc: 0.7845\n",
      "Epoch 159/350\n",
      "462/462 [==============================] - 1s 1ms/step - loss: 0.1203 - acc: 0.9567 - val_loss: 0.7492 - val_acc: 0.7845\n",
      "Epoch 160/350\n",
      "462/462 [==============================] - 1s 1ms/step - loss: 0.1452 - acc: 0.9589 - val_loss: 0.7107 - val_acc: 0.8276\n",
      "Epoch 161/350\n",
      "462/462 [==============================] - 1s 1ms/step - loss: 0.1553 - acc: 0.9524 - val_loss: 0.8415 - val_acc: 0.7845\n",
      "Epoch 162/350\n",
      "462/462 [==============================] - 1s 1ms/step - loss: 0.1433 - acc: 0.9589 - val_loss: 0.7934 - val_acc: 0.8362\n",
      "Epoch 163/350\n",
      "462/462 [==============================] - 1s 1ms/step - loss: 0.1174 - acc: 0.9610 - val_loss: 0.7747 - val_acc: 0.8017\n",
      "Epoch 164/350\n",
      "462/462 [==============================] - 1s 1ms/step - loss: 0.1217 - acc: 0.9589 - val_loss: 0.7865 - val_acc: 0.8190\n",
      "Epoch 165/350\n",
      "462/462 [==============================] - 1s 1ms/step - loss: 0.1145 - acc: 0.9632 - val_loss: 0.7395 - val_acc: 0.8448\n",
      "Epoch 166/350\n",
      "462/462 [==============================] - 1s 1ms/step - loss: 0.1520 - acc: 0.9524 - val_loss: 0.7847 - val_acc: 0.7931\n",
      "Epoch 167/350\n",
      "462/462 [==============================] - 1s 1ms/step - loss: 0.1203 - acc: 0.9675 - val_loss: 0.7786 - val_acc: 0.7931\n",
      "Epoch 168/350\n",
      "462/462 [==============================] - 1s 1ms/step - loss: 0.1258 - acc: 0.9567 - val_loss: 0.8145 - val_acc: 0.7845\n",
      "Epoch 169/350\n",
      "462/462 [==============================] - 1s 1ms/step - loss: 0.1197 - acc: 0.9632 - val_loss: 0.7728 - val_acc: 0.7845\n",
      "Epoch 170/350\n",
      "462/462 [==============================] - 1s 1ms/step - loss: 0.1083 - acc: 0.9654 - val_loss: 0.7071 - val_acc: 0.8103\n",
      "Epoch 171/350\n",
      "462/462 [==============================] - 1s 1ms/step - loss: 0.0930 - acc: 0.9762 - val_loss: 0.7717 - val_acc: 0.7931\n",
      "Epoch 172/350\n",
      "462/462 [==============================] - 1s 1ms/step - loss: 0.0979 - acc: 0.9675 - val_loss: 0.7514 - val_acc: 0.8017\n",
      "Epoch 173/350\n",
      "462/462 [==============================] - 1s 1ms/step - loss: 0.1007 - acc: 0.9697 - val_loss: 0.7889 - val_acc: 0.8017\n",
      "Epoch 174/350\n",
      "462/462 [==============================] - 1s 1ms/step - loss: 0.1568 - acc: 0.9459 - val_loss: 0.7577 - val_acc: 0.8103\n",
      "Epoch 175/350\n",
      "462/462 [==============================] - 1s 1ms/step - loss: 0.1640 - acc: 0.9437 - val_loss: 0.9339 - val_acc: 0.7414\n",
      "Epoch 176/350\n",
      "462/462 [==============================] - 1s 1ms/step - loss: 0.1449 - acc: 0.9675 - val_loss: 0.7765 - val_acc: 0.7931\n",
      "Epoch 177/350\n",
      "462/462 [==============================] - 1s 1ms/step - loss: 0.1402 - acc: 0.9524 - val_loss: 0.9219 - val_acc: 0.7672\n",
      "Epoch 178/350\n",
      "462/462 [==============================] - 1s 1ms/step - loss: 0.1294 - acc: 0.9610 - val_loss: 0.8045 - val_acc: 0.8017\n",
      "Epoch 179/350\n",
      "462/462 [==============================] - 1s 1ms/step - loss: 0.1257 - acc: 0.9610 - val_loss: 0.7571 - val_acc: 0.8017\n",
      "Epoch 180/350\n",
      "462/462 [==============================] - 1s 1ms/step - loss: 0.0924 - acc: 0.9719 - val_loss: 0.7881 - val_acc: 0.7931\n",
      "Epoch 181/350\n",
      "462/462 [==============================] - 1s 1ms/step - loss: 0.1239 - acc: 0.9654 - val_loss: 0.8322 - val_acc: 0.7845\n",
      "Epoch 182/350\n",
      "462/462 [==============================] - ETA: 0s - loss: 0.1092 - acc: 0.968 - 1s 1ms/step - loss: 0.1121 - acc: 0.9654 - val_loss: 0.7870 - val_acc: 0.8276\n"
     ]
    },
    {
     "name": "stdout",
     "output_type": "stream",
     "text": [
      "Epoch 183/350\n",
      "462/462 [==============================] - 1s 1ms/step - loss: 0.0848 - acc: 0.9784 - val_loss: 0.7951 - val_acc: 0.8190\n",
      "Epoch 184/350\n",
      "462/462 [==============================] - 1s 1ms/step - loss: 0.1195 - acc: 0.9719 - val_loss: 0.8860 - val_acc: 0.8017\n",
      "Epoch 185/350\n",
      "462/462 [==============================] - 1s 1ms/step - loss: 0.0791 - acc: 0.9719 - val_loss: 0.8337 - val_acc: 0.7759\n",
      "Epoch 186/350\n",
      "462/462 [==============================] - 1s 1ms/step - loss: 0.1262 - acc: 0.9610 - val_loss: 0.8316 - val_acc: 0.8103\n",
      "Epoch 187/350\n",
      "462/462 [==============================] - 1s 1ms/step - loss: 0.1073 - acc: 0.9632 - val_loss: 0.8892 - val_acc: 0.8103\n",
      "Epoch 188/350\n",
      "462/462 [==============================] - 1s 1ms/step - loss: 0.1054 - acc: 0.9654 - val_loss: 0.8126 - val_acc: 0.8103\n",
      "Epoch 189/350\n",
      "462/462 [==============================] - 1s 1ms/step - loss: 0.0887 - acc: 0.9740 - val_loss: 0.8676 - val_acc: 0.7845\n",
      "Epoch 190/350\n",
      "462/462 [==============================] - 1s 1ms/step - loss: 0.1264 - acc: 0.9632 - val_loss: 0.7813 - val_acc: 0.8190\n",
      "Epoch 191/350\n",
      "462/462 [==============================] - 1s 1ms/step - loss: 0.1062 - acc: 0.9610 - val_loss: 0.8300 - val_acc: 0.8103\n",
      "Epoch 192/350\n",
      "462/462 [==============================] - 1s 1ms/step - loss: 0.0960 - acc: 0.9654 - val_loss: 0.8430 - val_acc: 0.8103\n",
      "Epoch 193/350\n",
      "462/462 [==============================] - 1s 2ms/step - loss: 0.1137 - acc: 0.9675 - val_loss: 0.9103 - val_acc: 0.8017\n",
      "Epoch 194/350\n",
      "462/462 [==============================] - 1s 1ms/step - loss: 0.0849 - acc: 0.9762 - val_loss: 0.8739 - val_acc: 0.8103\n",
      "Epoch 195/350\n",
      "462/462 [==============================] - 1s 1ms/step - loss: 0.1130 - acc: 0.9524 - val_loss: 0.9416 - val_acc: 0.7931\n",
      "Epoch 196/350\n",
      "462/462 [==============================] - 1s 1ms/step - loss: 0.1232 - acc: 0.9632 - val_loss: 0.9608 - val_acc: 0.8017\n",
      "Epoch 197/350\n",
      "462/462 [==============================] - 1s 1ms/step - loss: 0.2350 - acc: 0.9372 - val_loss: 0.9779 - val_acc: 0.7500\n",
      "Epoch 198/350\n",
      "462/462 [==============================] - 1s 1ms/step - loss: 0.1435 - acc: 0.9545 - val_loss: 0.8632 - val_acc: 0.8017\n",
      "Epoch 199/350\n",
      "462/462 [==============================] - 1s 1ms/step - loss: 0.1405 - acc: 0.9545 - val_loss: 0.9561 - val_acc: 0.7759\n",
      "Epoch 200/350\n",
      "462/462 [==============================] - 1s 1ms/step - loss: 0.2420 - acc: 0.9459 - val_loss: 0.9442 - val_acc: 0.7500\n",
      "Epoch 201/350\n",
      "462/462 [==============================] - 1s 1ms/step - loss: 0.1256 - acc: 0.9632 - val_loss: 0.8040 - val_acc: 0.7672\n",
      "Epoch 202/350\n",
      "462/462 [==============================] - 1s 1ms/step - loss: 0.1335 - acc: 0.9545 - val_loss: 0.7287 - val_acc: 0.7931\n",
      "Epoch 203/350\n",
      "462/462 [==============================] - 1s 1ms/step - loss: 0.1358 - acc: 0.9719 - val_loss: 0.7328 - val_acc: 0.7586\n",
      "Epoch 204/350\n",
      "462/462 [==============================] - 1s 1ms/step - loss: 0.1389 - acc: 0.9567 - val_loss: 0.7737 - val_acc: 0.7759\n",
      "Epoch 205/350\n",
      "462/462 [==============================] - 1s 1ms/step - loss: 0.1105 - acc: 0.9632 - val_loss: 0.9710 - val_acc: 0.7586\n",
      "Epoch 206/350\n",
      "462/462 [==============================] - 1s 1ms/step - loss: 0.1136 - acc: 0.9675 - val_loss: 0.8145 - val_acc: 0.7845\n",
      "Epoch 207/350\n",
      "462/462 [==============================] - 1s 1ms/step - loss: 0.0796 - acc: 0.9827 - val_loss: 0.7879 - val_acc: 0.8017\n",
      "Epoch 208/350\n",
      "462/462 [==============================] - 1s 1ms/step - loss: 0.0965 - acc: 0.9675 - val_loss: 0.8869 - val_acc: 0.7845\n",
      "Epoch 209/350\n",
      "462/462 [==============================] - 1s 1ms/step - loss: 0.0862 - acc: 0.9805 - val_loss: 0.9541 - val_acc: 0.7845\n",
      "Epoch 210/350\n",
      "462/462 [==============================] - 1s 1ms/step - loss: 0.0842 - acc: 0.9762 - val_loss: 0.8864 - val_acc: 0.7672\n",
      "Epoch 211/350\n",
      "462/462 [==============================] - 1s 1ms/step - loss: 0.1004 - acc: 0.9675 - val_loss: 0.9128 - val_acc: 0.8017\n",
      "Epoch 212/350\n",
      "462/462 [==============================] - 1s 1ms/step - loss: 0.1198 - acc: 0.9610 - val_loss: 0.8447 - val_acc: 0.7672\n",
      "Epoch 213/350\n",
      "462/462 [==============================] - 1s 1ms/step - loss: 0.1081 - acc: 0.9632 - val_loss: 0.8199 - val_acc: 0.8017\n",
      "Epoch 214/350\n",
      "462/462 [==============================] - 1s 1ms/step - loss: 0.1177 - acc: 0.9697 - val_loss: 0.7925 - val_acc: 0.7759\n",
      "Epoch 215/350\n",
      "462/462 [==============================] - 1s 1ms/step - loss: 0.0784 - acc: 0.9827 - val_loss: 0.7846 - val_acc: 0.7759\n",
      "Epoch 216/350\n",
      "462/462 [==============================] - 1s 1ms/step - loss: 0.0979 - acc: 0.9675 - val_loss: 0.7846 - val_acc: 0.7931\n",
      "Epoch 217/350\n",
      "462/462 [==============================] - 1s 1ms/step - loss: 0.1034 - acc: 0.9697 - val_loss: 0.7537 - val_acc: 0.8276\n",
      "Epoch 218/350\n",
      "462/462 [==============================] - 1s 2ms/step - loss: 0.0903 - acc: 0.9654 - val_loss: 0.8269 - val_acc: 0.8103\n",
      "Epoch 219/350\n",
      "462/462 [==============================] - 1s 1ms/step - loss: 0.0880 - acc: 0.9719 - val_loss: 0.8749 - val_acc: 0.7931\n",
      "Epoch 220/350\n",
      "462/462 [==============================] - 1s 1ms/step - loss: 0.0870 - acc: 0.9740 - val_loss: 0.8001 - val_acc: 0.8276\n",
      "Epoch 221/350\n",
      "462/462 [==============================] - 1s 1ms/step - loss: 0.0703 - acc: 0.9805 - val_loss: 0.8253 - val_acc: 0.8190\n",
      "Epoch 222/350\n",
      "462/462 [==============================] - 1s 1ms/step - loss: 0.0800 - acc: 0.9675 - val_loss: 0.8799 - val_acc: 0.7845\n",
      "Epoch 223/350\n",
      "462/462 [==============================] - 1s 1ms/step - loss: 0.0889 - acc: 0.9697 - val_loss: 0.9322 - val_acc: 0.7586\n",
      "Epoch 224/350\n",
      "462/462 [==============================] - 1s 1ms/step - loss: 0.0853 - acc: 0.9805 - val_loss: 0.9899 - val_acc: 0.7759\n",
      "Epoch 225/350\n",
      "462/462 [==============================] - 1s 1ms/step - loss: 0.1216 - acc: 0.9610 - val_loss: 0.9710 - val_acc: 0.7500\n",
      "Epoch 226/350\n",
      "462/462 [==============================] - 1s 1ms/step - loss: 0.1232 - acc: 0.9632 - val_loss: 0.7927 - val_acc: 0.7931\n",
      "Epoch 227/350\n",
      "462/462 [==============================] - 1s 1ms/step - loss: 0.0772 - acc: 0.9805 - val_loss: 0.7742 - val_acc: 0.8190\n",
      "Epoch 228/350\n",
      "462/462 [==============================] - 1s 1ms/step - loss: 0.1124 - acc: 0.9697 - val_loss: 0.8024 - val_acc: 0.8017\n",
      "Epoch 229/350\n",
      "462/462 [==============================] - 1s 1ms/step - loss: 0.1058 - acc: 0.9697 - val_loss: 0.8083 - val_acc: 0.7759\n",
      "Epoch 230/350\n",
      "462/462 [==============================] - 1s 1ms/step - loss: 0.1191 - acc: 0.9632 - val_loss: 0.7833 - val_acc: 0.7931\n",
      "Epoch 231/350\n",
      "462/462 [==============================] - 1s 1ms/step - loss: 0.0827 - acc: 0.9762 - val_loss: 0.7192 - val_acc: 0.8362\n",
      "Epoch 232/350\n",
      "462/462 [==============================] - 1s 1ms/step - loss: 0.0912 - acc: 0.9675 - val_loss: 0.7963 - val_acc: 0.7845\n",
      "Epoch 233/350\n",
      "462/462 [==============================] - 1s 1ms/step - loss: 0.0800 - acc: 0.9740 - val_loss: 0.8163 - val_acc: 0.8103\n",
      "Epoch 234/350\n",
      "462/462 [==============================] - 1s 1ms/step - loss: 0.0833 - acc: 0.9848 - val_loss: 0.7938 - val_acc: 0.8190\n",
      "Epoch 235/350\n",
      "462/462 [==============================] - 1s 1ms/step - loss: 0.0912 - acc: 0.9675 - val_loss: 0.7068 - val_acc: 0.8103\n",
      "Epoch 236/350\n",
      "462/462 [==============================] - 1s 1ms/step - loss: 0.0811 - acc: 0.9740 - val_loss: 0.6863 - val_acc: 0.8362\n",
      "Epoch 237/350\n",
      "462/462 [==============================] - 1s 1ms/step - loss: 0.1158 - acc: 0.9697 - val_loss: 0.7423 - val_acc: 0.7931\n",
      "Epoch 238/350\n",
      "462/462 [==============================] - 1s 1ms/step - loss: 0.1543 - acc: 0.9481 - val_loss: 0.8441 - val_acc: 0.8103\n",
      "Epoch 239/350\n",
      "462/462 [==============================] - 1s 2ms/step - loss: 0.0768 - acc: 0.9762 - val_loss: 0.7591 - val_acc: 0.8190\n",
      "Epoch 240/350\n",
      "462/462 [==============================] - 1s 1ms/step - loss: 0.1080 - acc: 0.9610 - val_loss: 0.7354 - val_acc: 0.8448\n",
      "Epoch 241/350\n",
      "462/462 [==============================] - 1s 1ms/step - loss: 0.0795 - acc: 0.9784 - val_loss: 0.9381 - val_acc: 0.7845\n",
      "Epoch 242/350\n",
      "462/462 [==============================] - 1s 1ms/step - loss: 0.0734 - acc: 0.9740 - val_loss: 0.8780 - val_acc: 0.7931\n",
      "Epoch 243/350\n"
     ]
    },
    {
     "name": "stdout",
     "output_type": "stream",
     "text": [
      "462/462 [==============================] - 1s 1ms/step - loss: 0.0730 - acc: 0.9784 - val_loss: 0.8328 - val_acc: 0.7759\n",
      "Epoch 244/350\n",
      "462/462 [==============================] - 1s 1ms/step - loss: 0.0546 - acc: 0.9848 - val_loss: 0.9247 - val_acc: 0.7759\n",
      "Epoch 245/350\n",
      "462/462 [==============================] - 1s 1ms/step - loss: 0.0896 - acc: 0.9805 - val_loss: 0.8822 - val_acc: 0.7845\n",
      "Epoch 246/350\n",
      "462/462 [==============================] - 1s 2ms/step - loss: 0.0656 - acc: 0.9848 - val_loss: 0.8543 - val_acc: 0.8017\n",
      "Epoch 247/350\n",
      "462/462 [==============================] - 1s 1ms/step - loss: 0.0835 - acc: 0.9762 - val_loss: 0.8817 - val_acc: 0.7931\n",
      "Epoch 248/350\n",
      "462/462 [==============================] - 1s 1ms/step - loss: 0.0916 - acc: 0.9762 - val_loss: 0.7762 - val_acc: 0.8448\n",
      "Epoch 249/350\n",
      "462/462 [==============================] - 1s 1ms/step - loss: 0.0744 - acc: 0.9805 - val_loss: 0.7906 - val_acc: 0.8276\n",
      "Epoch 250/350\n",
      "462/462 [==============================] - 1s 1ms/step - loss: 0.0835 - acc: 0.9805 - val_loss: 0.8710 - val_acc: 0.7845\n",
      "Epoch 251/350\n",
      "462/462 [==============================] - 1s 1ms/step - loss: 0.0649 - acc: 0.9827 - val_loss: 0.8222 - val_acc: 0.8103\n",
      "Epoch 252/350\n",
      "462/462 [==============================] - 1s 1ms/step - loss: 0.0618 - acc: 0.9827 - val_loss: 0.8547 - val_acc: 0.8017\n",
      "Epoch 253/350\n",
      "462/462 [==============================] - 1s 1ms/step - loss: 0.0630 - acc: 0.9784 - val_loss: 0.7887 - val_acc: 0.8103\n",
      "Epoch 254/350\n",
      "462/462 [==============================] - 1s 2ms/step - loss: 0.0841 - acc: 0.9675 - val_loss: 0.9072 - val_acc: 0.7931\n",
      "Epoch 255/350\n",
      "462/462 [==============================] - 1s 1ms/step - loss: 0.0969 - acc: 0.9632 - val_loss: 0.7754 - val_acc: 0.8190\n",
      "Epoch 256/350\n",
      "462/462 [==============================] - 1s 1ms/step - loss: 0.0737 - acc: 0.9740 - val_loss: 0.8008 - val_acc: 0.8103\n",
      "Epoch 257/350\n",
      "462/462 [==============================] - 1s 1ms/step - loss: 0.0982 - acc: 0.9675 - val_loss: 1.1958 - val_acc: 0.7672\n",
      "Epoch 258/350\n",
      "462/462 [==============================] - 1s 1ms/step - loss: 0.1221 - acc: 0.9545 - val_loss: 0.9107 - val_acc: 0.7759\n",
      "Epoch 259/350\n",
      "462/462 [==============================] - 1s 1ms/step - loss: 0.0705 - acc: 0.9762 - val_loss: 0.8244 - val_acc: 0.8103\n",
      "Epoch 260/350\n",
      "462/462 [==============================] - 1s 2ms/step - loss: 0.0908 - acc: 0.9719 - val_loss: 0.7842 - val_acc: 0.8103\n",
      "Epoch 261/350\n",
      "462/462 [==============================] - 1s 1ms/step - loss: 0.0883 - acc: 0.9719 - val_loss: 0.8180 - val_acc: 0.7845\n",
      "Epoch 262/350\n",
      "462/462 [==============================] - 1s 1ms/step - loss: 0.1079 - acc: 0.9740 - val_loss: 0.8251 - val_acc: 0.8103\n",
      "Epoch 263/350\n",
      "462/462 [==============================] - 1s 1ms/step - loss: 0.0644 - acc: 0.9762 - val_loss: 0.7381 - val_acc: 0.8362\n",
      "Epoch 264/350\n",
      "462/462 [==============================] - 1s 1ms/step - loss: 0.1662 - acc: 0.9567 - val_loss: 0.7249 - val_acc: 0.8103\n",
      "Epoch 265/350\n",
      "462/462 [==============================] - 1s 1ms/step - loss: 0.0831 - acc: 0.9827 - val_loss: 0.7398 - val_acc: 0.8103\n",
      "Epoch 266/350\n",
      "462/462 [==============================] - 1s 1ms/step - loss: 0.1334 - acc: 0.9719 - val_loss: 0.7002 - val_acc: 0.8362\n",
      "Epoch 267/350\n",
      "462/462 [==============================] - 1s 1ms/step - loss: 0.0808 - acc: 0.9740 - val_loss: 0.9562 - val_acc: 0.8017\n",
      "Epoch 268/350\n",
      "462/462 [==============================] - 1s 1ms/step - loss: 0.1308 - acc: 0.9654 - val_loss: 0.7695 - val_acc: 0.7845\n",
      "Epoch 269/350\n",
      "462/462 [==============================] - 1s 1ms/step - loss: 0.1164 - acc: 0.9697 - val_loss: 0.7138 - val_acc: 0.8103\n",
      "Epoch 270/350\n",
      "462/462 [==============================] - 1s 1ms/step - loss: 0.0955 - acc: 0.9762 - val_loss: 0.6515 - val_acc: 0.8362\n",
      "Epoch 271/350\n",
      "462/462 [==============================] - 1s 1ms/step - loss: 0.0840 - acc: 0.9740 - val_loss: 0.7067 - val_acc: 0.8534\n",
      "Epoch 272/350\n",
      "462/462 [==============================] - 1s 1ms/step - loss: 0.1088 - acc: 0.9697 - val_loss: 0.7787 - val_acc: 0.8103\n",
      "Epoch 273/350\n",
      "462/462 [==============================] - 1s 1ms/step - loss: 0.0933 - acc: 0.9719 - val_loss: 0.7781 - val_acc: 0.8103\n",
      "Epoch 274/350\n",
      "462/462 [==============================] - 1s 1ms/step - loss: 0.0817 - acc: 0.9805 - val_loss: 0.7656 - val_acc: 0.8103\n",
      "Epoch 275/350\n",
      "462/462 [==============================] - 1s 1ms/step - loss: 0.0955 - acc: 0.9697 - val_loss: 0.7640 - val_acc: 0.8103\n",
      "Epoch 276/350\n",
      "462/462 [==============================] - 1s 1ms/step - loss: 0.1381 - acc: 0.9654 - val_loss: 0.9160 - val_acc: 0.7672\n",
      "Epoch 277/350\n",
      "462/462 [==============================] - 1s 1ms/step - loss: 0.1534 - acc: 0.9654 - val_loss: 0.9248 - val_acc: 0.7759\n",
      "Epoch 278/350\n",
      "462/462 [==============================] - 1s 2ms/step - loss: 0.0862 - acc: 0.9719 - val_loss: 0.8320 - val_acc: 0.7845\n",
      "Epoch 279/350\n",
      "462/462 [==============================] - 1s 1ms/step - loss: 0.1025 - acc: 0.9589 - val_loss: 0.9325 - val_acc: 0.7759\n",
      "Epoch 280/350\n",
      "462/462 [==============================] - 1s 1ms/step - loss: 0.1146 - acc: 0.9589 - val_loss: 0.8070 - val_acc: 0.8103\n",
      "Epoch 281/350\n",
      "462/462 [==============================] - 1s 1ms/step - loss: 0.0726 - acc: 0.9762 - val_loss: 0.7854 - val_acc: 0.7672\n",
      "Epoch 282/350\n",
      "462/462 [==============================] - 1s 1ms/step - loss: 0.0777 - acc: 0.9762 - val_loss: 0.7592 - val_acc: 0.8190\n",
      "Epoch 283/350\n",
      "462/462 [==============================] - 1s 1ms/step - loss: 0.1004 - acc: 0.9740 - val_loss: 0.7512 - val_acc: 0.8276\n",
      "Epoch 284/350\n",
      "462/462 [==============================] - 1s 1ms/step - loss: 0.0733 - acc: 0.9848 - val_loss: 0.6853 - val_acc: 0.8448\n",
      "Epoch 285/350\n",
      "462/462 [==============================] - 1s 1ms/step - loss: 0.0740 - acc: 0.9784 - val_loss: 0.7041 - val_acc: 0.8103\n",
      "Epoch 286/350\n",
      "462/462 [==============================] - 1s 1ms/step - loss: 0.0765 - acc: 0.9762 - val_loss: 0.7191 - val_acc: 0.8103\n",
      "Epoch 287/350\n",
      "462/462 [==============================] - 1s 1ms/step - loss: 0.0521 - acc: 0.9892 - val_loss: 0.6490 - val_acc: 0.8448\n",
      "Epoch 288/350\n",
      "462/462 [==============================] - 1s 2ms/step - loss: 0.0718 - acc: 0.9762 - val_loss: 0.7066 - val_acc: 0.8190\n",
      "Epoch 289/350\n",
      "462/462 [==============================] - 1s 1ms/step - loss: 0.0671 - acc: 0.9740 - val_loss: 0.7159 - val_acc: 0.8362\n",
      "Epoch 290/350\n",
      "462/462 [==============================] - 1s 1ms/step - loss: 0.0629 - acc: 0.9784 - val_loss: 0.7048 - val_acc: 0.8017\n",
      "Epoch 291/350\n",
      "462/462 [==============================] - 1s 2ms/step - loss: 0.0614 - acc: 0.9827 - val_loss: 0.7217 - val_acc: 0.8103\n",
      "Epoch 292/350\n",
      "462/462 [==============================] - 1s 1ms/step - loss: 0.0939 - acc: 0.9675 - val_loss: 0.8153 - val_acc: 0.7931\n",
      "Epoch 293/350\n",
      "462/462 [==============================] - 1s 1ms/step - loss: 0.1620 - acc: 0.9502 - val_loss: 0.8665 - val_acc: 0.8362\n",
      "Epoch 294/350\n",
      "462/462 [==============================] - 1s 1ms/step - loss: 0.2360 - acc: 0.9221 - val_loss: 0.9827 - val_acc: 0.7845\n",
      "Epoch 295/350\n",
      "462/462 [==============================] - 1s 1ms/step - loss: 0.1858 - acc: 0.9372 - val_loss: 0.8847 - val_acc: 0.8017\n",
      "Epoch 296/350\n",
      "462/462 [==============================] - 1s 1ms/step - loss: 0.1390 - acc: 0.9589 - val_loss: 0.9653 - val_acc: 0.7845\n",
      "Epoch 297/350\n",
      "462/462 [==============================] - 1s 1ms/step - loss: 0.1150 - acc: 0.9697 - val_loss: 0.9190 - val_acc: 0.7672\n",
      "Epoch 298/350\n",
      "462/462 [==============================] - 1s 1ms/step - loss: 0.0918 - acc: 0.9697 - val_loss: 0.8597 - val_acc: 0.7845\n",
      "Epoch 299/350\n",
      "462/462 [==============================] - 1s 1ms/step - loss: 0.1053 - acc: 0.9675 - val_loss: 0.8729 - val_acc: 0.8017\n",
      "Epoch 300/350\n",
      "462/462 [==============================] - 1s 1ms/step - loss: 0.1147 - acc: 0.9675 - val_loss: 0.8356 - val_acc: 0.7931\n",
      "Epoch 301/350\n",
      "462/462 [==============================] - 1s 1ms/step - loss: 0.0877 - acc: 0.9719 - val_loss: 0.8672 - val_acc: 0.7931\n",
      "Epoch 302/350\n",
      "462/462 [==============================] - 1s 1ms/step - loss: 0.0693 - acc: 0.9740 - val_loss: 0.8297 - val_acc: 0.8190\n",
      "Epoch 303/350\n",
      "462/462 [==============================] - 1s 1ms/step - loss: 0.0663 - acc: 0.9784 - val_loss: 0.8342 - val_acc: 0.8190\n"
     ]
    },
    {
     "name": "stdout",
     "output_type": "stream",
     "text": [
      "Epoch 304/350\n",
      "462/462 [==============================] - 1s 1ms/step - loss: 0.0633 - acc: 0.9762 - val_loss: 0.9650 - val_acc: 0.7931\n",
      "Epoch 305/350\n",
      "462/462 [==============================] - 1s 1ms/step - loss: 0.0765 - acc: 0.9762 - val_loss: 0.8502 - val_acc: 0.8276\n",
      "Epoch 306/350\n",
      "462/462 [==============================] - 1s 2ms/step - loss: 0.0872 - acc: 0.9719 - val_loss: 0.8878 - val_acc: 0.7845\n",
      "Epoch 307/350\n",
      "462/462 [==============================] - 1s 1ms/step - loss: 0.0720 - acc: 0.9740 - val_loss: 0.9283 - val_acc: 0.8103\n",
      "Epoch 308/350\n",
      "462/462 [==============================] - 1s 2ms/step - loss: 0.0744 - acc: 0.9805 - val_loss: 0.9048 - val_acc: 0.8103\n",
      "Epoch 309/350\n",
      "462/462 [==============================] - 1s 1ms/step - loss: 0.0686 - acc: 0.9740 - val_loss: 0.8210 - val_acc: 0.8276\n",
      "Epoch 310/350\n",
      "462/462 [==============================] - 1s 1ms/step - loss: 0.0627 - acc: 0.9762 - val_loss: 0.8284 - val_acc: 0.7931\n",
      "Epoch 311/350\n",
      "462/462 [==============================] - 1s 2ms/step - loss: 0.1095 - acc: 0.9762 - val_loss: 0.7431 - val_acc: 0.8448\n",
      "Epoch 312/350\n",
      "462/462 [==============================] - 1s 1ms/step - loss: 0.0910 - acc: 0.9740 - val_loss: 0.8556 - val_acc: 0.8190\n",
      "Epoch 313/350\n",
      "462/462 [==============================] - 1s 1ms/step - loss: 0.1021 - acc: 0.9697 - val_loss: 0.9050 - val_acc: 0.7845\n",
      "Epoch 314/350\n",
      "462/462 [==============================] - 1s 1ms/step - loss: 0.0616 - acc: 0.9827 - val_loss: 0.8023 - val_acc: 0.8276\n",
      "Epoch 315/350\n",
      "462/462 [==============================] - 1s 1ms/step - loss: 0.0683 - acc: 0.9762 - val_loss: 0.9013 - val_acc: 0.8017\n",
      "Epoch 316/350\n",
      "462/462 [==============================] - 1s 1ms/step - loss: 0.0822 - acc: 0.9675 - val_loss: 0.8603 - val_acc: 0.8103\n",
      "Epoch 317/350\n",
      "462/462 [==============================] - 1s 1ms/step - loss: 0.0730 - acc: 0.9805 - val_loss: 0.7713 - val_acc: 0.8017\n",
      "Epoch 318/350\n",
      "462/462 [==============================] - 1s 1ms/step - loss: 0.0702 - acc: 0.9827 - val_loss: 0.7804 - val_acc: 0.8448\n",
      "Epoch 319/350\n",
      "462/462 [==============================] - 1s 1ms/step - loss: 0.0872 - acc: 0.9740 - val_loss: 0.7205 - val_acc: 0.8362\n",
      "Epoch 320/350\n",
      "462/462 [==============================] - 1s 1ms/step - loss: 0.0421 - acc: 0.9848 - val_loss: 0.8395 - val_acc: 0.8103\n",
      "Epoch 321/350\n",
      "462/462 [==============================] - 1s 1ms/step - loss: 0.0473 - acc: 0.9848 - val_loss: 0.7901 - val_acc: 0.8190\n",
      "Epoch 322/350\n",
      "462/462 [==============================] - 1s 1ms/step - loss: 0.0611 - acc: 0.9805 - val_loss: 0.8326 - val_acc: 0.8190\n",
      "Epoch 323/350\n",
      "462/462 [==============================] - 1s 1ms/step - loss: 0.0692 - acc: 0.9784 - val_loss: 0.8173 - val_acc: 0.7845\n",
      "Epoch 324/350\n",
      "462/462 [==============================] - 1s 1ms/step - loss: 0.0638 - acc: 0.9827 - val_loss: 0.8096 - val_acc: 0.8103\n",
      "Epoch 325/350\n",
      "462/462 [==============================] - 1s 1ms/step - loss: 0.0566 - acc: 0.9827 - val_loss: 0.7995 - val_acc: 0.8276\n",
      "Epoch 326/350\n",
      "462/462 [==============================] - 1s 2ms/step - loss: 0.0398 - acc: 0.9913 - val_loss: 0.8004 - val_acc: 0.8276\n",
      "Epoch 327/350\n",
      "462/462 [==============================] - 1s 1ms/step - loss: 0.0788 - acc: 0.9827 - val_loss: 0.8647 - val_acc: 0.8017\n",
      "Epoch 328/350\n",
      "462/462 [==============================] - 1s 1ms/step - loss: 0.0739 - acc: 0.9827 - val_loss: 0.9133 - val_acc: 0.7845\n",
      "Epoch 329/350\n",
      "462/462 [==============================] - 1s 2ms/step - loss: 0.0528 - acc: 0.9827 - val_loss: 0.7767 - val_acc: 0.8362\n",
      "Epoch 330/350\n",
      "462/462 [==============================] - 1s 1ms/step - loss: 0.0661 - acc: 0.9805 - val_loss: 0.8254 - val_acc: 0.8276\n",
      "Epoch 331/350\n",
      "462/462 [==============================] - 1s 1ms/step - loss: 0.0628 - acc: 0.9805 - val_loss: 0.7829 - val_acc: 0.8362\n",
      "Epoch 332/350\n",
      "462/462 [==============================] - 1s 1ms/step - loss: 0.0746 - acc: 0.9848 - val_loss: 0.7673 - val_acc: 0.8190\n",
      "Epoch 333/350\n",
      "462/462 [==============================] - 1s 1ms/step - loss: 0.1258 - acc: 0.9589 - val_loss: 0.8201 - val_acc: 0.8017\n",
      "Epoch 334/350\n",
      "462/462 [==============================] - 1s 1ms/step - loss: 0.1225 - acc: 0.9545 - val_loss: 0.7238 - val_acc: 0.8276\n",
      "Epoch 335/350\n",
      "462/462 [==============================] - 1s 1ms/step - loss: 0.0562 - acc: 0.9827 - val_loss: 0.7560 - val_acc: 0.8017\n",
      "Epoch 336/350\n",
      "462/462 [==============================] - 1s 1ms/step - loss: 0.0713 - acc: 0.9740 - val_loss: 0.7552 - val_acc: 0.8190\n",
      "Epoch 337/350\n",
      "462/462 [==============================] - 1s 1ms/step - loss: 0.0637 - acc: 0.9784 - val_loss: 0.7575 - val_acc: 0.8534\n",
      "Epoch 338/350\n",
      "462/462 [==============================] - 1s 1ms/step - loss: 0.0410 - acc: 0.9870 - val_loss: 0.8895 - val_acc: 0.8534\n",
      "Epoch 339/350\n",
      "462/462 [==============================] - 1s 1ms/step - loss: 0.1014 - acc: 0.9719 - val_loss: 0.9238 - val_acc: 0.7931\n",
      "Epoch 340/350\n",
      "462/462 [==============================] - 1s 1ms/step - loss: 0.0882 - acc: 0.9740 - val_loss: 0.8100 - val_acc: 0.8103\n",
      "Epoch 341/350\n",
      "462/462 [==============================] - 1s 1ms/step - loss: 0.0599 - acc: 0.9784 - val_loss: 0.9446 - val_acc: 0.8190\n",
      "Epoch 342/350\n",
      "462/462 [==============================] - 1s 1ms/step - loss: 0.0598 - acc: 0.9784 - val_loss: 0.8643 - val_acc: 0.8017\n",
      "Epoch 343/350\n",
      "462/462 [==============================] - 1s 1ms/step - loss: 0.0939 - acc: 0.9762 - val_loss: 0.8048 - val_acc: 0.8276\n",
      "Epoch 344/350\n",
      "462/462 [==============================] - 1s 1ms/step - loss: 0.0890 - acc: 0.9675 - val_loss: 0.9550 - val_acc: 0.7845\n",
      "Epoch 345/350\n",
      "462/462 [==============================] - 1s 1ms/step - loss: 0.1020 - acc: 0.9697 - val_loss: 0.9881 - val_acc: 0.7931\n",
      "Epoch 346/350\n",
      "462/462 [==============================] - 1s 1ms/step - loss: 0.0640 - acc: 0.9762 - val_loss: 0.8807 - val_acc: 0.8276\n",
      "Epoch 347/350\n",
      "462/462 [==============================] - 1s 1ms/step - loss: 0.0601 - acc: 0.9848 - val_loss: 1.0390 - val_acc: 0.7931\n",
      "Epoch 348/350\n",
      "462/462 [==============================] - 1s 1ms/step - loss: 0.0732 - acc: 0.9805 - val_loss: 0.9363 - val_acc: 0.8103\n",
      "Epoch 349/350\n",
      "462/462 [==============================] - 1s 1ms/step - loss: 0.0964 - acc: 0.9719 - val_loss: 0.8676 - val_acc: 0.8621\n",
      "Epoch 350/350\n",
      "462/462 [==============================] - 1s 1ms/step - loss: 0.0553 - acc: 0.9827 - val_loss: 0.9346 - val_acc: 0.8103\n"
     ]
    }
   ],
   "source": [
    "### Ordinary CNN ###\n",
    "history = acm_model.fit( X_train  , Y_train, epochs = 350, batch_size = 32, validation_data=( X_test, Y_test))\n",
    "\n",
    "### When using Multiple inputs ###\n",
    "### For multi input CNN using list of input arrays  ###\n",
    "# history = acm_model.fit([ X_train, X_train, X_train]  , Y_train, epochs = 300, batch_size = 32, validation_data=([X_test, X_test, X_test], Y_test))\n",
    "\n"
   ]
  },
  {
   "cell_type": "markdown",
   "metadata": {},
   "source": [
    "batch_size = 128\n",
    "epochs = 10\n",
    "acm_model.fit(X_train, Y_train,\n",
    "          batch_size=batch_size,\n",
    "          epochs=epochs,\n",
    "          verbose=1,\n",
    "          validation_data=(X_test, Y_test))\n",
    "          \n",
    "model.summary()"
   ]
  },
  {
   "cell_type": "code",
   "execution_count": 448,
   "metadata": {},
   "outputs": [
    {
     "name": "stdout",
     "output_type": "stream",
     "text": [
      "dict_keys(['val_loss', 'val_acc', 'loss', 'acc'])\n"
     ]
    },
    {
     "data": {
      "image/png": "[encoded data removed]",
      "text/plain": [
       "<Figure size 576x576 with 1 Axes>"
      ]
     },
     "metadata": {
      "needs_background": "light"
     },
     "output_type": "display_data"
    },
    {
     "data": {
      "image/png": "[encoded data removed]",
      "text/plain": [
       "<Figure size 576x576 with 1 Axes>"
      ]
     },
     "metadata": {
      "needs_background": "light"
     },
     "output_type": "display_data"
    }
   ],
   "source": [
    "print(history.history.keys())\n",
    "# summarize history for accuracy\n",
    "plt.plot(history.history['acc'])\n",
    "plt.plot(history.history['val_acc'])\n",
    "plt.title('model accuracy')\n",
    "plt.ylabel('accuracy') \n",
    "plt.xlabel('epoch')\n",
    "plt.legend(['train', 'test'], loc='upper left')\n",
    "plt.show()\n",
    "# summarize history for loss\n",
    "plt.plot(history.history['loss'])\n",
    "plt.plot(history.history['val_loss'])\n",
    "plt.title('model loss')\n",
    "plt.ylabel('loss')\n",
    "plt.xlabel('epoch')\n",
    "plt.legend(['train', 'test'], loc='upper left')\n",
    "plt.show()"
   ]
  },
  {
   "cell_type": "markdown",
   "metadata": {},
   "source": [
    "### 5.5 Model Summary"
   ]
  },
  {
   "cell_type": "code",
   "execution_count": 449,
   "metadata": {},
   "outputs": [
    {
     "name": "stdout",
     "output_type": "stream",
     "text": [
      "_________________________________________________________________\n",
      "Layer (type)                 Output Shape              Param #   \n",
      "=================================================================\n",
      "conv1d_72 (Conv1D)           (None, 92, 64)            14464     \n",
      "_________________________________________________________________\n",
      "conv1d_73 (Conv1D)           (None, 90, 64)            12352     \n",
      "_________________________________________________________________\n",
      "dropout_64 (Dropout)         (None, 90, 64)            0         \n",
      "_________________________________________________________________\n",
      "max_pooling1d_53 (MaxPooling (None, 45, 64)            0         \n",
      "_________________________________________________________________\n",
      "dropout_65 (Dropout)         (None, 45, 64)            0         \n",
      "_________________________________________________________________\n",
      "flatten_47 (Flatten)         (None, 2880)              0         \n",
      "_________________________________________________________________\n",
      "dense_57 (Dense)             (None, 100)               288100    \n",
      "_________________________________________________________________\n",
      "dense_58 (Dense)             (None, 13)                1313      \n",
      "=================================================================\n",
      "Total params: 316,229\n",
      "Trainable params: 316,229\n",
      "Non-trainable params: 0\n",
      "_________________________________________________________________\n"
     ]
    }
   ],
   "source": [
    "acm_model.summary()"
   ]
  },
  {
   "cell_type": "markdown",
   "metadata": {},
   "source": [
    "### 5.6 Accuracy on Test data"
   ]
  },
  {
   "cell_type": "code",
   "execution_count": 450,
   "metadata": {},
   "outputs": [
    {
     "name": "stdout",
     "output_type": "stream",
     "text": [
      "116/116 [==============================] - 0s 636us/step\n",
      "\n",
      "Loss = 0.9346209702820614\n",
      "Test Accuracy = 0.8103448296415394\n"
     ]
    }
   ],
   "source": [
    "preds = acm_model.evaluate(x=X_test, y=Y_test)\n",
    "\n",
    "print()\n",
    "print(\"Loss = \" + str(preds[0]))\n",
    "print(\"Test Accuracy = \" + str(preds[1]))"
   ]
  },
  {
   "cell_type": "markdown",
   "metadata": {},
   "source": [
    "### 5.7 Predict on Test data"
   ]
  },
  {
   "cell_type": "code",
   "execution_count": 451,
   "metadata": {
    "scrolled": true
   },
   "outputs": [
    {
     "name": "stdout",
     "output_type": "stream",
     "text": [
      "Shape of X_test: (116, 96, 45)\n",
      "Shape of Y_predict: (116,)\n",
      "Shape of Y_test: (116, 13)\n",
      "Shape of Y_test (back from one-hot): (116,)\n"
     ]
    }
   ],
   "source": [
    "# Predict on test set (X_test)\n",
    "print(\"Shape of X_test:\", X_test.shape)\n",
    "\n",
    "Y_predict = acm_model.predict_classes(X_test)\n",
    "\n",
    "print(\"Shape of Y_predict:\", Y_predict.shape)\n",
    "print(\"Shape of Y_test:\", Y_test.shape)\n",
    "\n",
    "# Convert back from one hot to single integer\n",
    "Y_test = Y_test.argmax(axis=1)\n",
    "print(\"Shape of Y_test (back from one-hot):\", Y_test.shape)"
   ]
  },
  {
   "cell_type": "markdown",
   "metadata": {},
   "source": [
    "## 6. View Cofusion Matrix on Test data\n",
    "\n",
    "This is to see true preformance and to figure out how we can optimize training"
   ]
  },
  {
   "cell_type": "code",
   "execution_count": 452,
   "metadata": {},
   "outputs": [
    {
     "data": {
      "text/plain": [
       "array([[16,  0,  0,  0,  0,  0,  0,  0,  0,  1,  0],\n",
       "       [ 0, 19,  0,  1,  0,  0,  0,  0,  0,  0,  0],\n",
       "       [ 0,  2,  6,  1,  0,  0,  0,  1,  0,  0,  0],\n",
       "       [ 1,  0,  2, 16,  0,  0,  0,  0,  0,  0,  1],\n",
       "       [ 0,  1,  0,  0, 12,  1,  0,  0,  0,  0,  0],\n",
       "       [ 0,  0,  1,  0,  0,  2,  0,  0,  0,  0,  0],\n",
       "       [ 2,  0,  0,  0,  0,  0,  8,  0,  0,  0,  0],\n",
       "       [ 0,  0,  0,  1,  0,  0,  0,  7,  0,  0,  0],\n",
       "       [ 0,  0,  0,  0,  0,  0,  0,  0,  4,  0,  0],\n",
       "       [ 4,  0,  1,  1,  0,  0,  0,  0,  0,  1,  0],\n",
       "       [ 0,  0,  0,  0,  0,  0,  0,  0,  0,  0,  3]], dtype=int64)"
      ]
     },
     "execution_count": 452,
     "metadata": {},
     "output_type": "execute_result"
    }
   ],
   "source": [
    "import matplotlib.pyplot as plt\n",
    "\n",
    "from sklearn.metrics import confusion_matrix\n",
    "from sklearn.utils.multiclass import unique_labels\n",
    "\n",
    "confusion_matrix(Y_test, Y_predict)\n"
   ]
  },
  {
   "cell_type": "code",
   "execution_count": 453,
   "metadata": {},
   "outputs": [],
   "source": [
    "def plot_confusion_matrix(y_true, y_pred, classes,\n",
    "                          normalize=True,\n",
    "                          title=None,\n",
    "                          cmap=plt.cm.Blues):\n",
    "    \"\"\"\n",
    "    This function prints and plots the confusion matrix.\n",
    "    Normalization can be applied by setting `normalize=True`.\n",
    "    \"\"\"\n",
    "    if not title:\n",
    "        if normalize:\n",
    "            title = 'Normalized confusion matrix'\n",
    "        else:\n",
    "            title = 'Confusion matrix, without normalization'\n",
    "\n",
    "    # Compute confusion matrix\n",
    "    cm = confusion_matrix(y_true, y_pred)\n",
    "    # Only use the labels that appear in the data\n",
    "    classes = classes\n",
    "    if normalize:\n",
    "        cm = cm.astype('float') / cm.sum(axis=1)[:, np.newaxis]\n",
    "        print(\"Normalized confusion matrix\")\n",
    "    else:\n",
    "        print('Confusion matrix, without normalization')\n",
    "\n",
    "    print(cm)\n",
    "\n",
    "    fig, ax = plt.subplots()\n",
    "    im = ax.imshow(cm, interpolation='nearest', cmap=cmap)\n",
    "    ax.figure.colorbar(im, ax=ax)\n",
    "    # We want to show all ticks...\n",
    "    ax.set(xticks=np.arange(cm.shape[1]),\n",
    "           yticks=np.arange(cm.shape[0]),\n",
    "           # ... and label them with the respective list entries\n",
    "           xticklabels=classes, yticklabels=classes,\n",
    "           title=title,\n",
    "           ylabel='True label',\n",
    "           xlabel='Predicted label')\n",
    "\n",
    "    # Rotate the tick labels and set their alignment.\n",
    "    plt.setp(ax.get_xticklabels(), rotation=45, ha=\"right\",\n",
    "             rotation_mode=\"anchor\")\n",
    "\n",
    "    # Loop over data dimensions and create text annotations.\n",
    "    fmt = '.2f' if normalize else 'd'\n",
    "    thresh = cm.max() / 2.\n",
    "    for i in range(cm.shape[0]):\n",
    "        for j in range(cm.shape[1]):\n",
    "            ax.text(j, i, format(cm[i, j], fmt),\n",
    "                    ha=\"center\", va=\"center\",\n",
    "                    color=\"white\" if cm[i, j] > thresh else \"black\")\n",
    "    #fig.tight_layout()\n",
    "    plt.rcParams[\"figure.figsize\"] = (8,6)\n",
    "    return ax\n"
   ]
  },
  {
   "cell_type": "code",
   "execution_count": 454,
   "metadata": {
    "scrolled": true
   },
   "outputs": [
    {
     "name": "stdout",
     "output_type": "stream",
     "text": [
      "Unique labels are: [ 0.  1.  2.  3.  5.  7.  8.  9. 10. 11. 12.]\n",
      "Confusion matrix, without normalization\n",
      "[[16  0  0  0  0  0  0  0  0  1  0]\n",
      " [ 0 19  0  1  0  0  0  0  0  0  0]\n",
      " [ 0  2  6  1  0  0  0  1  0  0  0]\n",
      " [ 1  0  2 16  0  0  0  0  0  0  1]\n",
      " [ 0  1  0  0 12  1  0  0  0  0  0]\n",
      " [ 0  0  1  0  0  2  0  0  0  0  0]\n",
      " [ 2  0  0  0  0  0  8  0  0  0  0]\n",
      " [ 0  0  0  1  0  0  0  7  0  0  0]\n",
      " [ 0  0  0  0  0  0  0  0  4  0  0]\n",
      " [ 4  0  1  1  0  0  0  0  0  1  0]\n",
      " [ 0  0  0  0  0  0  0  0  0  0  3]]\n",
      "Normalized confusion matrix\n",
      "[[0.94117647 0.         0.         0.         0.         0.\n",
      "  0.         0.         0.         0.05882353 0.        ]\n",
      " [0.         0.95       0.         0.05       0.         0.\n",
      "  0.         0.         0.         0.         0.        ]\n",
      " [0.         0.2        0.6        0.1        0.         0.\n",
      "  0.         0.1        0.         0.         0.        ]\n",
      " [0.05       0.         0.1        0.8        0.         0.\n",
      "  0.         0.         0.         0.         0.05      ]\n",
      " [0.         0.07142857 0.         0.         0.85714286 0.07142857\n",
      "  0.         0.         0.         0.         0.        ]\n",
      " [0.         0.         0.33333333 0.         0.         0.66666667\n",
      "  0.         0.         0.         0.         0.        ]\n",
      " [0.2        0.         0.         0.         0.         0.\n",
      "  0.8        0.         0.         0.         0.        ]\n",
      " [0.         0.         0.         0.125      0.         0.\n",
      "  0.         0.875      0.         0.         0.        ]\n",
      " [0.         0.         0.         0.         0.         0.\n",
      "  0.         0.         1.         0.         0.        ]\n",
      " [0.57142857 0.         0.14285714 0.14285714 0.         0.\n",
      "  0.         0.         0.         0.14285714 0.        ]\n",
      " [0.         0.         0.         0.         0.         0.\n",
      "  0.         0.         0.         0.         1.        ]]\n",
      " \n",
      "\n",
      "0. \"OK\"\n",
      "1. \"The antenna is Unstable.\"\n",
      "2. \"Rain and Wet Snow.\"\n",
      "3. \"Affected by Rain.\" \n",
      "\n",
      "4. \"Line of sight or Alignment problem.\" (Not used)\n",
      "5. \"Serious Line of sight or Alignment problem.\"\n",
      "6. \"Intermittent Line of sight problem.\" (Not used for now)\n",
      "\n",
      "7. \"The link is stuck on low modulation.\"\n",
      "\n",
      "8. \"Equipment problem.\" \n",
      "\n",
      "9. \"Out of service detected.\"\n",
      "10. \"Limited data. Cannot do reliable predictions.\"\n",
      "11. \"A hardware restart was detected within this 24h period.\"\n",
      "\n",
      "12. \"The link is stuck on mid modulation.\"\n",
      "\n",
      "\n",
      "\n"
     ]
    },
    {
     "data": {
      "image/png": "[encoded data removed]",
      "text/plain": [
       "<Figure size 576x576 with 2 Axes>"
      ]
     },
     "metadata": {
      "needs_background": "light"
     },
     "output_type": "display_data"
    },
    {
     "data": {
      "image/png": "[encoded data removed]",
      "text/plain": [
       "<Figure size 576x432 with 2 Axes>"
      ]
     },
     "metadata": {
      "needs_background": "light"
     },
     "output_type": "display_data"
    }
   ],
   "source": [
    "U = unique_labels(Y)\n",
    "print(\"Unique labels are:\", U)\n",
    "\n",
    "# Call function to plot confusion matrix\n",
    "plot_confusion_matrix(Y_test, Y_predict,U,normalize=False,title=None,cmap=plt.cm.Blues)\n",
    "plot_confusion_matrix(Y_test, Y_predict,U,normalize=True,title=None,cmap=plt.cm.Blues)\n",
    "\n",
    "print(\"\"\" \n",
    "\n",
    "0. \"OK\"\n",
    "1. \"The antenna is Unstable.\"\n",
    "2. \"Rain and Wet Snow.\"\n",
    "3. \"Affected by Rain.\" \n",
    "\n",
    "4. \"Line of sight or Alignment problem.\" (Not used)\n",
    "5. \"Serious Line of sight or Alignment problem.\"\n",
    "6. \"Intermittent Line of sight problem.\" (Not used for now)\n",
    "\n",
    "7. \"The link is stuck on low modulation.\"\n",
    "\n",
    "8. \"Equipment problem.\" \n",
    "\n",
    "9. \"Out of service detected.\"\n",
    "10. \"Limited data. Cannot do reliable predictions.\"\n",
    "11. \"A hardware restart was detected within this 24h period.\"\n",
    "\n",
    "12. \"The link is stuck on mid modulation.\"\n",
    "\n",
    "\n",
    "\"\"\")\n",
    "\n",
    "\n"
   ]
  },
  {
   "cell_type": "markdown",
   "metadata": {},
   "source": [
    "# Save Model"
   ]
  },
  {
   "cell_type": "code",
   "execution_count": 385,
   "metadata": {},
   "outputs": [],
   "source": [
    "acm_model.save_weights('Eband_Model_CNN_96_24h_weights.h5')\n",
    "\n",
    "acm_model.save ('Eband_Model_CNN_96_24h.h5') # creates a HDF5 file\n"
   ]
  },
  {
   "cell_type": "code",
   "execution_count": 386,
   "metadata": {},
   "outputs": [
    {
     "name": "stdout",
     "output_type": "stream",
     "text": [
      "Training of Eband_Model_CNN_96_24h is finished :) \n"
     ]
    }
   ],
   "source": [
    "print(\"Training of Eband_Model_CNN_96_24h is finished :) \")"
   ]
  },
  {
   "cell_type": "code",
   "execution_count": null,
   "metadata": {},
   "outputs": [],
   "source": []
  },
  {
   "cell_type": "code",
   "execution_count": null,
   "metadata": {},
   "outputs": [],
   "source": []
  },
  {
   "cell_type": "code",
   "execution_count": null,
   "metadata": {},
   "outputs": [],
   "source": []
  },
  {
   "cell_type": "code",
   "execution_count": null,
   "metadata": {},
   "outputs": [],
   "source": []
  }
 ],
 "metadata": {
  "kernelspec": {
   "display_name": "Python 3",
   "language": "python",
   "name": "python3"
  },
  "language_info": {
   "codemirror_mode": {
    "name": "ipython",
    "version": 3
   },
   "file_extension": ".py",
   "mimetype": "text/x-python",
   "name": "python",
   "nbconvert_exporter": "python",
   "pygments_lexer": "ipython3",
   "version": "3.7.3"
  }
 },
 "nbformat": 4,
 "nbformat_minor": 2
}
